{
 "cells": [
  {
   "cell_type": "code",
   "execution_count": 1,
   "metadata": {
    "executionInfo": {
     "elapsed": 671,
     "status": "ok",
     "timestamp": 1606602086426,
     "user": {
      "displayName": "Wesley Oke",
      "photoUrl": "https://lh3.googleusercontent.com/a-/AOh14GjOGPxN8biLCGhPVIHe3D7qE2skvDMxE_aIkSCpfPg=s64",
      "userId": "09899504844355329451"
     },
     "user_tz": 300
    },
    "id": "u9Rg9sfs2h7Y"
   },
   "outputs": [],
   "source": [
    "import pandas as pd\n",
    "import numpy as np\n",
    "import matplotlib.pyplot as plt\n",
    "plt.style.use('bmh')\n",
    "from sklearn.model_selection import train_test_split\n",
    "from sklearn.metrics import mean_squared_error\n",
    "from sklearn.linear_model import LinearRegression\n",
    "import statsmodels.api as sm\n",
    "from sklearn.ensemble import RandomForestRegressor\n",
    "from sklearn.model_selection import GridSearchCV\n",
    "from sklearn.neural_network import MLPRegressor"
   ]
  },
  {
   "cell_type": "markdown",
   "metadata": {},
   "source": [
    "Author: Group 14"
   ]
  },
  {
   "cell_type": "markdown",
   "metadata": {
    "id": "KebWLlcB2h7Z"
   },
   "source": [
    "# Introduction\n",
    "## Can Machine Learning predict how neighbourhoods will be impacted by COVID?\n",
    "\n",
    "Approach:\n",
    "1. Calculate the total number of COVID cases for each neighbourhood.\n",
    "2. Identify or create appropriate neighbourhoood features that might impact the number of cases (density, wealth, age data, etc).\n",
    "3. Apply linear regression, to determine how the various neighbourhood features (risk factors) that impact the number of COVID in the neighbourhood.\n",
    "4. Apply neural networks and random forests to determine how well they can predict the number of cases in each neighbourhood."
   ]
  },
  {
   "cell_type": "markdown",
   "metadata": {},
   "source": [
    "# Data Preparation"
   ]
  },
  {
   "cell_type": "markdown",
   "metadata": {
    "executionInfo": {
     "elapsed": 1542,
     "status": "ok",
     "timestamp": 1606602087381,
     "user": {
      "displayName": "Wesley Oke",
      "photoUrl": "https://lh3.googleusercontent.com/a-/AOh14GjOGPxN8biLCGhPVIHe3D7qE2skvDMxE_aIkSCpfPg=s64",
      "userId": "09899504844355329451"
     },
     "user_tz": 300
    },
    "id": "Pme9HGgZ2h7d"
   },
   "source": [
    "## Neighbourhood data\n",
    "Load Toronto 2016 Neighbourhood data"
   ]
  },
  {
   "cell_type": "code",
   "execution_count": 2,
   "metadata": {
    "executionInfo": {
     "elapsed": 1538,
     "status": "ok",
     "timestamp": 1606602087382,
     "user": {
      "displayName": "Wesley Oke",
      "photoUrl": "https://lh3.googleusercontent.com/a-/AOh14GjOGPxN8biLCGhPVIHe3D7qE2skvDMxE_aIkSCpfPg=s64",
      "userId": "09899504844355329451"
     },
     "user_tz": 300
    },
    "id": "B79Z6R192h7d"
   },
   "outputs": [],
   "source": [
    "git = 'https://raw.githubusercontent.com/oke-w/covid/main/neighbourhood-profiles-2016-cleaned-short.csv'\n",
    "nbhd = pd.read_csv(git, header=[2], index_col=[1], thousands=',')\n",
    "nbhd.drop('Characteristic', axis = 1, inplace=True)\n",
    "nbhd.drop('City of Toronto', inplace=True)\n",
    "nbhd.sort_index(inplace=True)\n",
    "#nbhd.rename(columns={'Neighbourhood Name':'Neighbourhood'}, inplace=True)\n",
    "#nbhd.rename(columns={'Population, 2016':'Population'}, inplace=True)"
   ]
  },
  {
   "cell_type": "code",
   "execution_count": 3,
   "metadata": {
    "colab": {
     "base_uri": "https://localhost:8080/"
    },
    "executionInfo": {
     "elapsed": 1660,
     "status": "ok",
     "timestamp": 1606602087511,
     "user": {
      "displayName": "Wesley Oke",
      "photoUrl": "https://lh3.googleusercontent.com/a-/AOh14GjOGPxN8biLCGhPVIHe3D7qE2skvDMxE_aIkSCpfPg=s64",
      "userId": "09899504844355329451"
     },
     "user_tz": 300
    },
    "id": "4zT0wsOX2h7d",
    "outputId": "2870c1ea-fce6-4038-b31b-f0134d0f3e47"
   },
   "outputs": [
    {
     "name": "stdout",
     "output_type": "stream",
     "text": [
      "<class 'pandas.core.frame.DataFrame'>\n",
      "Index: 140 entries, Agincourt North to Yorkdale-Glen Park\n",
      "Data columns (total 38 columns):\n",
      " #   Column                                                               Non-Null Count  Dtype  \n",
      "---  ------                                                               --------------  -----  \n",
      " 0   Population, 2016                                                     140 non-null    int64  \n",
      " 1   Population density per square kilometre                              140 non-null    int64  \n",
      " 2    Average household size                                              140 non-null    float64\n",
      " 3     Average after-tax income of households in 2015 ($)                 140 non-null    int64  \n",
      " 4   Children (0-14 years)                                                140 non-null    int64  \n",
      " 5   Youth (15-24 years)                                                  140 non-null    int64  \n",
      " 6   Working Age (25-54 years)                                            140 non-null    int64  \n",
      " 7   Pre-retirement (55-64 years)                                         140 non-null    int64  \n",
      " 8   Seniors (65+ years)                                                  140 non-null    int64  \n",
      " 9   Older Seniors (85+ years)                                            140 non-null    int64  \n",
      " 10    Single-detached house                                              140 non-null    int64  \n",
      " 11    Apartment in a building that has five or more storeys              140 non-null    int64  \n",
      " 12    Other attached dwelling                                            140 non-null    int64  \n",
      " 13    1 person                                                           140 non-null    int64  \n",
      " 14    2 persons                                                          140 non-null    int64  \n",
      " 15    3 persons                                                          140 non-null    int64  \n",
      " 16    4 persons                                                          140 non-null    int64  \n",
      " 17    5 or more persons                                                  140 non-null    int64  \n",
      " 18    In the bottom half of the distribution                             140 non-null    int64  \n",
      " 19  In low income based on the Low-income cut-offs, after tax (LICO-AT)  140 non-null    int64  \n",
      " 20    Under $5,000                                                       140 non-null    int64  \n",
      " 21    $5,000 to $9,999                                                   140 non-null    int64  \n",
      " 22    $10,000 to $14,999                                                 140 non-null    int64  \n",
      " 23    $15,000 to $19,999                                                 140 non-null    int64  \n",
      " 24    $20,000 to $24,999                                                 140 non-null    int64  \n",
      " 25    $25,000 to $29,999                                                 140 non-null    int64  \n",
      " 26    $30,000 to $34,999                                                 140 non-null    int64  \n",
      " 27    $35,000 to $39,999                                                 140 non-null    int64  \n",
      " 28    $40,000 to $44,999                                                 140 non-null    int64  \n",
      " 29    $45,000 to $49,999                                                 140 non-null    int64  \n",
      " 30    $50,000 to $59,999                                                 140 non-null    int64  \n",
      " 31    $60,000 to $69,999                                                 140 non-null    int64  \n",
      " 32    $70,000 to $79,999                                                 140 non-null    int64  \n",
      " 33    $80,000 to $89,999                                                 140 non-null    int64  \n",
      " 34    $90,000 to $99,999                                                 140 non-null    int64  \n",
      " 35      $100,000 to $124,999                                             140 non-null    int64  \n",
      " 36      $125,000 to $149,999                                             140 non-null    int64  \n",
      " 37      $150,000 and over                                                140 non-null    int64  \n",
      "dtypes: float64(1), int64(37)\n",
      "memory usage: 42.7+ KB\n"
     ]
    }
   ],
   "source": [
    "nbhd.info()"
   ]
  },
  {
   "cell_type": "code",
   "execution_count": 4,
   "metadata": {
    "colab": {
     "base_uri": "https://localhost:8080/",
     "height": 523
    },
    "executionInfo": {
     "elapsed": 1654,
     "status": "ok",
     "timestamp": 1606602087518,
     "user": {
      "displayName": "Wesley Oke",
      "photoUrl": "https://lh3.googleusercontent.com/a-/AOh14GjOGPxN8biLCGhPVIHe3D7qE2skvDMxE_aIkSCpfPg=s64",
      "userId": "09899504844355329451"
     },
     "user_tz": 300
    },
    "id": "3FPbt05L2h7e",
    "outputId": "7effc5a2-6ae6-40f3-f361-f6a0a4aeefaa"
   },
   "outputs": [
    {
     "data": {
      "text/html": [
       "<div>\n",
       "<style scoped>\n",
       "    .dataframe tbody tr th:only-of-type {\n",
       "        vertical-align: middle;\n",
       "    }\n",
       "\n",
       "    .dataframe tbody tr th {\n",
       "        vertical-align: top;\n",
       "    }\n",
       "\n",
       "    .dataframe thead th {\n",
       "        text-align: right;\n",
       "    }\n",
       "</style>\n",
       "<table border=\"1\" class=\"dataframe\">\n",
       "  <thead>\n",
       "    <tr style=\"text-align: right;\">\n",
       "      <th></th>\n",
       "      <th>Population, 2016</th>\n",
       "      <th>Population density per square kilometre</th>\n",
       "      <th>Average household size</th>\n",
       "      <th>Average after-tax income of households in 2015 ($)</th>\n",
       "      <th>Children (0-14 years)</th>\n",
       "      <th>Youth (15-24 years)</th>\n",
       "      <th>Working Age (25-54 years)</th>\n",
       "      <th>Pre-retirement (55-64 years)</th>\n",
       "      <th>Seniors (65+ years)</th>\n",
       "      <th>Older Seniors (85+ years)</th>\n",
       "      <th>...</th>\n",
       "      <th>$40,000 to $44,999</th>\n",
       "      <th>$45,000 to $49,999</th>\n",
       "      <th>$50,000 to $59,999</th>\n",
       "      <th>$60,000 to $69,999</th>\n",
       "      <th>$70,000 to $79,999</th>\n",
       "      <th>$80,000 to $89,999</th>\n",
       "      <th>$90,000 to $99,999</th>\n",
       "      <th>$100,000 to $124,999</th>\n",
       "      <th>$125,000 to $149,999</th>\n",
       "      <th>$150,000 and over</th>\n",
       "    </tr>\n",
       "    <tr>\n",
       "      <th>Neighbourhood Name</th>\n",
       "      <th></th>\n",
       "      <th></th>\n",
       "      <th></th>\n",
       "      <th></th>\n",
       "      <th></th>\n",
       "      <th></th>\n",
       "      <th></th>\n",
       "      <th></th>\n",
       "      <th></th>\n",
       "      <th></th>\n",
       "      <th></th>\n",
       "      <th></th>\n",
       "      <th></th>\n",
       "      <th></th>\n",
       "      <th></th>\n",
       "      <th></th>\n",
       "      <th></th>\n",
       "      <th></th>\n",
       "      <th></th>\n",
       "      <th></th>\n",
       "      <th></th>\n",
       "    </tr>\n",
       "  </thead>\n",
       "  <tbody>\n",
       "    <tr>\n",
       "      <th>Agincourt North</th>\n",
       "      <td>29113</td>\n",
       "      <td>3929</td>\n",
       "      <td>3.16</td>\n",
       "      <td>427037</td>\n",
       "      <td>3840</td>\n",
       "      <td>3705</td>\n",
       "      <td>11305</td>\n",
       "      <td>4230</td>\n",
       "      <td>6045</td>\n",
       "      <td>925</td>\n",
       "      <td>...</td>\n",
       "      <td>455</td>\n",
       "      <td>475</td>\n",
       "      <td>930</td>\n",
       "      <td>755</td>\n",
       "      <td>695</td>\n",
       "      <td>640</td>\n",
       "      <td>500</td>\n",
       "      <td>935</td>\n",
       "      <td>465</td>\n",
       "      <td>510</td>\n",
       "    </tr>\n",
       "  </tbody>\n",
       "</table>\n",
       "<p>1 rows × 38 columns</p>\n",
       "</div>"
      ],
      "text/plain": [
       "                    Population, 2016  Population density per square kilometre  \\\n",
       "Neighbourhood Name                                                              \n",
       "Agincourt North                29113                                     3929   \n",
       "\n",
       "                     Average household size  \\\n",
       "Neighbourhood Name                            \n",
       "Agincourt North                        3.16   \n",
       "\n",
       "                      Average after-tax income of households in 2015 ($)  \\\n",
       "Neighbourhood Name                                                         \n",
       "Agincourt North                                                427037      \n",
       "\n",
       "                    Children (0-14 years)  Youth (15-24 years)  \\\n",
       "Neighbourhood Name                                               \n",
       "Agincourt North                      3840                 3705   \n",
       "\n",
       "                    Working Age (25-54 years)  Pre-retirement (55-64 years)  \\\n",
       "Neighbourhood Name                                                            \n",
       "Agincourt North                         11305                          4230   \n",
       "\n",
       "                    Seniors (65+ years)  Older Seniors (85+ years)  ...  \\\n",
       "Neighbourhood Name                                                  ...   \n",
       "Agincourt North                    6045                        925  ...   \n",
       "\n",
       "                      $40,000 to $44,999    $45,000 to $49,999  \\\n",
       "Neighbourhood Name                                               \n",
       "Agincourt North                      455                   475   \n",
       "\n",
       "                      $50,000 to $59,999    $60,000 to $69,999  \\\n",
       "Neighbourhood Name                                               \n",
       "Agincourt North                      930                   755   \n",
       "\n",
       "                      $70,000 to $79,999    $80,000 to $89,999  \\\n",
       "Neighbourhood Name                                               \n",
       "Agincourt North                      695                   640   \n",
       "\n",
       "                      $90,000 to $99,999      $100,000 to $124,999  \\\n",
       "Neighbourhood Name                                                   \n",
       "Agincourt North                      500                       935   \n",
       "\n",
       "                        $125,000 to $149,999      $150,000 and over  \n",
       "Neighbourhood Name                                                   \n",
       "Agincourt North                          465                    510  \n",
       "\n",
       "[1 rows x 38 columns]"
      ]
     },
     "execution_count": 4,
     "metadata": {},
     "output_type": "execute_result"
    }
   ],
   "source": [
    "nbhd.head(1)"
   ]
  },
  {
   "cell_type": "code",
   "execution_count": 5,
   "metadata": {},
   "outputs": [],
   "source": [
    "def normalize(data):\n",
    "    return (data - data.min()) / (data.max() - data.min())"
   ]
  },
  {
   "cell_type": "code",
   "execution_count": 6,
   "metadata": {},
   "outputs": [
    {
     "name": "stdout",
     "output_type": "stream",
     "text": [
      "<class 'pandas.core.frame.DataFrame'>\n",
      "Index: 140 entries, Agincourt North to Yorkdale-Glen Park\n",
      "Data columns (total 37 columns):\n",
      " #   Column                                          Non-Null Count  Dtype  \n",
      "---  ------                                          --------------  -----  \n",
      " 0   Population Density                              140 non-null    float64\n",
      " 1   Average Household Size                          140 non-null    float64\n",
      " 2   Fraction of Children (0-14 years)               140 non-null    float64\n",
      " 3   Fraction of Youth (15-24 years)                 140 non-null    float64\n",
      " 4   Fraction of Working Age (25-54 years)           140 non-null    float64\n",
      " 5   Fraction of Pre-retirement (55-64 years)        140 non-null    float64\n",
      " 6   Fraction of Seniors (65+ years)                 140 non-null    float64\n",
      " 7   Fraction of Older Seniors (85+ years)           140 non-null    float64\n",
      " 8   Fraction in Single-detached house               140 non-null    float64\n",
      " 9   Fraction in Apartment buildings (5+ storeys)    140 non-null    float64\n",
      " 10  Fraction in Other attached dwelling             140 non-null    float64\n",
      " 11  Fraction in 1-person Household                  140 non-null    float64\n",
      " 12  Fraction in 2-persons Household                 140 non-null    float64\n",
      " 13  Fraction in 3-person Household                  140 non-null    float64\n",
      " 14  Fraction in 4-person Household                  140 non-null    float64\n",
      " 15  Fraction in 5+ person Household                 140 non-null    float64\n",
      " 16  Fraction in bottom half of Income distribution  140 non-null    float64\n",
      " 17  Fraction in Low-income cut-offs (LICO-AT)       140 non-null    float64\n",
      " 18  Fraction with Income Under $5,000               140 non-null    float64\n",
      " 19  Fraction with Income $5,000 to $9,999           140 non-null    float64\n",
      " 20  Fraction with Income $10,000 to $14,999         140 non-null    float64\n",
      " 21  Fraction with Income $15,000 to $19,999         140 non-null    float64\n",
      " 22  Fraction with Income $20,000 to $24,999         140 non-null    float64\n",
      " 23  Fraction with Income $25,000 to $29,999         140 non-null    float64\n",
      " 24  Fraction with Income $30,000 to $34,999         140 non-null    float64\n",
      " 25  Fraction with Income $35,000 to $39,999         140 non-null    float64\n",
      " 26  Fraction with Income $40,000 to $44,999         140 non-null    float64\n",
      " 27  Fraction with Income $45,000 to $49,999         140 non-null    float64\n",
      " 28  Fraction with Income $50,000 to $59,999         140 non-null    float64\n",
      " 29  Fraction with Income $60,000 to $69,999         140 non-null    float64\n",
      " 30  Fraction with Income $70,000 to $79,999         140 non-null    float64\n",
      " 31  Fraction with Income $80,000 to $89,999         140 non-null    float64\n",
      " 32  Fraction with Income $90,000 to $99,999         140 non-null    float64\n",
      " 33  Fraction with Income $100,000 to $124,999       140 non-null    float64\n",
      " 34  Fraction with Income $125,000 to $149,999       140 non-null    float64\n",
      " 35  Fraction with Income $150,000+                  140 non-null    float64\n",
      " 36  Average after-tax Household Income              140 non-null    float64\n",
      "dtypes: float64(37)\n",
      "memory usage: 41.6+ KB\n"
     ]
    }
   ],
   "source": [
    "# all of the columns from 'Children (0-14 years)' onward are population counts\n",
    "# normalize the population-related data by the population size of the neighbourhood\n",
    "X = pd.concat([nbhd.iloc[:,1],\n",
    "               nbhd.iloc[:,2],\n",
    "               nbhd.iloc[:,4:].apply(lambda x: x / nbhd['Population, 2016']),\n",
    "               nbhd.iloc[:,3]\n",
    "              ], axis=1)\n",
    "\n",
    "X = X.apply(normalize)\n",
    "\n",
    "X.columns = ['Population Density', 'Average Household Size',\n",
    "             'Fraction of Children (0-14 years)', 'Fraction of Youth (15-24 years)',\n",
    "             'Fraction of Working Age (25-54 years)', 'Fraction of Pre-retirement (55-64 years)',\n",
    "             'Fraction of Seniors (65+ years)', 'Fraction of Older Seniors (85+ years)',\n",
    "             'Fraction in Single-detached house', 'Fraction in Apartment buildings (5+ storeys)',\n",
    "             'Fraction in Other attached dwelling', 'Fraction in 1-person Household',\n",
    "             'Fraction in 2-persons Household', 'Fraction in 3-person Household',\n",
    "             'Fraction in 4-person Household', 'Fraction in 5+ person Household',\n",
    "             'Fraction in bottom half of Income distribution',\n",
    "             'Fraction in Low-income cut-offs (LICO-AT)',\n",
    "             'Fraction with Income Under $5,000', 'Fraction with Income $5,000 to $9,999', 'Fraction with Income $10,000 to $14,999',\n",
    "             'Fraction with Income $15,000 to $19,999', 'Fraction with Income $20,000 to $24,999', 'Fraction with Income $25,000 to $29,999',\n",
    "             'Fraction with Income $30,000 to $34,999', 'Fraction with Income $35,000 to $39,999', 'Fraction with Income $40,000 to $44,999',\n",
    "             'Fraction with Income $45,000 to $49,999', 'Fraction with Income $50,000 to $59,999', 'Fraction with Income $60,000 to $69,999',\n",
    "             'Fraction with Income $70,000 to $79,999', 'Fraction with Income $80,000 to $89,999', 'Fraction with Income $90,000 to $99,999',\n",
    "             'Fraction with Income $100,000 to $124,999', 'Fraction with Income $125,000 to $149,999', 'Fraction with Income $150,000+',\n",
    "             'Average after-tax Household Income']\n",
    "X.info()"
   ]
  },
  {
   "cell_type": "code",
   "execution_count": 7,
   "metadata": {},
   "outputs": [
    {
     "data": {
      "text/html": [
       "<div>\n",
       "<style scoped>\n",
       "    .dataframe tbody tr th:only-of-type {\n",
       "        vertical-align: middle;\n",
       "    }\n",
       "\n",
       "    .dataframe tbody tr th {\n",
       "        vertical-align: top;\n",
       "    }\n",
       "\n",
       "    .dataframe thead th {\n",
       "        text-align: right;\n",
       "    }\n",
       "</style>\n",
       "<table border=\"1\" class=\"dataframe\">\n",
       "  <thead>\n",
       "    <tr style=\"text-align: right;\">\n",
       "      <th></th>\n",
       "      <th>Population Density</th>\n",
       "      <th>Average Household Size</th>\n",
       "      <th>Fraction of Children (0-14 years)</th>\n",
       "      <th>Fraction of Youth (15-24 years)</th>\n",
       "      <th>Fraction of Working Age (25-54 years)</th>\n",
       "      <th>Fraction of Pre-retirement (55-64 years)</th>\n",
       "      <th>Fraction of Seniors (65+ years)</th>\n",
       "      <th>Fraction of Older Seniors (85+ years)</th>\n",
       "      <th>Fraction in Single-detached house</th>\n",
       "      <th>Fraction in Apartment buildings (5+ storeys)</th>\n",
       "      <th>...</th>\n",
       "      <th>Fraction with Income $45,000 to $49,999</th>\n",
       "      <th>Fraction with Income $50,000 to $59,999</th>\n",
       "      <th>Fraction with Income $60,000 to $69,999</th>\n",
       "      <th>Fraction with Income $70,000 to $79,999</th>\n",
       "      <th>Fraction with Income $80,000 to $89,999</th>\n",
       "      <th>Fraction with Income $90,000 to $99,999</th>\n",
       "      <th>Fraction with Income $100,000 to $124,999</th>\n",
       "      <th>Fraction with Income $125,000 to $149,999</th>\n",
       "      <th>Fraction with Income $150,000+</th>\n",
       "      <th>Average after-tax Household Income</th>\n",
       "    </tr>\n",
       "    <tr>\n",
       "      <th>Neighbourhood Name</th>\n",
       "      <th></th>\n",
       "      <th></th>\n",
       "      <th></th>\n",
       "      <th></th>\n",
       "      <th></th>\n",
       "      <th></th>\n",
       "      <th></th>\n",
       "      <th></th>\n",
       "      <th></th>\n",
       "      <th></th>\n",
       "      <th></th>\n",
       "      <th></th>\n",
       "      <th></th>\n",
       "      <th></th>\n",
       "      <th></th>\n",
       "      <th></th>\n",
       "      <th></th>\n",
       "      <th></th>\n",
       "      <th></th>\n",
       "      <th></th>\n",
       "      <th></th>\n",
       "    </tr>\n",
       "  </thead>\n",
       "  <tbody>\n",
       "    <tr>\n",
       "      <th>Agincourt North</th>\n",
       "      <td>0.066750</td>\n",
       "      <td>0.852632</td>\n",
       "      <td>0.407359</td>\n",
       "      <td>0.279641</td>\n",
       "      <td>0.132317</td>\n",
       "      <td>0.789929</td>\n",
       "      <td>0.687099</td>\n",
       "      <td>0.343090</td>\n",
       "      <td>0.385350</td>\n",
       "      <td>0.122240</td>\n",
       "      <td>...</td>\n",
       "      <td>0.394963</td>\n",
       "      <td>0.401244</td>\n",
       "      <td>0.263268</td>\n",
       "      <td>0.240578</td>\n",
       "      <td>0.318828</td>\n",
       "      <td>0.259680</td>\n",
       "      <td>0.380036</td>\n",
       "      <td>0.298935</td>\n",
       "      <td>0.066590</td>\n",
       "      <td>0.247757</td>\n",
       "    </tr>\n",
       "    <tr>\n",
       "      <th>Agincourt South-Malvern West</th>\n",
       "      <td>0.046071</td>\n",
       "      <td>0.705263</td>\n",
       "      <td>0.396411</td>\n",
       "      <td>0.353253</td>\n",
       "      <td>0.207457</td>\n",
       "      <td>0.716721</td>\n",
       "      <td>0.536707</td>\n",
       "      <td>0.242630</td>\n",
       "      <td>0.393875</td>\n",
       "      <td>0.222226</td>\n",
       "      <td>...</td>\n",
       "      <td>0.482335</td>\n",
       "      <td>0.486305</td>\n",
       "      <td>0.392576</td>\n",
       "      <td>0.309003</td>\n",
       "      <td>0.290785</td>\n",
       "      <td>0.254288</td>\n",
       "      <td>0.323004</td>\n",
       "      <td>0.286200</td>\n",
       "      <td>0.068639</td>\n",
       "      <td>0.134362</td>\n",
       "    </tr>\n",
       "    <tr>\n",
       "      <th>Alderwood</th>\n",
       "      <td>0.032231</td>\n",
       "      <td>0.557895</td>\n",
       "      <td>0.470041</td>\n",
       "      <td>0.150764</td>\n",
       "      <td>0.240263</td>\n",
       "      <td>0.846781</td>\n",
       "      <td>0.512424</td>\n",
       "      <td>0.280679</td>\n",
       "      <td>0.790193</td>\n",
       "      <td>0.035512</td>\n",
       "      <td>...</td>\n",
       "      <td>0.479972</td>\n",
       "      <td>0.409437</td>\n",
       "      <td>0.341060</td>\n",
       "      <td>0.406286</td>\n",
       "      <td>0.430605</td>\n",
       "      <td>0.464134</td>\n",
       "      <td>0.768845</td>\n",
       "      <td>0.969319</td>\n",
       "      <td>0.185059</td>\n",
       "      <td>0.050610</td>\n",
       "    </tr>\n",
       "    <tr>\n",
       "      <th>Annex</th>\n",
       "      <td>0.226959</td>\n",
       "      <td>0.136842</td>\n",
       "      <td>0.164848</td>\n",
       "      <td>0.256696</td>\n",
       "      <td>0.384177</td>\n",
       "      <td>0.498551</td>\n",
       "      <td>0.626534</td>\n",
       "      <td>0.370520</td>\n",
       "      <td>0.070866</td>\n",
       "      <td>0.449006</td>\n",
       "      <td>...</td>\n",
       "      <td>0.592776</td>\n",
       "      <td>0.522296</td>\n",
       "      <td>0.457696</td>\n",
       "      <td>0.317895</td>\n",
       "      <td>0.396231</td>\n",
       "      <td>0.392985</td>\n",
       "      <td>0.538324</td>\n",
       "      <td>0.605553</td>\n",
       "      <td>0.469669</td>\n",
       "      <td>0.526556</td>\n",
       "    </tr>\n",
       "    <tr>\n",
       "      <th>Banbury-Don Mills</th>\n",
       "      <td>0.040087</td>\n",
       "      <td>0.363158</td>\n",
       "      <td>0.399664</td>\n",
       "      <td>0.130597</td>\n",
       "      <td>0.137164</td>\n",
       "      <td>0.632266</td>\n",
       "      <td>0.877900</td>\n",
       "      <td>0.670866</td>\n",
       "      <td>0.422034</td>\n",
       "      <td>0.380042</td>\n",
       "      <td>...</td>\n",
       "      <td>0.555780</td>\n",
       "      <td>0.614377</td>\n",
       "      <td>0.488285</td>\n",
       "      <td>0.360891</td>\n",
       "      <td>0.406558</td>\n",
       "      <td>0.442865</td>\n",
       "      <td>0.489198</td>\n",
       "      <td>0.550470</td>\n",
       "      <td>0.351425</td>\n",
       "      <td>0.298448</td>\n",
       "    </tr>\n",
       "    <tr>\n",
       "      <th>...</th>\n",
       "      <td>...</td>\n",
       "      <td>...</td>\n",
       "      <td>...</td>\n",
       "      <td>...</td>\n",
       "      <td>...</td>\n",
       "      <td>...</td>\n",
       "      <td>...</td>\n",
       "      <td>...</td>\n",
       "      <td>...</td>\n",
       "      <td>...</td>\n",
       "      <td>...</td>\n",
       "      <td>...</td>\n",
       "      <td>...</td>\n",
       "      <td>...</td>\n",
       "      <td>...</td>\n",
       "      <td>...</td>\n",
       "      <td>...</td>\n",
       "      <td>...</td>\n",
       "      <td>...</td>\n",
       "      <td>...</td>\n",
       "      <td>...</td>\n",
       "    </tr>\n",
       "    <tr>\n",
       "      <th>Wychwood</th>\n",
       "      <td>0.173309</td>\n",
       "      <td>0.368421</td>\n",
       "      <td>0.397256</td>\n",
       "      <td>0.096406</td>\n",
       "      <td>0.274928</td>\n",
       "      <td>0.472075</td>\n",
       "      <td>0.738405</td>\n",
       "      <td>0.696089</td>\n",
       "      <td>0.215037</td>\n",
       "      <td>0.151500</td>\n",
       "      <td>...</td>\n",
       "      <td>0.371988</td>\n",
       "      <td>0.459235</td>\n",
       "      <td>0.306242</td>\n",
       "      <td>0.308077</td>\n",
       "      <td>0.297053</td>\n",
       "      <td>0.270237</td>\n",
       "      <td>0.431253</td>\n",
       "      <td>0.479200</td>\n",
       "      <td>0.241008</td>\n",
       "      <td>0.104682</td>\n",
       "    </tr>\n",
       "    <tr>\n",
       "      <th>Yonge-Eglinton</th>\n",
       "      <td>0.141448</td>\n",
       "      <td>0.284211</td>\n",
       "      <td>0.498088</td>\n",
       "      <td>0.157043</td>\n",
       "      <td>0.391901</td>\n",
       "      <td>0.481098</td>\n",
       "      <td>0.375331</td>\n",
       "      <td>0.130377</td>\n",
       "      <td>0.397344</td>\n",
       "      <td>0.283401</td>\n",
       "      <td>...</td>\n",
       "      <td>0.539425</td>\n",
       "      <td>0.566190</td>\n",
       "      <td>0.466419</td>\n",
       "      <td>0.378223</td>\n",
       "      <td>0.306729</td>\n",
       "      <td>0.392949</td>\n",
       "      <td>0.535646</td>\n",
       "      <td>0.654449</td>\n",
       "      <td>0.499845</td>\n",
       "      <td>0.091839</td>\n",
       "    </tr>\n",
       "    <tr>\n",
       "      <th>Yonge-St.Clair</th>\n",
       "      <td>0.223377</td>\n",
       "      <td>0.115789</td>\n",
       "      <td>0.250466</td>\n",
       "      <td>0.000000</td>\n",
       "      <td>0.343253</td>\n",
       "      <td>0.581636</td>\n",
       "      <td>0.791716</td>\n",
       "      <td>0.411685</td>\n",
       "      <td>0.139209</td>\n",
       "      <td>0.578182</td>\n",
       "      <td>...</td>\n",
       "      <td>0.714269</td>\n",
       "      <td>0.759923</td>\n",
       "      <td>0.528260</td>\n",
       "      <td>0.552113</td>\n",
       "      <td>0.461211</td>\n",
       "      <td>0.564495</td>\n",
       "      <td>0.667898</td>\n",
       "      <td>0.681904</td>\n",
       "      <td>0.582068</td>\n",
       "      <td>0.334859</td>\n",
       "    </tr>\n",
       "    <tr>\n",
       "      <th>York University Heights</th>\n",
       "      <td>0.024168</td>\n",
       "      <td>0.615789</td>\n",
       "      <td>0.472643</td>\n",
       "      <td>0.512812</td>\n",
       "      <td>0.270066</td>\n",
       "      <td>0.437600</td>\n",
       "      <td>0.343106</td>\n",
       "      <td>0.136749</td>\n",
       "      <td>0.150112</td>\n",
       "      <td>0.334907</td>\n",
       "      <td>...</td>\n",
       "      <td>0.545447</td>\n",
       "      <td>0.534216</td>\n",
       "      <td>0.387039</td>\n",
       "      <td>0.293329</td>\n",
       "      <td>0.284565</td>\n",
       "      <td>0.199763</td>\n",
       "      <td>0.234888</td>\n",
       "      <td>0.199500</td>\n",
       "      <td>0.033924</td>\n",
       "      <td>0.152646</td>\n",
       "    </tr>\n",
       "    <tr>\n",
       "      <th>Yorkdale-Glen Park</th>\n",
       "      <td>0.032601</td>\n",
       "      <td>0.568421</td>\n",
       "      <td>0.409566</td>\n",
       "      <td>0.274729</td>\n",
       "      <td>0.150473</td>\n",
       "      <td>0.575487</td>\n",
       "      <td>0.751557</td>\n",
       "      <td>0.588865</td>\n",
       "      <td>0.490484</td>\n",
       "      <td>0.134371</td>\n",
       "      <td>...</td>\n",
       "      <td>0.501152</td>\n",
       "      <td>0.437827</td>\n",
       "      <td>0.354521</td>\n",
       "      <td>0.260826</td>\n",
       "      <td>0.247169</td>\n",
       "      <td>0.304901</td>\n",
       "      <td>0.372119</td>\n",
       "      <td>0.393085</td>\n",
       "      <td>0.132055</td>\n",
       "      <td>0.085135</td>\n",
       "    </tr>\n",
       "  </tbody>\n",
       "</table>\n",
       "<p>140 rows × 37 columns</p>\n",
       "</div>"
      ],
      "text/plain": [
       "                              Population Density  Average Household Size  \\\n",
       "Neighbourhood Name                                                         \n",
       "Agincourt North                         0.066750                0.852632   \n",
       "Agincourt South-Malvern West            0.046071                0.705263   \n",
       "Alderwood                               0.032231                0.557895   \n",
       "Annex                                   0.226959                0.136842   \n",
       "Banbury-Don Mills                       0.040087                0.363158   \n",
       "...                                          ...                     ...   \n",
       "Wychwood                                0.173309                0.368421   \n",
       "Yonge-Eglinton                          0.141448                0.284211   \n",
       "Yonge-St.Clair                          0.223377                0.115789   \n",
       "York University Heights                 0.024168                0.615789   \n",
       "Yorkdale-Glen Park                      0.032601                0.568421   \n",
       "\n",
       "                              Fraction of Children (0-14 years)  \\\n",
       "Neighbourhood Name                                                \n",
       "Agincourt North                                        0.407359   \n",
       "Agincourt South-Malvern West                           0.396411   \n",
       "Alderwood                                              0.470041   \n",
       "Annex                                                  0.164848   \n",
       "Banbury-Don Mills                                      0.399664   \n",
       "...                                                         ...   \n",
       "Wychwood                                               0.397256   \n",
       "Yonge-Eglinton                                         0.498088   \n",
       "Yonge-St.Clair                                         0.250466   \n",
       "York University Heights                                0.472643   \n",
       "Yorkdale-Glen Park                                     0.409566   \n",
       "\n",
       "                              Fraction of Youth (15-24 years)  \\\n",
       "Neighbourhood Name                                              \n",
       "Agincourt North                                      0.279641   \n",
       "Agincourt South-Malvern West                         0.353253   \n",
       "Alderwood                                            0.150764   \n",
       "Annex                                                0.256696   \n",
       "Banbury-Don Mills                                    0.130597   \n",
       "...                                                       ...   \n",
       "Wychwood                                             0.096406   \n",
       "Yonge-Eglinton                                       0.157043   \n",
       "Yonge-St.Clair                                       0.000000   \n",
       "York University Heights                              0.512812   \n",
       "Yorkdale-Glen Park                                   0.274729   \n",
       "\n",
       "                              Fraction of Working Age (25-54 years)  \\\n",
       "Neighbourhood Name                                                    \n",
       "Agincourt North                                            0.132317   \n",
       "Agincourt South-Malvern West                               0.207457   \n",
       "Alderwood                                                  0.240263   \n",
       "Annex                                                      0.384177   \n",
       "Banbury-Don Mills                                          0.137164   \n",
       "...                                                             ...   \n",
       "Wychwood                                                   0.274928   \n",
       "Yonge-Eglinton                                             0.391901   \n",
       "Yonge-St.Clair                                             0.343253   \n",
       "York University Heights                                    0.270066   \n",
       "Yorkdale-Glen Park                                         0.150473   \n",
       "\n",
       "                              Fraction of Pre-retirement (55-64 years)  \\\n",
       "Neighbourhood Name                                                       \n",
       "Agincourt North                                               0.789929   \n",
       "Agincourt South-Malvern West                                  0.716721   \n",
       "Alderwood                                                     0.846781   \n",
       "Annex                                                         0.498551   \n",
       "Banbury-Don Mills                                             0.632266   \n",
       "...                                                                ...   \n",
       "Wychwood                                                      0.472075   \n",
       "Yonge-Eglinton                                                0.481098   \n",
       "Yonge-St.Clair                                                0.581636   \n",
       "York University Heights                                       0.437600   \n",
       "Yorkdale-Glen Park                                            0.575487   \n",
       "\n",
       "                              Fraction of Seniors (65+ years)  \\\n",
       "Neighbourhood Name                                              \n",
       "Agincourt North                                      0.687099   \n",
       "Agincourt South-Malvern West                         0.536707   \n",
       "Alderwood                                            0.512424   \n",
       "Annex                                                0.626534   \n",
       "Banbury-Don Mills                                    0.877900   \n",
       "...                                                       ...   \n",
       "Wychwood                                             0.738405   \n",
       "Yonge-Eglinton                                       0.375331   \n",
       "Yonge-St.Clair                                       0.791716   \n",
       "York University Heights                              0.343106   \n",
       "Yorkdale-Glen Park                                   0.751557   \n",
       "\n",
       "                              Fraction of Older Seniors (85+ years)  \\\n",
       "Neighbourhood Name                                                    \n",
       "Agincourt North                                            0.343090   \n",
       "Agincourt South-Malvern West                               0.242630   \n",
       "Alderwood                                                  0.280679   \n",
       "Annex                                                      0.370520   \n",
       "Banbury-Don Mills                                          0.670866   \n",
       "...                                                             ...   \n",
       "Wychwood                                                   0.696089   \n",
       "Yonge-Eglinton                                             0.130377   \n",
       "Yonge-St.Clair                                             0.411685   \n",
       "York University Heights                                    0.136749   \n",
       "Yorkdale-Glen Park                                         0.588865   \n",
       "\n",
       "                              Fraction in Single-detached house  \\\n",
       "Neighbourhood Name                                                \n",
       "Agincourt North                                        0.385350   \n",
       "Agincourt South-Malvern West                           0.393875   \n",
       "Alderwood                                              0.790193   \n",
       "Annex                                                  0.070866   \n",
       "Banbury-Don Mills                                      0.422034   \n",
       "...                                                         ...   \n",
       "Wychwood                                               0.215037   \n",
       "Yonge-Eglinton                                         0.397344   \n",
       "Yonge-St.Clair                                         0.139209   \n",
       "York University Heights                                0.150112   \n",
       "Yorkdale-Glen Park                                     0.490484   \n",
       "\n",
       "                              Fraction in Apartment buildings (5+ storeys)  \\\n",
       "Neighbourhood Name                                                           \n",
       "Agincourt North                                                   0.122240   \n",
       "Agincourt South-Malvern West                                      0.222226   \n",
       "Alderwood                                                         0.035512   \n",
       "Annex                                                             0.449006   \n",
       "Banbury-Don Mills                                                 0.380042   \n",
       "...                                                                    ...   \n",
       "Wychwood                                                          0.151500   \n",
       "Yonge-Eglinton                                                    0.283401   \n",
       "Yonge-St.Clair                                                    0.578182   \n",
       "York University Heights                                           0.334907   \n",
       "Yorkdale-Glen Park                                                0.134371   \n",
       "\n",
       "                              ...  Fraction with Income $45,000 to $49,999  \\\n",
       "Neighbourhood Name            ...                                            \n",
       "Agincourt North               ...                                 0.394963   \n",
       "Agincourt South-Malvern West  ...                                 0.482335   \n",
       "Alderwood                     ...                                 0.479972   \n",
       "Annex                         ...                                 0.592776   \n",
       "Banbury-Don Mills             ...                                 0.555780   \n",
       "...                           ...                                      ...   \n",
       "Wychwood                      ...                                 0.371988   \n",
       "Yonge-Eglinton                ...                                 0.539425   \n",
       "Yonge-St.Clair                ...                                 0.714269   \n",
       "York University Heights       ...                                 0.545447   \n",
       "Yorkdale-Glen Park            ...                                 0.501152   \n",
       "\n",
       "                              Fraction with Income $50,000 to $59,999  \\\n",
       "Neighbourhood Name                                                      \n",
       "Agincourt North                                              0.401244   \n",
       "Agincourt South-Malvern West                                 0.486305   \n",
       "Alderwood                                                    0.409437   \n",
       "Annex                                                        0.522296   \n",
       "Banbury-Don Mills                                            0.614377   \n",
       "...                                                               ...   \n",
       "Wychwood                                                     0.459235   \n",
       "Yonge-Eglinton                                               0.566190   \n",
       "Yonge-St.Clair                                               0.759923   \n",
       "York University Heights                                      0.534216   \n",
       "Yorkdale-Glen Park                                           0.437827   \n",
       "\n",
       "                              Fraction with Income $60,000 to $69,999  \\\n",
       "Neighbourhood Name                                                      \n",
       "Agincourt North                                              0.263268   \n",
       "Agincourt South-Malvern West                                 0.392576   \n",
       "Alderwood                                                    0.341060   \n",
       "Annex                                                        0.457696   \n",
       "Banbury-Don Mills                                            0.488285   \n",
       "...                                                               ...   \n",
       "Wychwood                                                     0.306242   \n",
       "Yonge-Eglinton                                               0.466419   \n",
       "Yonge-St.Clair                                               0.528260   \n",
       "York University Heights                                      0.387039   \n",
       "Yorkdale-Glen Park                                           0.354521   \n",
       "\n",
       "                              Fraction with Income $70,000 to $79,999  \\\n",
       "Neighbourhood Name                                                      \n",
       "Agincourt North                                              0.240578   \n",
       "Agincourt South-Malvern West                                 0.309003   \n",
       "Alderwood                                                    0.406286   \n",
       "Annex                                                        0.317895   \n",
       "Banbury-Don Mills                                            0.360891   \n",
       "...                                                               ...   \n",
       "Wychwood                                                     0.308077   \n",
       "Yonge-Eglinton                                               0.378223   \n",
       "Yonge-St.Clair                                               0.552113   \n",
       "York University Heights                                      0.293329   \n",
       "Yorkdale-Glen Park                                           0.260826   \n",
       "\n",
       "                              Fraction with Income $80,000 to $89,999  \\\n",
       "Neighbourhood Name                                                      \n",
       "Agincourt North                                              0.318828   \n",
       "Agincourt South-Malvern West                                 0.290785   \n",
       "Alderwood                                                    0.430605   \n",
       "Annex                                                        0.396231   \n",
       "Banbury-Don Mills                                            0.406558   \n",
       "...                                                               ...   \n",
       "Wychwood                                                     0.297053   \n",
       "Yonge-Eglinton                                               0.306729   \n",
       "Yonge-St.Clair                                               0.461211   \n",
       "York University Heights                                      0.284565   \n",
       "Yorkdale-Glen Park                                           0.247169   \n",
       "\n",
       "                              Fraction with Income $90,000 to $99,999  \\\n",
       "Neighbourhood Name                                                      \n",
       "Agincourt North                                              0.259680   \n",
       "Agincourt South-Malvern West                                 0.254288   \n",
       "Alderwood                                                    0.464134   \n",
       "Annex                                                        0.392985   \n",
       "Banbury-Don Mills                                            0.442865   \n",
       "...                                                               ...   \n",
       "Wychwood                                                     0.270237   \n",
       "Yonge-Eglinton                                               0.392949   \n",
       "Yonge-St.Clair                                               0.564495   \n",
       "York University Heights                                      0.199763   \n",
       "Yorkdale-Glen Park                                           0.304901   \n",
       "\n",
       "                              Fraction with Income $100,000 to $124,999  \\\n",
       "Neighbourhood Name                                                        \n",
       "Agincourt North                                                0.380036   \n",
       "Agincourt South-Malvern West                                   0.323004   \n",
       "Alderwood                                                      0.768845   \n",
       "Annex                                                          0.538324   \n",
       "Banbury-Don Mills                                              0.489198   \n",
       "...                                                                 ...   \n",
       "Wychwood                                                       0.431253   \n",
       "Yonge-Eglinton                                                 0.535646   \n",
       "Yonge-St.Clair                                                 0.667898   \n",
       "York University Heights                                        0.234888   \n",
       "Yorkdale-Glen Park                                             0.372119   \n",
       "\n",
       "                              Fraction with Income $125,000 to $149,999  \\\n",
       "Neighbourhood Name                                                        \n",
       "Agincourt North                                                0.298935   \n",
       "Agincourt South-Malvern West                                   0.286200   \n",
       "Alderwood                                                      0.969319   \n",
       "Annex                                                          0.605553   \n",
       "Banbury-Don Mills                                              0.550470   \n",
       "...                                                                 ...   \n",
       "Wychwood                                                       0.479200   \n",
       "Yonge-Eglinton                                                 0.654449   \n",
       "Yonge-St.Clair                                                 0.681904   \n",
       "York University Heights                                        0.199500   \n",
       "Yorkdale-Glen Park                                             0.393085   \n",
       "\n",
       "                              Fraction with Income $150,000+  \\\n",
       "Neighbourhood Name                                             \n",
       "Agincourt North                                     0.066590   \n",
       "Agincourt South-Malvern West                        0.068639   \n",
       "Alderwood                                           0.185059   \n",
       "Annex                                               0.469669   \n",
       "Banbury-Don Mills                                   0.351425   \n",
       "...                                                      ...   \n",
       "Wychwood                                            0.241008   \n",
       "Yonge-Eglinton                                      0.499845   \n",
       "Yonge-St.Clair                                      0.582068   \n",
       "York University Heights                             0.033924   \n",
       "Yorkdale-Glen Park                                  0.132055   \n",
       "\n",
       "                              Average after-tax Household Income  \n",
       "Neighbourhood Name                                                \n",
       "Agincourt North                                         0.247757  \n",
       "Agincourt South-Malvern West                            0.134362  \n",
       "Alderwood                                               0.050610  \n",
       "Annex                                                   0.526556  \n",
       "Banbury-Don Mills                                       0.298448  \n",
       "...                                                          ...  \n",
       "Wychwood                                                0.104682  \n",
       "Yonge-Eglinton                                          0.091839  \n",
       "Yonge-St.Clair                                          0.334859  \n",
       "York University Heights                                 0.152646  \n",
       "Yorkdale-Glen Park                                      0.085135  \n",
       "\n",
       "[140 rows x 37 columns]"
      ]
     },
     "execution_count": 7,
     "metadata": {},
     "output_type": "execute_result"
    }
   ],
   "source": [
    "X"
   ]
  },
  {
   "cell_type": "markdown",
   "metadata": {},
   "source": [
    "## COVID data"
   ]
  },
  {
   "cell_type": "markdown",
   "metadata": {
    "id": "zZCPN52J2h7d"
   },
   "source": [
    "Load Toronto's COVID data\n",
    "Note, the nbhd source data Neighbourhood Names need to be edited as follows:\n",
    "- \"Danforth East York\"\n",
    "- \"Weston-Pelham Park\"\n",
    "- \"Briar Hill-Belgravia\""
   ]
  },
  {
   "cell_type": "code",
   "execution_count": 8,
   "metadata": {
    "executionInfo": {
     "elapsed": 1437,
     "status": "ok",
     "timestamp": 1606602087201,
     "user": {
      "displayName": "Wesley Oke",
      "photoUrl": "https://lh3.googleusercontent.com/a-/AOh14GjOGPxN8biLCGhPVIHe3D7qE2skvDMxE_aIkSCpfPg=s64",
      "userId": "09899504844355329451"
     },
     "user_tz": 300
    },
    "id": "OUI6TlQw2h7Z"
   },
   "outputs": [
    {
     "name": "stdout",
     "output_type": "stream",
     "text": [
      "<class 'pandas.core.frame.DataFrame'>\n",
      "RangeIndex: 38656 entries, 0 to 38655\n",
      "Data columns (total 18 columns):\n",
      " #   Column                  Non-Null Count  Dtype \n",
      "---  ------                  --------------  ----- \n",
      " 0   _id                     38656 non-null  int64 \n",
      " 1   Assigned_ID             38656 non-null  int64 \n",
      " 2   Outbreak Associated     38656 non-null  object\n",
      " 3   Age Group               38624 non-null  object\n",
      " 4   Neighbourhood           37649 non-null  object\n",
      " 5   FSA                     37826 non-null  object\n",
      " 6   Source of Infection     38656 non-null  object\n",
      " 7   Classification          38656 non-null  object\n",
      " 8   Episode Date            38656 non-null  object\n",
      " 9   Reported Date           38656 non-null  object\n",
      " 10  Client Gender           38656 non-null  object\n",
      " 11  Outcome                 38656 non-null  object\n",
      " 12  Currently Hospitalized  38656 non-null  bool  \n",
      " 13  Currently in ICU        38656 non-null  bool  \n",
      " 14  Currently Intubated     38656 non-null  bool  \n",
      " 15  Ever Hospitalized       38656 non-null  bool  \n",
      " 16  Ever in ICU             38656 non-null  bool  \n",
      " 17  Ever Intubated          38656 non-null  bool  \n",
      "dtypes: bool(6), int64(2), object(10)\n",
      "memory usage: 3.8+ MB\n"
     ]
    }
   ],
   "source": [
    "cov19 = pd.read_csv('https://raw.githubusercontent.com/oke-w/covid/main/COVID19%20cases.csv',\n",
    "                    true_values=['Yes'], false_values=['No'])\n",
    "cov19.rename(columns={'Neighbourhood Name':'Neighbourhood'}, inplace=True)\n",
    "cov19['Neighbourhood'] = cov19['Neighbourhood'].map(lambda x:\n",
    "                    \"Weston-Pelham Park\" if x==\"Weston-Pellam Park\" else x)\n",
    "cov19['Neighbourhood'] = cov19['Neighbourhood'].map(lambda x:\n",
    "                    \"Briar Hill-Belgravia\" if x==\"Briar Hill - Belgravia\" else x)\n",
    "cov19['Neighbourhood'] = cov19['Neighbourhood'].map(lambda x:\n",
    "                    \"Danforth East York\" if x==\"Danforth-East York\" else x)\n",
    "cov19.info()"
   ]
  },
  {
   "cell_type": "code",
   "execution_count": 9,
   "metadata": {
    "colab": {
     "base_uri": "https://localhost:8080/"
    },
    "executionInfo": {
     "elapsed": 1428,
     "status": "ok",
     "timestamp": 1606602087208,
     "user": {
      "displayName": "Wesley Oke",
      "photoUrl": "https://lh3.googleusercontent.com/a-/AOh14GjOGPxN8biLCGhPVIHe3D7qE2skvDMxE_aIkSCpfPg=s64",
      "userId": "09899504844355329451"
     },
     "user_tz": 300
    },
    "id": "YGrQK4rq2h7c",
    "outputId": "23cf715e-0490-4474-b78e-230b0affb860"
   },
   "outputs": [
    {
     "data": {
      "text/plain": [
       "Neighbourhood\n",
       "Agincourt North                 292\n",
       "Agincourt South-Malvern West    204\n",
       "Alderwood                       124\n",
       "Annex                           278\n",
       "Banbury-Don Mills               160\n",
       "                               ... \n",
       "Wychwood                        141\n",
       "Yonge-Eglinton                   62\n",
       "Yonge-St.Clair                   60\n",
       "York University Heights         864\n",
       "Yorkdale-Glen Park              404\n",
       "Name: cov_count, Length: 140, dtype: int64"
      ]
     },
     "execution_count": 9,
     "metadata": {},
     "output_type": "execute_result"
    }
   ],
   "source": [
    "# create a Series of 140 Neighbourhoods with the count of COVID cases in each\n",
    "# drop any cases that don't have an identified Neighbourhood\n",
    "cov_count = cov19.dropna(subset=['Neighbourhood']).groupby('Neighbourhood')['_id'].count()\n",
    "# create a DF of 140 Neighbourhoods with COVID counts\n",
    "cov_count.name = 'cov_count'\n",
    "cov_count.sort_index(inplace=True)\n",
    "cov_count"
   ]
  },
  {
   "cell_type": "code",
   "execution_count": 10,
   "metadata": {},
   "outputs": [
    {
     "data": {
      "text/plain": [
       "Neighbourhood\n",
       "Agincourt North                 10.029884\n",
       "Agincourt South-Malvern West     8.586943\n",
       "Alderwood                       10.287042\n",
       "Annex                            9.106991\n",
       "Banbury-Don Mills                5.777216\n",
       "                                  ...    \n",
       "Wychwood                         9.826469\n",
       "Yonge-Eglinton                   5.246679\n",
       "Yonge-St.Clair                   4.789272\n",
       "York University Heights         31.312289\n",
       "Yorkdale-Glen Park              27.289922\n",
       "Name: COVID Cases per 1000, Length: 140, dtype: float64"
      ]
     },
     "execution_count": 10,
     "metadata": {},
     "output_type": "execute_result"
    }
   ],
   "source": [
    "y = 1000 * cov_count / nbhd['Population, 2016']\n",
    "y.name = 'COVID Cases per 1000'\n",
    "y"
   ]
  },
  {
   "cell_type": "code",
   "execution_count": 11,
   "metadata": {},
   "outputs": [
    {
     "data": {
      "text/plain": [
       "10.352181004952662"
      ]
     },
     "execution_count": 11,
     "metadata": {},
     "output_type": "execute_result"
    }
   ],
   "source": [
    "y.median()"
   ]
  },
  {
   "cell_type": "markdown",
   "metadata": {},
   "source": [
    "# Baseline RMSE"
   ]
  },
  {
   "cell_type": "markdown",
   "metadata": {},
   "source": [
    "Use the average of y_train as the estimate for y_test and calculate the RMSE."
   ]
  },
  {
   "cell_type": "code",
   "execution_count": 12,
   "metadata": {},
   "outputs": [],
   "source": [
    "def model_nil(y, T):\n",
    "    '''Calculate the average RMSE of a constant value (baseline statistic)'''\n",
    "    rmse = 0\n",
    "    for t in range(T):\n",
    "        y_train, y_test = train_test_split(y)\n",
    "        y_test_est = y_train.mean() * np.ones(y_test.shape)\n",
    "        # calculate and return root mean squared error of prediction\n",
    "        rmse += np.sqrt(mean_squared_error(y_test, y_test_est))\n",
    "    return rmse / T"
   ]
  },
  {
   "cell_type": "code",
   "execution_count": 13,
   "metadata": {},
   "outputs": [
    {
     "data": {
      "text/plain": [
       "8.323505549917568"
      ]
     },
     "execution_count": 13,
     "metadata": {},
     "output_type": "execute_result"
    }
   ],
   "source": [
    "# calculate the avereage RMSE where the model is a constant value (the mean of the test data set)\"\n",
    "T = 1000 # the number of loops to average the performance\n",
    "model_nil(y, T)"
   ]
  },
  {
   "cell_type": "markdown",
   "metadata": {},
   "source": [
    "# Linear Regression"
   ]
  },
  {
   "cell_type": "markdown",
   "metadata": {},
   "source": [
    "## Simple Linear Regression: Low-Income"
   ]
  },
  {
   "cell_type": "code",
   "execution_count": 14,
   "metadata": {},
   "outputs": [
    {
     "data": {
      "text/plain": [
       "Population Density                               -0.115986\n",
       "Average Household Size                            0.416052\n",
       "Fraction of Children (0-14 years)                 0.287480\n",
       "Fraction of Youth (15-24 years)                   0.345817\n",
       "Fraction of Working Age (25-54 years)            -0.241592\n",
       "Fraction of Pre-retirement (55-64 years)         -0.084469\n",
       "Fraction of Seniors (65+ years)                  -0.032356\n",
       "Fraction of Older Seniors (85+ years)             0.053403\n",
       "Fraction in Single-detached house                -0.145419\n",
       "Fraction in Apartment buildings (5+ storeys)      0.014968\n",
       "Fraction in Other attached dwelling              -0.217441\n",
       "Fraction in 1-person Household                   -0.303585\n",
       "Fraction in 2-persons Household                  -0.475153\n",
       "Fraction in 3-person Household                    0.011522\n",
       "Fraction in 4-person Household                   -0.000613\n",
       "Fraction in 5+ person Household                   0.533832\n",
       "Fraction in bottom half of Income distribution    0.590454\n",
       "Fraction in Low-income cut-offs (LICO-AT)         0.251787\n",
       "Fraction with Income Under $5,000                -0.261338\n",
       "Fraction with Income $5,000 to $9,999            -0.057640\n",
       "Fraction with Income $10,000 to $14,999          -0.012829\n",
       "Fraction with Income $15,000 to $19,999           0.017465\n",
       "Fraction with Income $20,000 to $24,999           0.129180\n",
       "Fraction with Income $25,000 to $29,999           0.206313\n",
       "Fraction with Income $30,000 to $34,999           0.286999\n",
       "Fraction with Income $35,000 to $39,999           0.272947\n",
       "Fraction with Income $40,000 to $44,999           0.260245\n",
       "Fraction with Income $45,000 to $49,999           0.202475\n",
       "Fraction with Income $50,000 to $59,999           0.142337\n",
       "Fraction with Income $60,000 to $69,999          -0.003588\n",
       "Fraction with Income $70,000 to $79,999          -0.144085\n",
       "Fraction with Income $80,000 to $89,999          -0.204982\n",
       "Fraction with Income $90,000 to $99,999          -0.303463\n",
       "Fraction with Income $100,000 to $124,999        -0.449526\n",
       "Fraction with Income $125,000 to $149,999        -0.575002\n",
       "Fraction with Income $150,000+                   -0.555971\n",
       "Average after-tax Household Income               -0.317523\n",
       "dtype: float64"
      ]
     },
     "execution_count": 14,
     "metadata": {},
     "output_type": "execute_result"
    }
   ],
   "source": [
    "# select the initial columns to include in the Muliple Linear Regression, based partly on\n",
    "# the amount of their correlation with the 'COVID Cases per 100,000' column\n",
    "X.corrwith(y)"
   ]
  },
  {
   "cell_type": "code",
   "execution_count": 15,
   "metadata": {},
   "outputs": [],
   "source": [
    "def model_LR(X, y, T):\n",
    "    '''Calculate the average RMSE of a Linear Regression of X over T runs'''\n",
    "    rmse = 0\n",
    "    for t in range(T):\n",
    "        X_train, X_test, y_train, y_test = train_test_split(X, y)\n",
    "        model = LinearRegression().fit(X_train, y_train)\n",
    "        y_test_est = model.predict(X_test)\n",
    "        # calculate and return root mean squared error of prediction\n",
    "        rmse += np.sqrt(mean_squared_error(y_test, y_test_est))\n",
    "    return rmse / T"
   ]
  },
  {
   "cell_type": "code",
   "execution_count": 16,
   "metadata": {},
   "outputs": [
    {
     "data": {
      "text/plain": [
       "6.730806969075265"
      ]
     },
     "execution_count": 16,
     "metadata": {},
     "output_type": "execute_result"
    }
   ],
   "source": [
    "# carry out simple Linear Regression with single feature, neighbourhood \"Population, 2016\"\n",
    "X_SLR = X.iloc[:,16]\n",
    "T = 1000 # the number of loops to average the performance\n",
    "model_LR(X_SLR.values.reshape(-1, 1), y, T)"
   ]
  },
  {
   "cell_type": "code",
   "execution_count": 17,
   "metadata": {},
   "outputs": [
    {
     "data": {
      "text/html": [
       "<table class=\"simpletable\">\n",
       "<caption>OLS Regression Results</caption>\n",
       "<tr>\n",
       "  <th>Dep. Variable:</th>    <td>COVID Cases per 1000</td> <th>  R-squared:         </th> <td>   0.349</td>\n",
       "</tr>\n",
       "<tr>\n",
       "  <th>Model:</th>                     <td>OLS</td>         <th>  Adj. R-squared:    </th> <td>   0.344</td>\n",
       "</tr>\n",
       "<tr>\n",
       "  <th>Method:</th>               <td>Least Squares</td>    <th>  F-statistic:       </th> <td>   73.86</td>\n",
       "</tr>\n",
       "<tr>\n",
       "  <th>Date:</th>               <td>Sun, 13 Dec 2020</td>   <th>  Prob (F-statistic):</th> <td>1.62e-14</td>\n",
       "</tr>\n",
       "<tr>\n",
       "  <th>Time:</th>                   <td>17:12:38</td>       <th>  Log-Likelihood:    </th> <td> -464.69</td>\n",
       "</tr>\n",
       "<tr>\n",
       "  <th>No. Observations:</th>        <td>   140</td>        <th>  AIC:               </th> <td>   933.4</td>\n",
       "</tr>\n",
       "<tr>\n",
       "  <th>Df Residuals:</th>            <td>   138</td>        <th>  BIC:               </th> <td>   939.3</td>\n",
       "</tr>\n",
       "<tr>\n",
       "  <th>Df Model:</th>                <td>     1</td>        <th>                     </th>     <td> </td>   \n",
       "</tr>\n",
       "<tr>\n",
       "  <th>Covariance Type:</th>        <td>nonrobust</td>      <th>                     </th>     <td> </td>   \n",
       "</tr>\n",
       "</table>\n",
       "<table class=\"simpletable\">\n",
       "<tr>\n",
       "                         <td></td>                           <th>coef</th>     <th>std err</th>      <th>t</th>      <th>P>|t|</th>  <th>[0.025</th>    <th>0.975]</th>  \n",
       "</tr>\n",
       "<tr>\n",
       "  <th>const</th>                                          <td>    1.8209</td> <td>    1.469</td> <td>    1.240</td> <td> 0.217</td> <td>   -1.084</td> <td>    4.726</td>\n",
       "</tr>\n",
       "<tr>\n",
       "  <th>Fraction in bottom half of Income distribution</th> <td>   21.4791</td> <td>    2.499</td> <td>    8.594</td> <td> 0.000</td> <td>   16.537</td> <td>   26.421</td>\n",
       "</tr>\n",
       "</table>\n",
       "<table class=\"simpletable\">\n",
       "<tr>\n",
       "  <th>Omnibus:</th>       <td>16.918</td> <th>  Durbin-Watson:     </th> <td>   1.932</td>\n",
       "</tr>\n",
       "<tr>\n",
       "  <th>Prob(Omnibus):</th> <td> 0.000</td> <th>  Jarque-Bera (JB):  </th> <td>  19.051</td>\n",
       "</tr>\n",
       "<tr>\n",
       "  <th>Skew:</th>          <td> 0.840</td> <th>  Prob(JB):          </th> <td>7.30e-05</td>\n",
       "</tr>\n",
       "<tr>\n",
       "  <th>Kurtosis:</th>      <td> 3.666</td> <th>  Cond. No.          </th> <td>    5.73</td>\n",
       "</tr>\n",
       "</table><br/><br/>Warnings:<br/>[1] Standard Errors assume that the covariance matrix of the errors is correctly specified."
      ],
      "text/plain": [
       "<class 'statsmodels.iolib.summary.Summary'>\n",
       "\"\"\"\n",
       "                             OLS Regression Results                             \n",
       "================================================================================\n",
       "Dep. Variable:     COVID Cases per 1000   R-squared:                       0.349\n",
       "Model:                              OLS   Adj. R-squared:                  0.344\n",
       "Method:                   Least Squares   F-statistic:                     73.86\n",
       "Date:                  Sun, 13 Dec 2020   Prob (F-statistic):           1.62e-14\n",
       "Time:                          17:12:38   Log-Likelihood:                -464.69\n",
       "No. Observations:                   140   AIC:                             933.4\n",
       "Df Residuals:                       138   BIC:                             939.3\n",
       "Df Model:                             1                                         \n",
       "Covariance Type:              nonrobust                                         \n",
       "==================================================================================================================\n",
       "                                                     coef    std err          t      P>|t|      [0.025      0.975]\n",
       "------------------------------------------------------------------------------------------------------------------\n",
       "const                                              1.8209      1.469      1.240      0.217      -1.084       4.726\n",
       "Fraction in bottom half of Income distribution    21.4791      2.499      8.594      0.000      16.537      26.421\n",
       "==============================================================================\n",
       "Omnibus:                       16.918   Durbin-Watson:                   1.932\n",
       "Prob(Omnibus):                  0.000   Jarque-Bera (JB):               19.051\n",
       "Skew:                           0.840   Prob(JB):                     7.30e-05\n",
       "Kurtosis:                       3.666   Cond. No.                         5.73\n",
       "==============================================================================\n",
       "\n",
       "Warnings:\n",
       "[1] Standard Errors assume that the covariance matrix of the errors is correctly specified.\n",
       "\"\"\""
      ]
     },
     "execution_count": 17,
     "metadata": {},
     "output_type": "execute_result"
    }
   ],
   "source": [
    "# check the statistical validity of the model\n",
    "OLS_simple = sm.OLS(y, sm.add_constant(X_SLR)).fit()\n",
    "OLS_simple.summary()"
   ]
  },
  {
   "cell_type": "markdown",
   "metadata": {},
   "source": [
    "-----\n",
    "This result (P=0) indicates that the feature is a statistically significant predictor of the number of COVID cases, as expected."
   ]
  },
  {
   "cell_type": "code",
   "execution_count": 18,
   "metadata": {
    "colab": {
     "base_uri": "https://localhost:8080/",
     "height": 513
    },
    "executionInfo": {
     "elapsed": 2102,
     "status": "ok",
     "timestamp": 1606602088009,
     "user": {
      "displayName": "Wesley Oke",
      "photoUrl": "https://lh3.googleusercontent.com/a-/AOh14GjOGPxN8biLCGhPVIHe3D7qE2skvDMxE_aIkSCpfPg=s64",
      "userId": "09899504844355329451"
     },
     "user_tz": 300
    },
    "id": "JDho4U-82h7e",
    "outputId": "246ad94d-1cff-433e-e529-8094ac253170"
   },
   "outputs": [
    {
     "data": {
      "image/png": "[encoded data removed]",
      "text/plain": [
       "<Figure size 576x324 with 1 Axes>"
      ]
     },
     "metadata": {
      "needs_background": "light"
     },
     "output_type": "display_data"
    }
   ],
   "source": [
    "# plot each Neighborhood's COVID count against its population\n",
    "fig, ax = plt.subplots(figsize=(8,4.5))\n",
    "plt.scatter(X_SLR, y)\n",
    "\n",
    "# plot linear regression trend line\n",
    "X_train, X_test, y_train, y_test = train_test_split(X_SLR, y)\n",
    "SLR_model = LinearRegression().fit(X_train.values.reshape(-1, 1), y_train)\n",
    "plt.plot(X_test, SLR_model.predict(X_test.values.reshape(-1, 1)), 'r-');\n",
    "ax.set(title='Simple Linear Regression: COVID Cases per 1000 Residents',\n",
    "      xlabel = 'Fraction in bottom half of Income distribution (normalized)',\n",
    "      ylabel = 'COVID Cases per 1000 Residents');"
   ]
  },
  {
   "cell_type": "markdown",
   "metadata": {},
   "source": [
    "## Multiple Linear Regression: Income, Age Demographics, Housing"
   ]
  },
  {
   "cell_type": "markdown",
   "metadata": {},
   "source": [
    "Initially select the following features that show a correlation greater than +- 0.2.  Note that certain features with a correlation greater than +- 0.2 were not selected, based on the author's analysis of their interdependence and the extent of the correlation.\n",
    "\n",
    "1. Average household size\n",
    "2. Youth (15-24 years)\n",
    "3. Single-detached house\n",
    "4. Other attached dwelling\n",
    "5. 1 persons\n",
    "6. 2 persons\n",
    "7. 5 or more persons\n",
    "8. In the bottom half of the distribution\n",
    "9. In low income based on the Low-income cut-offs, after tax (LICO-AT)"
   ]
  },
  {
   "cell_type": "code",
   "execution_count": 19,
   "metadata": {},
   "outputs": [
    {
     "data": {
      "text/html": [
       "<table class=\"simpletable\">\n",
       "<caption>OLS Regression Results</caption>\n",
       "<tr>\n",
       "  <th>Dep. Variable:</th>    <td>COVID Cases per 1000</td> <th>  R-squared:         </th> <td>   0.598</td>\n",
       "</tr>\n",
       "<tr>\n",
       "  <th>Model:</th>                     <td>OLS</td>         <th>  Adj. R-squared:    </th> <td>   0.560</td>\n",
       "</tr>\n",
       "<tr>\n",
       "  <th>Method:</th>               <td>Least Squares</td>    <th>  F-statistic:       </th> <td>   15.74</td>\n",
       "</tr>\n",
       "<tr>\n",
       "  <th>Date:</th>               <td>Sun, 13 Dec 2020</td>   <th>  Prob (F-statistic):</th> <td>6.54e-20</td>\n",
       "</tr>\n",
       "<tr>\n",
       "  <th>Time:</th>                   <td>17:12:38</td>       <th>  Log-Likelihood:    </th> <td> -430.93</td>\n",
       "</tr>\n",
       "<tr>\n",
       "  <th>No. Observations:</th>        <td>   140</td>        <th>  AIC:               </th> <td>   887.9</td>\n",
       "</tr>\n",
       "<tr>\n",
       "  <th>Df Residuals:</th>            <td>   127</td>        <th>  BIC:               </th> <td>   926.1</td>\n",
       "</tr>\n",
       "<tr>\n",
       "  <th>Df Model:</th>                <td>    12</td>        <th>                     </th>     <td> </td>   \n",
       "</tr>\n",
       "<tr>\n",
       "  <th>Covariance Type:</th>        <td>nonrobust</td>      <th>                     </th>     <td> </td>   \n",
       "</tr>\n",
       "</table>\n",
       "<table class=\"simpletable\">\n",
       "<tr>\n",
       "                         <td></td>                           <th>coef</th>     <th>std err</th>      <th>t</th>      <th>P>|t|</th>  <th>[0.025</th>    <th>0.975]</th>  \n",
       "</tr>\n",
       "<tr>\n",
       "  <th>const</th>                                          <td>   23.8817</td> <td>   14.112</td> <td>    1.692</td> <td> 0.093</td> <td>   -4.043</td> <td>   51.806</td>\n",
       "</tr>\n",
       "<tr>\n",
       "  <th>Average Household Size</th>                         <td>  -23.4891</td> <td>   16.606</td> <td>   -1.414</td> <td> 0.160</td> <td>  -56.350</td> <td>    9.372</td>\n",
       "</tr>\n",
       "<tr>\n",
       "  <th>Fraction of Youth (15-24 years)</th>                <td>   15.3567</td> <td>    4.972</td> <td>    3.089</td> <td> 0.002</td> <td>    5.519</td> <td>   25.195</td>\n",
       "</tr>\n",
       "<tr>\n",
       "  <th>Fraction in Single-detached house</th>              <td>   -5.1575</td> <td>    4.276</td> <td>   -1.206</td> <td> 0.230</td> <td>  -13.620</td> <td>    3.305</td>\n",
       "</tr>\n",
       "<tr>\n",
       "  <th>Fraction in Other attached dwelling</th>            <td>   -4.7486</td> <td>    3.228</td> <td>   -1.471</td> <td> 0.144</td> <td>  -11.137</td> <td>    1.639</td>\n",
       "</tr>\n",
       "<tr>\n",
       "  <th>Fraction in 1-person Household</th>                 <td>   14.7325</td> <td>    9.802</td> <td>    1.503</td> <td> 0.135</td> <td>   -4.663</td> <td>   34.128</td>\n",
       "</tr>\n",
       "<tr>\n",
       "  <th>Fraction in 2-persons Household</th>                <td>  -19.8218</td> <td>    9.867</td> <td>   -2.009</td> <td> 0.047</td> <td>  -39.346</td> <td>   -0.298</td>\n",
       "</tr>\n",
       "<tr>\n",
       "  <th>Fraction in 5+ person Household</th>                <td>   18.9963</td> <td>   10.010</td> <td>    1.898</td> <td> 0.060</td> <td>   -0.812</td> <td>   38.804</td>\n",
       "</tr>\n",
       "<tr>\n",
       "  <th>Fraction in bottom half of Income distribution</th> <td>   21.2529</td> <td>   15.477</td> <td>    1.373</td> <td> 0.172</td> <td>   -9.373</td> <td>   51.878</td>\n",
       "</tr>\n",
       "<tr>\n",
       "  <th>Fraction in Low-income cut-offs (LICO-AT)</th>      <td>  -32.0680</td> <td>    6.840</td> <td>   -4.688</td> <td> 0.000</td> <td>  -45.603</td> <td>  -18.533</td>\n",
       "</tr>\n",
       "<tr>\n",
       "  <th>Fraction with Income $125,000 to $149,999</th>      <td>   -3.3680</td> <td>    6.272</td> <td>   -0.537</td> <td> 0.592</td> <td>  -15.780</td> <td>    9.044</td>\n",
       "</tr>\n",
       "<tr>\n",
       "  <th>Fraction with Income $150,000+</th>                 <td>   -6.0309</td> <td>    9.503</td> <td>   -0.635</td> <td> 0.527</td> <td>  -24.836</td> <td>   12.774</td>\n",
       "</tr>\n",
       "<tr>\n",
       "  <th>Average after-tax Household Income</th>             <td>   -5.3676</td> <td>    3.905</td> <td>   -1.374</td> <td> 0.172</td> <td>  -13.095</td> <td>    2.360</td>\n",
       "</tr>\n",
       "</table>\n",
       "<table class=\"simpletable\">\n",
       "<tr>\n",
       "  <th>Omnibus:</th>       <td>17.236</td> <th>  Durbin-Watson:     </th> <td>   2.053</td>\n",
       "</tr>\n",
       "<tr>\n",
       "  <th>Prob(Omnibus):</th> <td> 0.000</td> <th>  Jarque-Bera (JB):  </th> <td>  22.536</td>\n",
       "</tr>\n",
       "<tr>\n",
       "  <th>Skew:</th>          <td> 0.711</td> <th>  Prob(JB):          </th> <td>1.28e-05</td>\n",
       "</tr>\n",
       "<tr>\n",
       "  <th>Kurtosis:</th>      <td> 4.357</td> <th>  Cond. No.          </th> <td>    81.7</td>\n",
       "</tr>\n",
       "</table><br/><br/>Warnings:<br/>[1] Standard Errors assume that the covariance matrix of the errors is correctly specified."
      ],
      "text/plain": [
       "<class 'statsmodels.iolib.summary.Summary'>\n",
       "\"\"\"\n",
       "                             OLS Regression Results                             \n",
       "================================================================================\n",
       "Dep. Variable:     COVID Cases per 1000   R-squared:                       0.598\n",
       "Model:                              OLS   Adj. R-squared:                  0.560\n",
       "Method:                   Least Squares   F-statistic:                     15.74\n",
       "Date:                  Sun, 13 Dec 2020   Prob (F-statistic):           6.54e-20\n",
       "Time:                          17:12:38   Log-Likelihood:                -430.93\n",
       "No. Observations:                   140   AIC:                             887.9\n",
       "Df Residuals:                       127   BIC:                             926.1\n",
       "Df Model:                            12                                         \n",
       "Covariance Type:              nonrobust                                         \n",
       "==================================================================================================================\n",
       "                                                     coef    std err          t      P>|t|      [0.025      0.975]\n",
       "------------------------------------------------------------------------------------------------------------------\n",
       "const                                             23.8817     14.112      1.692      0.093      -4.043      51.806\n",
       "Average Household Size                           -23.4891     16.606     -1.414      0.160     -56.350       9.372\n",
       "Fraction of Youth (15-24 years)                   15.3567      4.972      3.089      0.002       5.519      25.195\n",
       "Fraction in Single-detached house                 -5.1575      4.276     -1.206      0.230     -13.620       3.305\n",
       "Fraction in Other attached dwelling               -4.7486      3.228     -1.471      0.144     -11.137       1.639\n",
       "Fraction in 1-person Household                    14.7325      9.802      1.503      0.135      -4.663      34.128\n",
       "Fraction in 2-persons Household                  -19.8218      9.867     -2.009      0.047     -39.346      -0.298\n",
       "Fraction in 5+ person Household                   18.9963     10.010      1.898      0.060      -0.812      38.804\n",
       "Fraction in bottom half of Income distribution    21.2529     15.477      1.373      0.172      -9.373      51.878\n",
       "Fraction in Low-income cut-offs (LICO-AT)        -32.0680      6.840     -4.688      0.000     -45.603     -18.533\n",
       "Fraction with Income $125,000 to $149,999         -3.3680      6.272     -0.537      0.592     -15.780       9.044\n",
       "Fraction with Income $150,000+                    -6.0309      9.503     -0.635      0.527     -24.836      12.774\n",
       "Average after-tax Household Income                -5.3676      3.905     -1.374      0.172     -13.095       2.360\n",
       "==============================================================================\n",
       "Omnibus:                       17.236   Durbin-Watson:                   2.053\n",
       "Prob(Omnibus):                  0.000   Jarque-Bera (JB):               22.536\n",
       "Skew:                           0.711   Prob(JB):                     1.28e-05\n",
       "Kurtosis:                       4.357   Cond. No.                         81.7\n",
       "==============================================================================\n",
       "\n",
       "Warnings:\n",
       "[1] Standard Errors assume that the covariance matrix of the errors is correctly specified.\n",
       "\"\"\""
      ]
     },
     "execution_count": 19,
     "metadata": {},
     "output_type": "execute_result"
    }
   ],
   "source": [
    "features_corr1 = [1, 3, 8, 10, 11, 12, 15, 16, 17, 34, 35, 36]\n",
    "OLS_mult_model = sm.OLS(y, sm.add_constant(X.iloc[:,features_corr1])).fit()\n",
    "OLS_mult_model.summary()"
   ]
  },
  {
   "cell_type": "markdown",
   "metadata": {},
   "source": [
    "---"
   ]
  },
  {
   "cell_type": "markdown",
   "metadata": {},
   "source": [
    "The above results indicate that a number of the features aren't statistically significant.\n",
    "The features with the highest P-values were removed one at a time to come up with the following features.\n",
    "\n",
    "1. Youth (15-24 years)\n",
    "2. 1 persons\n",
    "3. 2 persons\n",
    "4. In the bottom half of the distribution\n",
    "5. In low income based on the Low-income cut-offs, after tax (LICO-AT)"
   ]
  },
  {
   "cell_type": "code",
   "execution_count": 20,
   "metadata": {},
   "outputs": [
    {
     "data": {
      "text/html": [
       "<table class=\"simpletable\">\n",
       "<caption>OLS Regression Results</caption>\n",
       "<tr>\n",
       "  <th>Dep. Variable:</th>    <td>COVID Cases per 1000</td> <th>  R-squared (uncentered):</th>      <td>   0.881</td>\n",
       "</tr>\n",
       "<tr>\n",
       "  <th>Model:</th>                     <td>OLS</td>         <th>  Adj. R-squared (uncentered):</th> <td>   0.877</td>\n",
       "</tr>\n",
       "<tr>\n",
       "  <th>Method:</th>               <td>Least Squares</td>    <th>  F-statistic:       </th>          <td>   200.8</td>\n",
       "</tr>\n",
       "<tr>\n",
       "  <th>Date:</th>               <td>Sun, 13 Dec 2020</td>   <th>  Prob (F-statistic):</th>          <td>1.08e-60</td>\n",
       "</tr>\n",
       "<tr>\n",
       "  <th>Time:</th>                   <td>17:12:38</td>       <th>  Log-Likelihood:    </th>          <td> -435.82</td>\n",
       "</tr>\n",
       "<tr>\n",
       "  <th>No. Observations:</th>        <td>   140</td>        <th>  AIC:               </th>          <td>   881.6</td>\n",
       "</tr>\n",
       "<tr>\n",
       "  <th>Df Residuals:</th>            <td>   135</td>        <th>  BIC:               </th>          <td>   896.3</td>\n",
       "</tr>\n",
       "<tr>\n",
       "  <th>Df Model:</th>                <td>     5</td>        <th>                     </th>              <td> </td>   \n",
       "</tr>\n",
       "<tr>\n",
       "  <th>Covariance Type:</th>        <td>nonrobust</td>      <th>                     </th>              <td> </td>   \n",
       "</tr>\n",
       "</table>\n",
       "<table class=\"simpletable\">\n",
       "<tr>\n",
       "                         <td></td>                           <th>coef</th>     <th>std err</th>      <th>t</th>      <th>P>|t|</th>  <th>[0.025</th>    <th>0.975]</th>  \n",
       "</tr>\n",
       "<tr>\n",
       "  <th>Fraction of Youth (15-24 years)</th>                <td>   19.7472</td> <td>    3.827</td> <td>    5.160</td> <td> 0.000</td> <td>   12.179</td> <td>   27.315</td>\n",
       "</tr>\n",
       "<tr>\n",
       "  <th>Fraction in 1-person Household</th>                 <td>   26.4160</td> <td>    6.164</td> <td>    4.285</td> <td> 0.000</td> <td>   14.225</td> <td>   38.607</td>\n",
       "</tr>\n",
       "<tr>\n",
       "  <th>Fraction in 2-persons Household</th>                <td>  -20.2329</td> <td>    5.094</td> <td>   -3.972</td> <td> 0.000</td> <td>  -30.307</td> <td>  -10.159</td>\n",
       "</tr>\n",
       "<tr>\n",
       "  <th>Fraction in bottom half of Income distribution</th> <td>   41.6605</td> <td>    3.240</td> <td>   12.860</td> <td> 0.000</td> <td>   35.254</td> <td>   48.067</td>\n",
       "</tr>\n",
       "<tr>\n",
       "  <th>Fraction in Low-income cut-offs (LICO-AT)</th>      <td>  -36.1527</td> <td>    4.778</td> <td>   -7.567</td> <td> 0.000</td> <td>  -45.602</td> <td>  -26.704</td>\n",
       "</tr>\n",
       "</table>\n",
       "<table class=\"simpletable\">\n",
       "<tr>\n",
       "  <th>Omnibus:</th>       <td>14.334</td> <th>  Durbin-Watson:     </th> <td>   2.004</td>\n",
       "</tr>\n",
       "<tr>\n",
       "  <th>Prob(Omnibus):</th> <td> 0.001</td> <th>  Jarque-Bera (JB):  </th> <td>  17.720</td>\n",
       "</tr>\n",
       "<tr>\n",
       "  <th>Skew:</th>          <td> 0.629</td> <th>  Prob(JB):          </th> <td>0.000142</td>\n",
       "</tr>\n",
       "<tr>\n",
       "  <th>Kurtosis:</th>      <td> 4.205</td> <th>  Cond. No.          </th> <td>    16.5</td>\n",
       "</tr>\n",
       "</table><br/><br/>Warnings:<br/>[1] Standard Errors assume that the covariance matrix of the errors is correctly specified."
      ],
      "text/plain": [
       "<class 'statsmodels.iolib.summary.Summary'>\n",
       "\"\"\"\n",
       "                                  OLS Regression Results                                 \n",
       "=========================================================================================\n",
       "Dep. Variable:     COVID Cases per 1000   R-squared (uncentered):                   0.881\n",
       "Model:                              OLS   Adj. R-squared (uncentered):              0.877\n",
       "Method:                   Least Squares   F-statistic:                              200.8\n",
       "Date:                  Sun, 13 Dec 2020   Prob (F-statistic):                    1.08e-60\n",
       "Time:                          17:12:38   Log-Likelihood:                         -435.82\n",
       "No. Observations:                   140   AIC:                                      881.6\n",
       "Df Residuals:                       135   BIC:                                      896.3\n",
       "Df Model:                             5                                                  \n",
       "Covariance Type:              nonrobust                                                  \n",
       "==================================================================================================================\n",
       "                                                     coef    std err          t      P>|t|      [0.025      0.975]\n",
       "------------------------------------------------------------------------------------------------------------------\n",
       "Fraction of Youth (15-24 years)                   19.7472      3.827      5.160      0.000      12.179      27.315\n",
       "Fraction in 1-person Household                    26.4160      6.164      4.285      0.000      14.225      38.607\n",
       "Fraction in 2-persons Household                  -20.2329      5.094     -3.972      0.000     -30.307     -10.159\n",
       "Fraction in bottom half of Income distribution    41.6605      3.240     12.860      0.000      35.254      48.067\n",
       "Fraction in Low-income cut-offs (LICO-AT)        -36.1527      4.778     -7.567      0.000     -45.602     -26.704\n",
       "==============================================================================\n",
       "Omnibus:                       14.334   Durbin-Watson:                   2.004\n",
       "Prob(Omnibus):                  0.001   Jarque-Bera (JB):               17.720\n",
       "Skew:                           0.629   Prob(JB):                     0.000142\n",
       "Kurtosis:                       4.205   Cond. No.                         16.5\n",
       "==============================================================================\n",
       "\n",
       "Warnings:\n",
       "[1] Standard Errors assume that the covariance matrix of the errors is correctly specified.\n",
       "\"\"\""
      ]
     },
     "execution_count": 20,
     "metadata": {},
     "output_type": "execute_result"
    }
   ],
   "source": [
    "features_corr2 =  [3, 11, 12, 16, 17]\n",
    "X_MLR = X.iloc[:,features_corr2]\n",
    "# calculate p-values using statsmodel:\n",
    "OLS_mult_model2 = sm.OLS(y, X_MLR).fit()\n",
    "OLS_mult_model2.summary()"
   ]
  },
  {
   "cell_type": "code",
   "execution_count": 21,
   "metadata": {},
   "outputs": [
    {
     "data": {
      "text/plain": [
       "5.676239504561907"
      ]
     },
     "execution_count": 21,
     "metadata": {},
     "output_type": "execute_result"
    }
   ],
   "source": [
    "# carry out multiple Linear Regression with 5 selected features\n",
    "T = 500 # the number of loops to average the performance\n",
    "model_LR(X_MLR, y, 800)"
   ]
  },
  {
   "cell_type": "markdown",
   "metadata": {
    "executionInfo": {
     "elapsed": 7740,
     "status": "aborted",
     "timestamp": 1606602093717,
     "user": {
      "displayName": "Wesley Oke",
      "photoUrl": "https://lh3.googleusercontent.com/a-/AOh14GjOGPxN8biLCGhPVIHe3D7qE2skvDMxE_aIkSCpfPg=s64",
      "userId": "09899504844355329451"
     },
     "user_tz": 300
    },
    "id": "4_d_JzHr8S5S"
   },
   "source": [
    "# Random Forests"
   ]
  },
  {
   "cell_type": "markdown",
   "metadata": {},
   "source": [
    "The Random Forests regressor algorithm will be applied to the Neighbourhood data (input) in order to predict the number of COVID cases in each Neighbourhood.  The input features will be those listed in the X_RF dataframe listed below, and include Income, Age, Housing type, and Household size data."
   ]
  },
  {
   "cell_type": "code",
   "execution_count": 22,
   "metadata": {},
   "outputs": [],
   "source": [
    "def model_RF(X, y, n, T):\n",
    "    ''' n is the Number of Estimators in the Random Forest model\n",
    "    T is the number of runs used to average the RMSE calculation'''\n",
    "    rmse = 0\n",
    "    for t in range(T):\n",
    "        X_train, X_test, y_train, y_test = train_test_split(X, y)\n",
    "        model = RandomForestRegressor(n_estimators=n).fit(X_train, y_train)\n",
    "        y_test_est = model.predict(X_test)\n",
    "        rmse += np.sqrt(mean_squared_error(y_test, y_test_est))\n",
    "    return rmse / T"
   ]
  },
  {
   "cell_type": "code",
   "execution_count": 23,
   "metadata": {},
   "outputs": [],
   "source": [
    "# list of Number of Estimators to be used in Random Forest model\n",
    "n_list = [20, 100]\n",
    "# note that calculation time increases greatly as n increases past 100 and 200.\n",
    "T = 200 # the number of loops to average the performance\n",
    "rmse = np.zeros(len(n_list))\n",
    "for i, n in enumerate(n_list):\n",
    "    rmse[i] += model_RF(X, y, n, T)\n",
    "n_rmse = pd.DataFrame(rmse, index=n_list, columns=['RMSE'])\n",
    "n_rmse.index.name = 'n'"
   ]
  },
  {
   "cell_type": "code",
   "execution_count": 24,
   "metadata": {},
   "outputs": [
    {
     "data": {
      "image/png": "[encoded data removed]",
      "text/plain": [
       "<Figure size 720x360 with 1 Axes>"
      ]
     },
     "metadata": {
      "needs_background": "light"
     },
     "output_type": "display_data"
    }
   ],
   "source": [
    "fig, ax = plt.subplots(figsize=(10,5))\n",
    "n_rmse.plot(ax=ax, title='Root mean squared error (RMSE) vs. Random Forests Number of Estimators (n)')\n",
    "ax.set_ylim([5.5,6.5])\n",
    "ax.grid();"
   ]
  },
  {
   "cell_type": "markdown",
   "metadata": {},
   "source": [
    "Performance generally increases slightly as n increases, but the calculation time is too great to do a thorough analysis."
   ]
  },
  {
   "cell_type": "code",
   "execution_count": 25,
   "metadata": {},
   "outputs": [
    {
     "data": {
      "text/plain": [
       "Population Density                                0.035333\n",
       "Average Household Size                            0.016900\n",
       "Fraction of Children (0-14 years)                 0.028409\n",
       "Fraction of Youth (15-24 years)                   0.020578\n",
       "Fraction of Working Age (25-54 years)             0.019730\n",
       "Fraction of Pre-retirement (55-64 years)          0.015402\n",
       "Fraction of Seniors (65+ years)                   0.018733\n",
       "Fraction of Older Seniors (85+ years)             0.049631\n",
       "Fraction in Single-detached house                 0.004639\n",
       "Fraction in Apartment buildings (5+ storeys)      0.004484\n",
       "Fraction in Other attached dwelling               0.006908\n",
       "Fraction in 1-person Household                    0.010986\n",
       "Fraction in 2-persons Household                   0.039875\n",
       "Fraction in 3-person Household                    0.020177\n",
       "Fraction in 4-person Household                    0.011974\n",
       "Fraction in 5+ person Household                   0.068648\n",
       "Fraction in bottom half of Income distribution    0.010576\n",
       "Fraction in Low-income cut-offs (LICO-AT)         0.011182\n",
       "Fraction with Income Under $5,000                 0.038923\n",
       "Fraction with Income $5,000 to $9,999             0.012691\n",
       "Fraction with Income $10,000 to $14,999           0.007478\n",
       "Fraction with Income $15,000 to $19,999           0.022187\n",
       "Fraction with Income $20,000 to $24,999           0.014059\n",
       "Fraction with Income $25,000 to $29,999           0.011958\n",
       "Fraction with Income $30,000 to $34,999           0.005977\n",
       "Fraction with Income $35,000 to $39,999           0.012928\n",
       "Fraction with Income $40,000 to $44,999           0.004853\n",
       "Fraction with Income $45,000 to $49,999           0.013125\n",
       "Fraction with Income $50,000 to $59,999           0.006933\n",
       "Fraction with Income $60,000 to $69,999           0.008596\n",
       "Fraction with Income $70,000 to $79,999           0.016566\n",
       "Fraction with Income $80,000 to $89,999           0.005077\n",
       "Fraction with Income $90,000 to $99,999           0.005636\n",
       "Fraction with Income $100,000 to $124,999         0.015147\n",
       "Fraction with Income $125,000 to $149,999         0.021557\n",
       "Fraction with Income $150,000+                    0.363517\n",
       "Average after-tax Household Income                0.018629\n",
       "Name: Imporance, dtype: float64"
      ]
     },
     "execution_count": 25,
     "metadata": {},
     "output_type": "execute_result"
    }
   ],
   "source": [
    "X_train, X_test, y_train, y_test = train_test_split(X, y)\n",
    "model_RF = RandomForestRegressor(n_estimators=100).fit(X_train, y_train)\n",
    "feat_importance = pd.Series(model_RF.feature_importances_, name = 'Imporance',\n",
    "                            index = X.columns)\n",
    "feat_importance"
   ]
  },
  {
   "cell_type": "code",
   "execution_count": 26,
   "metadata": {},
   "outputs": [
    {
     "data": {
      "image/png": "[encoded data removed]",
      "text/plain": [
       "<Figure size 720x331.2 with 1 Axes>"
      ]
     },
     "metadata": {
      "needs_background": "light"
     },
     "output_type": "display_data"
    }
   ],
   "source": [
    "fig, ax = plt.subplots(figsize=(10,4.6))\t\n",
    "feat_importance.loc[feat_importance >= 0.025].plot.barh(ax=ax);\n",
    "ax.set_xlabel('Feature Importance')\n",
    "fig.suptitle('Random Forest Regressor Feature Importance', y=0.94, fontsize=14);"
   ]
  },
  {
   "cell_type": "markdown",
   "metadata": {},
   "source": [
    "# Neural Networks"
   ]
  },
  {
   "cell_type": "code",
   "execution_count": 27,
   "metadata": {
    "colab": {
     "base_uri": "https://localhost:8080/"
    },
    "executionInfo": {
     "elapsed": 40048,
     "status": "ok",
     "timestamp": 1606602386848,
     "user": {
      "displayName": "Wesley Oke",
      "photoUrl": "https://lh3.googleusercontent.com/a-/AOh14GjOGPxN8biLCGhPVIHe3D7qE2skvDMxE_aIkSCpfPg=s64",
      "userId": "09899504844355329451"
     },
     "user_tz": 300
    },
    "id": "KIyFg6DE2h7f",
    "outputId": "180e0035-8219-4187-b47c-765aa14c0362"
   },
   "outputs": [
    {
     "name": "stdout",
     "output_type": "stream",
     "text": [
      "Best parameters set found on development set:\n",
      "{'activation': 'relu', 'alpha': 4, 'hidden_layer_sizes': (20,), 'solver': 'lbfgs'}\n"
     ]
    }
   ],
   "source": [
    "param_grid = [{'activation' : ['relu'], 'solver' : ['lbfgs'],\n",
    "            'alpha' : [1, 2, 4, 8],\n",
    "            'hidden_layer_sizes': [(10,), (15,), (20,), (30,),]}]\n",
    "\n",
    "clf = GridSearchCV(MLPRegressor(max_iter=1000000), param_grid, cv=3, # use cross-validation of 2 or 3 b/c data set is small\n",
    "                           scoring='neg_root_mean_squared_error')\n",
    "clf.fit(X, y)\n",
    "\n",
    "print(\"Best parameters set found on development set:\")\n",
    "print(clf.best_params_)"
   ]
  },
  {
   "cell_type": "code",
   "execution_count": 28,
   "metadata": {},
   "outputs": [],
   "source": [
    "def model_NN(X, y, alpha, layers, T):\n",
    "    ''' \n",
    "    T is the number of runs used to average the RMSE calculation'''\n",
    "    rmse = 0\n",
    "    for t in range(T):\n",
    "        X_train, X_test, y_train, y_test = train_test_split(X, y)\n",
    "        model = MLPRegressor(alpha=alpha, hidden_layer_sizes=(layers,), solver='lbfgs', max_iter=1000000,\n",
    "                             activation='relu').fit(X_train, y_train)\n",
    "        y_test_est = model.predict(X_test)\n",
    "        rmse += np.sqrt(mean_squared_error(y_test, y_test_est))\n",
    "    return rmse / T"
   ]
  },
  {
   "cell_type": "code",
   "execution_count": 29,
   "metadata": {},
   "outputs": [
    {
     "data": {
      "text/plain": [
       "5.623546245604557"
      ]
     },
     "execution_count": 29,
     "metadata": {},
     "output_type": "execute_result"
    }
   ],
   "source": [
    "alpha = 4\n",
    "layers = 20\n",
    "model_NN(X, y, alpha, layers, 50)"
   ]
  },
  {
   "cell_type": "markdown",
   "metadata": {},
   "source": [
    "# Visualization"
   ]
  },
  {
   "cell_type": "code",
   "execution_count": 30,
   "metadata": {},
   "outputs": [],
   "source": [
    "X_train, X_test, y_train, y_test = train_test_split(X, y)\n",
    "\n",
    "model_MLR = LinearRegression().fit(X_train.iloc[:,features_corr2], y_train)\n",
    "y_test_MLR = model_MLR.predict(X_test.iloc[:,features_corr2])\n",
    "\n",
    "model_RF = RandomForestRegressor().fit(X_train, y_train)\n",
    "y_test_RF = model_RF.predict(X_test)\n",
    "\n",
    "model_NN = MLPRegressor(alpha=alpha, hidden_layer_sizes=(layers,), solver='lbfgs',\n",
    "                      max_iter=1000000, activation='relu').fit(X_train, y_train)\n",
    "y_test_NN = model_NN.predict(X_test)"
   ]
  },
  {
   "cell_type": "code",
   "execution_count": 31,
   "metadata": {},
   "outputs": [
    {
     "data": {
      "image/png": "[encoded data removed]",
      "text/plain": [
       "<Figure size 504x504 with 1 Axes>"
      ]
     },
     "metadata": {
      "needs_background": "light"
     },
     "output_type": "display_data"
    }
   ],
   "source": [
    "fig, ax = plt.subplots(figsize=(7,7))\n",
    "plot_MLR = ax.scatter(x=y_test, y=y_test_MLR, marker=\"o\", s=100, alpha=0.6, color='green')\n",
    "plot_RF = ax.scatter(x=y_test, y=y_test_RF, marker=\"o\", s=100, alpha=0.5, color='red')\n",
    "plot_NN = ax.scatter(x=y_test, y=y_test_NN, marker=\"o\", s=100, alpha=0.5, color='blue')\n",
    "ax.legend((plot_MLR, plot_RF, plot_NN),\n",
    "          ('Multiple Linear Regression', 'Random Forest', 'Neural Network'),\n",
    "          facecolor = 'grey', framealpha = 0.4)\n",
    "\n",
    "axis_label = \"Number of COVID Cases per 100 residents\"\n",
    "ax.set_xlabel(\"Actual %s\"%axis_label)\n",
    "ax.set_ylabel(\"Predicted %s\"%axis_label); \n",
    "ax.set_title(\"Regression Algorithm Comparison\", fontsize=14);\n",
    "ax.plot([np.min(y_test), np.max(y_test)], [np.min(y_test), np.max(y_test)], alpha=0.3, linewidth=2);"
   ]
  }
 ],
 "metadata": {
  "colab": {
   "collapsed_sections": [],
   "name": "covid_nbhood_ML_wes.ipynb",
   "provenance": []
  },
  "kernelspec": {
   "display_name": "Python 3",
   "language": "python",
   "name": "python3"
  },
  "language_info": {
   "codemirror_mode": {
    "name": "ipython",
    "version": 3
   },
   "file_extension": ".py",
   "mimetype": "text/x-python",
   "name": "python",
   "nbconvert_exporter": "python",
   "pygments_lexer": "ipython3",
   "version": "3.8.3"
  },
  "toc-autonumbering": true,
  "toc-showcode": false,
  "toc-showmarkdowntxt": false,
  "toc-showtags": false
 },
 "nbformat": 4,
 "nbformat_minor": 4
}
