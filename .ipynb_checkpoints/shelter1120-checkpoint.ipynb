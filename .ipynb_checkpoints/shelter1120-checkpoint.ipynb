{
 "cells": [
  {
   "cell_type": "markdown",
   "metadata": {},
   "source": [
    "Before you turn this problem in, make sure everything runs as expected. First, **restart the kernel** (in the menu bar, select Kernel$\\rightarrow$Restart) and then **run all cells** (in the menu bar, select Cell$\\rightarrow$Run All).\n",
    "\n",
    "Make sure that in addition to the code, you provide written answers for all questions of the assignment. \n",
    "\n",
    "Below, please fill in your name and collaborators:"
   ]
  },
  {
   "cell_type": "code",
   "execution_count": 89,
   "metadata": {},
   "outputs": [],
   "source": [
    "NAME = \"Saeed Damroodi\"\n",
    "COLLABORATORS = \"Group14\""
   ]
  },
  {
   "cell_type": "markdown",
   "metadata": {},
   "source": [
    "## Assignment Group - Data Science1\n"
   ]
  },
  {
   "cell_type": "code",
   "execution_count": 90,
   "metadata": {
    "scrolled": false
   },
   "outputs": [],
   "source": [
    "import pandas as pd\n",
    "import numpy as np\n",
    "import matplotlib.pyplot as plt  # for visualizing our data\n",
    "%matplotlib inline\n",
    "# This will ignore the warnings\n",
    "import warnings\n",
    "warnings.filterwarnings(\"ignore\")\n"
   ]
  },
  {
   "cell_type": "code",
   "execution_count": 91,
   "metadata": {},
   "outputs": [],
   "source": [
    "pj20 = pd.read_csv('shelter.csv',usecols =['OCCUPANCY_DATE','SECTOR','OCCUPANCY'])\n",
    "pj19 = pd.read_csv('daily-shelter-occupancy-2019-csv.csv',usecols =['OCCUPANCY_DATE','SECTOR','OCCUPANCY'])\n",
    "pj18 = pd.read_csv('daily-shelter-occupancy-2018-csv.csv',usecols =['OCCUPANCY_DATE','SECTOR','OCCUPANCY'])\n",
    "pj17 = pd.read_csv('daily-shelter-occupancy-2017-csv.csv',usecols =['OCCUPANCY_DATE','SECTOR','OCCUPANCY'])\n",
    "\n",
    "cov19 = pd.read_csv('COVID19 cases.csv',usecols =['Reported Date','Client Gender'])\n",
    "#concatenated = pd.concat([df1, df2])\n",
    "#cov19.head()"
   ]
  },
  {
   "cell_type": "markdown",
   "metadata": {},
   "source": [
    "# Dataset Shelter  2019"
   ]
  },
  {
   "cell_type": "code",
   "execution_count": 92,
   "metadata": {
    "scrolled": true
   },
   "outputs": [
    {
     "name": "stdout",
     "output_type": "stream",
     "text": [
      "<class 'pandas.core.frame.DataFrame'>\n",
      "RangeIndex: 39446 entries, 0 to 39445\n",
      "Data columns (total 3 columns):\n",
      " #   Column          Non-Null Count  Dtype \n",
      "---  ------          --------------  ----- \n",
      " 0   OCCUPANCY_DATE  39446 non-null  object\n",
      " 1   SECTOR          39446 non-null  object\n",
      " 2   OCCUPANCY       39446 non-null  int64 \n",
      "dtypes: int64(1), object(2)\n",
      "memory usage: 924.6+ KB\n"
     ]
    }
   ],
   "source": [
    "pj19.info()"
   ]
  },
  {
   "cell_type": "code",
   "execution_count": 93,
   "metadata": {
    "scrolled": false
   },
   "outputs": [
    {
     "data": {
      "text/html": [
       "<div>\n",
       "<style scoped>\n",
       "    .dataframe tbody tr th:only-of-type {\n",
       "        vertical-align: middle;\n",
       "    }\n",
       "\n",
       "    .dataframe tbody tr th {\n",
       "        vertical-align: top;\n",
       "    }\n",
       "\n",
       "    .dataframe thead th {\n",
       "        text-align: right;\n",
       "    }\n",
       "</style>\n",
       "<table border=\"1\" class=\"dataframe\">\n",
       "  <thead>\n",
       "    <tr style=\"text-align: right;\">\n",
       "      <th></th>\n",
       "      <th>OCCUPANCY</th>\n",
       "    </tr>\n",
       "  </thead>\n",
       "  <tbody>\n",
       "    <tr>\n",
       "      <th>count</th>\n",
       "      <td>39446.0</td>\n",
       "    </tr>\n",
       "    <tr>\n",
       "      <th>mean</th>\n",
       "      <td>63.2</td>\n",
       "    </tr>\n",
       "    <tr>\n",
       "      <th>std</th>\n",
       "      <td>99.5</td>\n",
       "    </tr>\n",
       "    <tr>\n",
       "      <th>min</th>\n",
       "      <td>0.0</td>\n",
       "    </tr>\n",
       "    <tr>\n",
       "      <th>25%</th>\n",
       "      <td>16.0</td>\n",
       "    </tr>\n",
       "    <tr>\n",
       "      <th>50%</th>\n",
       "      <td>40.0</td>\n",
       "    </tr>\n",
       "    <tr>\n",
       "      <th>75%</th>\n",
       "      <td>71.0</td>\n",
       "    </tr>\n",
       "    <tr>\n",
       "      <th>max</th>\n",
       "      <td>826.0</td>\n",
       "    </tr>\n",
       "  </tbody>\n",
       "</table>\n",
       "</div>"
      ],
      "text/plain": [
       "       OCCUPANCY\n",
       "count    39446.0\n",
       "mean        63.2\n",
       "std         99.5\n",
       "min          0.0\n",
       "25%         16.0\n",
       "50%         40.0\n",
       "75%         71.0\n",
       "max        826.0"
      ]
     },
     "execution_count": 93,
     "metadata": {},
     "output_type": "execute_result"
    }
   ],
   "source": [
    "pj19.describe().round(1)"
   ]
  },
  {
   "cell_type": "code",
   "execution_count": 94,
   "metadata": {},
   "outputs": [],
   "source": [
    "#pj19_g=pj19.groupby(['OCCUPANCY_DATE','SECTOR'])['OCCUPANCY'].sum()\n",
    "#pj19_g"
   ]
  },
  {
   "cell_type": "code",
   "execution_count": 95,
   "metadata": {},
   "outputs": [
    {
     "data": {
      "text/plain": [
       "SECTOR\n",
       "Co-ed        255805\n",
       "Families    1090896\n",
       "Men          649590\n",
       "Women        306153\n",
       "Youth        192072\n",
       "Name: OCCUPANCY, dtype: int64"
      ]
     },
     "execution_count": 95,
     "metadata": {},
     "output_type": "execute_result"
    }
   ],
   "source": [
    "pj19_g=pj19.groupby(['SECTOR'])['OCCUPANCY'].sum()\n",
    "pj19_g"
   ]
  },
  {
   "cell_type": "code",
   "execution_count": 96,
   "metadata": {},
   "outputs": [
    {
     "data": {
      "text/html": [
       "<div>\n",
       "<style scoped>\n",
       "    .dataframe tbody tr th:only-of-type {\n",
       "        vertical-align: middle;\n",
       "    }\n",
       "\n",
       "    .dataframe tbody tr th {\n",
       "        vertical-align: top;\n",
       "    }\n",
       "\n",
       "    .dataframe thead th {\n",
       "        text-align: right;\n",
       "    }\n",
       "</style>\n",
       "<table border=\"1\" class=\"dataframe\">\n",
       "  <thead>\n",
       "    <tr style=\"text-align: right;\">\n",
       "      <th>SECTOR</th>\n",
       "      <th>Co-ed</th>\n",
       "      <th>Families</th>\n",
       "      <th>Men</th>\n",
       "      <th>Women</th>\n",
       "      <th>Youth</th>\n",
       "    </tr>\n",
       "    <tr>\n",
       "      <th>OCCUPANCY_DATE</th>\n",
       "      <th></th>\n",
       "      <th></th>\n",
       "      <th></th>\n",
       "      <th></th>\n",
       "      <th></th>\n",
       "    </tr>\n",
       "  </thead>\n",
       "  <tbody>\n",
       "    <tr>\n",
       "      <th>01</th>\n",
       "      <td>19573</td>\n",
       "      <td>96943</td>\n",
       "      <td>55243</td>\n",
       "      <td>23276</td>\n",
       "      <td>16089</td>\n",
       "    </tr>\n",
       "    <tr>\n",
       "      <th>02</th>\n",
       "      <td>18231</td>\n",
       "      <td>87173</td>\n",
       "      <td>49717</td>\n",
       "      <td>21899</td>\n",
       "      <td>14804</td>\n",
       "    </tr>\n",
       "    <tr>\n",
       "      <th>03</th>\n",
       "      <td>19999</td>\n",
       "      <td>96915</td>\n",
       "      <td>55149</td>\n",
       "      <td>24395</td>\n",
       "      <td>16412</td>\n",
       "    </tr>\n",
       "    <tr>\n",
       "      <th>04</th>\n",
       "      <td>19797</td>\n",
       "      <td>96025</td>\n",
       "      <td>52650</td>\n",
       "      <td>24415</td>\n",
       "      <td>15821</td>\n",
       "    </tr>\n",
       "    <tr>\n",
       "      <th>05</th>\n",
       "      <td>21073</td>\n",
       "      <td>99285</td>\n",
       "      <td>54239</td>\n",
       "      <td>25919</td>\n",
       "      <td>16130</td>\n",
       "    </tr>\n",
       "    <tr>\n",
       "      <th>06</th>\n",
       "      <td>21820</td>\n",
       "      <td>94749</td>\n",
       "      <td>52862</td>\n",
       "      <td>25334</td>\n",
       "      <td>15498</td>\n",
       "    </tr>\n",
       "    <tr>\n",
       "      <th>07</th>\n",
       "      <td>22386</td>\n",
       "      <td>94869</td>\n",
       "      <td>55058</td>\n",
       "      <td>26341</td>\n",
       "      <td>16401</td>\n",
       "    </tr>\n",
       "    <tr>\n",
       "      <th>08</th>\n",
       "      <td>21799</td>\n",
       "      <td>93011</td>\n",
       "      <td>55153</td>\n",
       "      <td>26387</td>\n",
       "      <td>16241</td>\n",
       "    </tr>\n",
       "    <tr>\n",
       "      <th>09</th>\n",
       "      <td>21135</td>\n",
       "      <td>84678</td>\n",
       "      <td>52508</td>\n",
       "      <td>25553</td>\n",
       "      <td>15852</td>\n",
       "    </tr>\n",
       "    <tr>\n",
       "      <th>10</th>\n",
       "      <td>21873</td>\n",
       "      <td>85794</td>\n",
       "      <td>54035</td>\n",
       "      <td>26445</td>\n",
       "      <td>16429</td>\n",
       "    </tr>\n",
       "    <tr>\n",
       "      <th>11</th>\n",
       "      <td>23510</td>\n",
       "      <td>80085</td>\n",
       "      <td>54101</td>\n",
       "      <td>26718</td>\n",
       "      <td>15944</td>\n",
       "    </tr>\n",
       "    <tr>\n",
       "      <th>12</th>\n",
       "      <td>24609</td>\n",
       "      <td>81369</td>\n",
       "      <td>58875</td>\n",
       "      <td>29471</td>\n",
       "      <td>16451</td>\n",
       "    </tr>\n",
       "  </tbody>\n",
       "</table>\n",
       "</div>"
      ],
      "text/plain": [
       "SECTOR          Co-ed  Families    Men  Women  Youth\n",
       "OCCUPANCY_DATE                                      \n",
       "01              19573     96943  55243  23276  16089\n",
       "02              18231     87173  49717  21899  14804\n",
       "03              19999     96915  55149  24395  16412\n",
       "04              19797     96025  52650  24415  15821\n",
       "05              21073     99285  54239  25919  16130\n",
       "06              21820     94749  52862  25334  15498\n",
       "07              22386     94869  55058  26341  16401\n",
       "08              21799     93011  55153  26387  16241\n",
       "09              21135     84678  52508  25553  15852\n",
       "10              21873     85794  54035  26445  16429\n",
       "11              23510     80085  54101  26718  15944\n",
       "12              24609     81369  58875  29471  16451"
      ]
     },
     "execution_count": 96,
     "metadata": {},
     "output_type": "execute_result"
    }
   ],
   "source": [
    "pj19_g=pd.crosstab(pj19['OCCUPANCY_DATE'].str[5:7],pj19['SECTOR'],pj19['OCCUPANCY'],aggfunc='sum')\n",
    "pj19_g"
   ]
  },
  {
   "cell_type": "code",
   "execution_count": 97,
   "metadata": {
    "scrolled": true
   },
   "outputs": [
    {
     "data": {
      "image/png": "[encoded data removed]",
      "text/plain": [
       "<Figure size 1080x720 with 1 Axes>"
      ]
     },
     "metadata": {
      "needs_background": "light"
     },
     "output_type": "display_data"
    }
   ],
   "source": [
    "pj19_g=pd.crosstab(pj19['OCCUPANCY_DATE'].str[5:7],pj19['SECTOR'],pj19['OCCUPANCY'],aggfunc='sum')\n",
    "pj19_g.plot(kind='bar',stacked=True,figsize=(15,10));"
   ]
  },
  {
   "cell_type": "code",
   "execution_count": 98,
   "metadata": {},
   "outputs": [],
   "source": [
    "#df[df['EducationField']=='Medical']\n",
    "#sum_pj19=pj19[pj19['SECTOR']==\"Families\"].pj19.sum('OCCUPANCY') #(pj19 pj19['OCCUPANCY'],\n",
    "#sum_pj=sum_pj19['OCCUPANCY'],sum()"
   ]
  },
  {
   "cell_type": "code",
   "execution_count": null,
   "metadata": {},
   "outputs": [],
   "source": []
  },
  {
   "cell_type": "markdown",
   "metadata": {},
   "source": [
    "# Dataset Shelter 2018"
   ]
  },
  {
   "cell_type": "code",
   "execution_count": 99,
   "metadata": {},
   "outputs": [
    {
     "name": "stdout",
     "output_type": "stream",
     "text": [
      "<class 'pandas.core.frame.DataFrame'>\n",
      "RangeIndex: 37770 entries, 0 to 37769\n",
      "Data columns (total 3 columns):\n",
      " #   Column          Non-Null Count  Dtype \n",
      "---  ------          --------------  ----- \n",
      " 0   OCCUPANCY_DATE  37770 non-null  object\n",
      " 1   SECTOR          37770 non-null  object\n",
      " 2   OCCUPANCY       37770 non-null  int64 \n",
      "dtypes: int64(1), object(2)\n",
      "memory usage: 885.4+ KB\n"
     ]
    }
   ],
   "source": [
    "pj18.info()"
   ]
  },
  {
   "cell_type": "code",
   "execution_count": 100,
   "metadata": {},
   "outputs": [
    {
     "data": {
      "text/html": [
       "<div>\n",
       "<style scoped>\n",
       "    .dataframe tbody tr th:only-of-type {\n",
       "        vertical-align: middle;\n",
       "    }\n",
       "\n",
       "    .dataframe tbody tr th {\n",
       "        vertical-align: top;\n",
       "    }\n",
       "\n",
       "    .dataframe thead th {\n",
       "        text-align: right;\n",
       "    }\n",
       "</style>\n",
       "<table border=\"1\" class=\"dataframe\">\n",
       "  <thead>\n",
       "    <tr style=\"text-align: right;\">\n",
       "      <th></th>\n",
       "      <th>OCCUPANCY</th>\n",
       "    </tr>\n",
       "  </thead>\n",
       "  <tbody>\n",
       "    <tr>\n",
       "      <th>count</th>\n",
       "      <td>37770.0</td>\n",
       "    </tr>\n",
       "    <tr>\n",
       "      <th>mean</th>\n",
       "      <td>61.5</td>\n",
       "    </tr>\n",
       "    <tr>\n",
       "      <th>std</th>\n",
       "      <td>88.8</td>\n",
       "    </tr>\n",
       "    <tr>\n",
       "      <th>min</th>\n",
       "      <td>0.0</td>\n",
       "    </tr>\n",
       "    <tr>\n",
       "      <th>25%</th>\n",
       "      <td>13.0</td>\n",
       "    </tr>\n",
       "    <tr>\n",
       "      <th>50%</th>\n",
       "      <td>38.0</td>\n",
       "    </tr>\n",
       "    <tr>\n",
       "      <th>75%</th>\n",
       "      <td>71.0</td>\n",
       "    </tr>\n",
       "    <tr>\n",
       "      <th>max</th>\n",
       "      <td>775.0</td>\n",
       "    </tr>\n",
       "  </tbody>\n",
       "</table>\n",
       "</div>"
      ],
      "text/plain": [
       "       OCCUPANCY\n",
       "count    37770.0\n",
       "mean        61.5\n",
       "std         88.8\n",
       "min          0.0\n",
       "25%         13.0\n",
       "50%         38.0\n",
       "75%         71.0\n",
       "max        775.0"
      ]
     },
     "execution_count": 100,
     "metadata": {},
     "output_type": "execute_result"
    }
   ],
   "source": [
    "pj18.describe().round(1)"
   ]
  },
  {
   "cell_type": "code",
   "execution_count": 101,
   "metadata": {},
   "outputs": [
    {
     "data": {
      "text/plain": [
       "SECTOR\n",
       "Co-ed       217494\n",
       "Families    998622\n",
       "Men         649625\n",
       "Women       269750\n",
       "Youth       187693\n",
       "Name: OCCUPANCY, dtype: int64"
      ]
     },
     "execution_count": 101,
     "metadata": {},
     "output_type": "execute_result"
    }
   ],
   "source": [
    "pj18_g=pj18.groupby(['SECTOR'])['OCCUPANCY'].sum()\n",
    "pj18_g"
   ]
  },
  {
   "cell_type": "code",
   "execution_count": 102,
   "metadata": {},
   "outputs": [
    {
     "data": {
      "text/html": [
       "<div>\n",
       "<style scoped>\n",
       "    .dataframe tbody tr th:only-of-type {\n",
       "        vertical-align: middle;\n",
       "    }\n",
       "\n",
       "    .dataframe tbody tr th {\n",
       "        vertical-align: top;\n",
       "    }\n",
       "\n",
       "    .dataframe thead th {\n",
       "        text-align: right;\n",
       "    }\n",
       "</style>\n",
       "<table border=\"1\" class=\"dataframe\">\n",
       "  <thead>\n",
       "    <tr style=\"text-align: right;\">\n",
       "      <th>SECTOR</th>\n",
       "      <th>Co-ed</th>\n",
       "      <th>Families</th>\n",
       "      <th>Men</th>\n",
       "      <th>Women</th>\n",
       "      <th>Youth</th>\n",
       "    </tr>\n",
       "    <tr>\n",
       "      <th>OCCUPANCY_DATE</th>\n",
       "      <th></th>\n",
       "      <th></th>\n",
       "      <th></th>\n",
       "      <th></th>\n",
       "      <th></th>\n",
       "    </tr>\n",
       "  </thead>\n",
       "  <tbody>\n",
       "    <tr>\n",
       "      <th>01</th>\n",
       "      <td>16634</td>\n",
       "      <td>64568</td>\n",
       "      <td>54301</td>\n",
       "      <td>23558</td>\n",
       "      <td>15998</td>\n",
       "    </tr>\n",
       "    <tr>\n",
       "      <th>02</th>\n",
       "      <td>15556</td>\n",
       "      <td>62501</td>\n",
       "      <td>49528</td>\n",
       "      <td>21611</td>\n",
       "      <td>14475</td>\n",
       "    </tr>\n",
       "    <tr>\n",
       "      <th>03</th>\n",
       "      <td>18011</td>\n",
       "      <td>74868</td>\n",
       "      <td>55405</td>\n",
       "      <td>23623</td>\n",
       "      <td>15886</td>\n",
       "    </tr>\n",
       "    <tr>\n",
       "      <th>04</th>\n",
       "      <td>18135</td>\n",
       "      <td>80787</td>\n",
       "      <td>53489</td>\n",
       "      <td>22277</td>\n",
       "      <td>15366</td>\n",
       "    </tr>\n",
       "    <tr>\n",
       "      <th>05</th>\n",
       "      <td>18451</td>\n",
       "      <td>91580</td>\n",
       "      <td>56354</td>\n",
       "      <td>22887</td>\n",
       "      <td>15940</td>\n",
       "    </tr>\n",
       "    <tr>\n",
       "      <th>06</th>\n",
       "      <td>16863</td>\n",
       "      <td>87287</td>\n",
       "      <td>54035</td>\n",
       "      <td>21770</td>\n",
       "      <td>15341</td>\n",
       "    </tr>\n",
       "    <tr>\n",
       "      <th>07</th>\n",
       "      <td>18112</td>\n",
       "      <td>88730</td>\n",
       "      <td>54348</td>\n",
       "      <td>22598</td>\n",
       "      <td>15862</td>\n",
       "    </tr>\n",
       "    <tr>\n",
       "      <th>08</th>\n",
       "      <td>19274</td>\n",
       "      <td>88522</td>\n",
       "      <td>55067</td>\n",
       "      <td>22498</td>\n",
       "      <td>15780</td>\n",
       "    </tr>\n",
       "    <tr>\n",
       "      <th>09</th>\n",
       "      <td>18962</td>\n",
       "      <td>86503</td>\n",
       "      <td>53323</td>\n",
       "      <td>21759</td>\n",
       "      <td>15171</td>\n",
       "    </tr>\n",
       "    <tr>\n",
       "      <th>10</th>\n",
       "      <td>19394</td>\n",
       "      <td>90471</td>\n",
       "      <td>55665</td>\n",
       "      <td>22621</td>\n",
       "      <td>16146</td>\n",
       "    </tr>\n",
       "    <tr>\n",
       "      <th>11</th>\n",
       "      <td>18658</td>\n",
       "      <td>88345</td>\n",
       "      <td>53545</td>\n",
       "      <td>21826</td>\n",
       "      <td>15646</td>\n",
       "    </tr>\n",
       "    <tr>\n",
       "      <th>12</th>\n",
       "      <td>19444</td>\n",
       "      <td>94460</td>\n",
       "      <td>54565</td>\n",
       "      <td>22722</td>\n",
       "      <td>16082</td>\n",
       "    </tr>\n",
       "  </tbody>\n",
       "</table>\n",
       "</div>"
      ],
      "text/plain": [
       "SECTOR          Co-ed  Families    Men  Women  Youth\n",
       "OCCUPANCY_DATE                                      \n",
       "01              16634     64568  54301  23558  15998\n",
       "02              15556     62501  49528  21611  14475\n",
       "03              18011     74868  55405  23623  15886\n",
       "04              18135     80787  53489  22277  15366\n",
       "05              18451     91580  56354  22887  15940\n",
       "06              16863     87287  54035  21770  15341\n",
       "07              18112     88730  54348  22598  15862\n",
       "08              19274     88522  55067  22498  15780\n",
       "09              18962     86503  53323  21759  15171\n",
       "10              19394     90471  55665  22621  16146\n",
       "11              18658     88345  53545  21826  15646\n",
       "12              19444     94460  54565  22722  16082"
      ]
     },
     "execution_count": 102,
     "metadata": {},
     "output_type": "execute_result"
    }
   ],
   "source": [
    "pj18_g=pd.crosstab(pj18['OCCUPANCY_DATE'].str[5:7],pj18['SECTOR'],pj18['OCCUPANCY'],aggfunc='sum')\n",
    "pj18_g"
   ]
  },
  {
   "cell_type": "code",
   "execution_count": 103,
   "metadata": {},
   "outputs": [
    {
     "data": {
      "image/png": "[encoded data removed]",
      "text/plain": [
       "<Figure size 1080x720 with 1 Axes>"
      ]
     },
     "metadata": {
      "needs_background": "light"
     },
     "output_type": "display_data"
    }
   ],
   "source": [
    "pj18_g=pd.crosstab(pj18['OCCUPANCY_DATE'].str[5:7],pj18['SECTOR'],pj18['OCCUPANCY'],aggfunc='sum')\n",
    "pj18_g.plot(kind='bar',stacked=True,figsize=(15,10));"
   ]
  },
  {
   "cell_type": "markdown",
   "metadata": {},
   "source": [
    "# Dataset Shelter 2017"
   ]
  },
  {
   "cell_type": "code",
   "execution_count": 104,
   "metadata": {},
   "outputs": [
    {
     "name": "stdout",
     "output_type": "stream",
     "text": [
      "<class 'pandas.core.frame.DataFrame'>\n",
      "RangeIndex: 38700 entries, 0 to 38699\n",
      "Data columns (total 3 columns):\n",
      " #   Column          Non-Null Count  Dtype \n",
      "---  ------          --------------  ----- \n",
      " 0   OCCUPANCY_DATE  38700 non-null  object\n",
      " 1   SECTOR          38700 non-null  object\n",
      " 2   OCCUPANCY       38700 non-null  int64 \n",
      "dtypes: int64(1), object(2)\n",
      "memory usage: 907.2+ KB\n"
     ]
    }
   ],
   "source": [
    "pj17.info()"
   ]
  },
  {
   "cell_type": "code",
   "execution_count": 105,
   "metadata": {},
   "outputs": [
    {
     "data": {
      "text/html": [
       "<div>\n",
       "<style scoped>\n",
       "    .dataframe tbody tr th:only-of-type {\n",
       "        vertical-align: middle;\n",
       "    }\n",
       "\n",
       "    .dataframe tbody tr th {\n",
       "        vertical-align: top;\n",
       "    }\n",
       "\n",
       "    .dataframe thead th {\n",
       "        text-align: right;\n",
       "    }\n",
       "</style>\n",
       "<table border=\"1\" class=\"dataframe\">\n",
       "  <thead>\n",
       "    <tr style=\"text-align: right;\">\n",
       "      <th></th>\n",
       "      <th>OCCUPANCY</th>\n",
       "    </tr>\n",
       "  </thead>\n",
       "  <tbody>\n",
       "    <tr>\n",
       "      <th>count</th>\n",
       "      <td>38700.0</td>\n",
       "    </tr>\n",
       "    <tr>\n",
       "      <th>mean</th>\n",
       "      <td>46.2</td>\n",
       "    </tr>\n",
       "    <tr>\n",
       "      <th>std</th>\n",
       "      <td>52.7</td>\n",
       "    </tr>\n",
       "    <tr>\n",
       "      <th>min</th>\n",
       "      <td>0.0</td>\n",
       "    </tr>\n",
       "    <tr>\n",
       "      <th>25%</th>\n",
       "      <td>10.0</td>\n",
       "    </tr>\n",
       "    <tr>\n",
       "      <th>50%</th>\n",
       "      <td>30.0</td>\n",
       "    </tr>\n",
       "    <tr>\n",
       "      <th>75%</th>\n",
       "      <td>63.0</td>\n",
       "    </tr>\n",
       "    <tr>\n",
       "      <th>max</th>\n",
       "      <td>333.0</td>\n",
       "    </tr>\n",
       "  </tbody>\n",
       "</table>\n",
       "</div>"
      ],
      "text/plain": [
       "       OCCUPANCY\n",
       "count    38700.0\n",
       "mean        46.2\n",
       "std         52.7\n",
       "min          0.0\n",
       "25%         10.0\n",
       "50%         30.0\n",
       "75%         63.0\n",
       "max        333.0"
      ]
     },
     "execution_count": 105,
     "metadata": {},
     "output_type": "execute_result"
    }
   ],
   "source": [
    "pj17.describe().round(1)"
   ]
  },
  {
   "cell_type": "code",
   "execution_count": 106,
   "metadata": {},
   "outputs": [
    {
     "data": {
      "text/plain": [
       "SECTOR\n",
       "Co-ed       185997\n",
       "Families    551861\n",
       "Men         613698\n",
       "Women       250765\n",
       "Youth       183738\n",
       "Name: OCCUPANCY, dtype: int64"
      ]
     },
     "execution_count": 106,
     "metadata": {},
     "output_type": "execute_result"
    }
   ],
   "source": [
    "pj17_g=pj17.groupby(['SECTOR'])['OCCUPANCY'].sum()\n",
    "pj17_g"
   ]
  },
  {
   "cell_type": "code",
   "execution_count": 107,
   "metadata": {},
   "outputs": [
    {
     "data": {
      "text/html": [
       "<div>\n",
       "<style scoped>\n",
       "    .dataframe tbody tr th:only-of-type {\n",
       "        vertical-align: middle;\n",
       "    }\n",
       "\n",
       "    .dataframe tbody tr th {\n",
       "        vertical-align: top;\n",
       "    }\n",
       "\n",
       "    .dataframe thead th {\n",
       "        text-align: right;\n",
       "    }\n",
       "</style>\n",
       "<table border=\"1\" class=\"dataframe\">\n",
       "  <thead>\n",
       "    <tr style=\"text-align: right;\">\n",
       "      <th>SECTOR</th>\n",
       "      <th>Co-ed</th>\n",
       "      <th>Families</th>\n",
       "      <th>Men</th>\n",
       "      <th>Women</th>\n",
       "      <th>Youth</th>\n",
       "    </tr>\n",
       "    <tr>\n",
       "      <th>OCCUPANCY_DATE</th>\n",
       "      <th></th>\n",
       "      <th></th>\n",
       "      <th></th>\n",
       "      <th></th>\n",
       "      <th></th>\n",
       "    </tr>\n",
       "  </thead>\n",
       "  <tbody>\n",
       "    <tr>\n",
       "      <th>01</th>\n",
       "      <td>15538</td>\n",
       "      <td>37864</td>\n",
       "      <td>51374</td>\n",
       "      <td>20744</td>\n",
       "      <td>15471</td>\n",
       "    </tr>\n",
       "    <tr>\n",
       "      <th>02</th>\n",
       "      <td>13809</td>\n",
       "      <td>35523</td>\n",
       "      <td>46622</td>\n",
       "      <td>18757</td>\n",
       "      <td>14054</td>\n",
       "    </tr>\n",
       "    <tr>\n",
       "      <th>03</th>\n",
       "      <td>15640</td>\n",
       "      <td>40374</td>\n",
       "      <td>52271</td>\n",
       "      <td>20869</td>\n",
       "      <td>15453</td>\n",
       "    </tr>\n",
       "    <tr>\n",
       "      <th>04</th>\n",
       "      <td>15623</td>\n",
       "      <td>41595</td>\n",
       "      <td>50738</td>\n",
       "      <td>20303</td>\n",
       "      <td>15099</td>\n",
       "    </tr>\n",
       "    <tr>\n",
       "      <th>05</th>\n",
       "      <td>16108</td>\n",
       "      <td>44520</td>\n",
       "      <td>52320</td>\n",
       "      <td>21120</td>\n",
       "      <td>15603</td>\n",
       "    </tr>\n",
       "    <tr>\n",
       "      <th>06</th>\n",
       "      <td>15451</td>\n",
       "      <td>44917</td>\n",
       "      <td>50292</td>\n",
       "      <td>20610</td>\n",
       "      <td>15028</td>\n",
       "    </tr>\n",
       "    <tr>\n",
       "      <th>07</th>\n",
       "      <td>15798</td>\n",
       "      <td>47553</td>\n",
       "      <td>51640</td>\n",
       "      <td>21259</td>\n",
       "      <td>15523</td>\n",
       "    </tr>\n",
       "    <tr>\n",
       "      <th>08</th>\n",
       "      <td>15684</td>\n",
       "      <td>49326</td>\n",
       "      <td>51671</td>\n",
       "      <td>21279</td>\n",
       "      <td>15590</td>\n",
       "    </tr>\n",
       "    <tr>\n",
       "      <th>09</th>\n",
       "      <td>14958</td>\n",
       "      <td>49114</td>\n",
       "      <td>50342</td>\n",
       "      <td>20567</td>\n",
       "      <td>15192</td>\n",
       "    </tr>\n",
       "    <tr>\n",
       "      <th>10</th>\n",
       "      <td>15984</td>\n",
       "      <td>53125</td>\n",
       "      <td>52438</td>\n",
       "      <td>21769</td>\n",
       "      <td>15755</td>\n",
       "    </tr>\n",
       "    <tr>\n",
       "      <th>11</th>\n",
       "      <td>15020</td>\n",
       "      <td>52856</td>\n",
       "      <td>51296</td>\n",
       "      <td>21149</td>\n",
       "      <td>15215</td>\n",
       "    </tr>\n",
       "    <tr>\n",
       "      <th>12</th>\n",
       "      <td>16384</td>\n",
       "      <td>55094</td>\n",
       "      <td>52694</td>\n",
       "      <td>22339</td>\n",
       "      <td>15755</td>\n",
       "    </tr>\n",
       "  </tbody>\n",
       "</table>\n",
       "</div>"
      ],
      "text/plain": [
       "SECTOR          Co-ed  Families    Men  Women  Youth\n",
       "OCCUPANCY_DATE                                      \n",
       "01              15538     37864  51374  20744  15471\n",
       "02              13809     35523  46622  18757  14054\n",
       "03              15640     40374  52271  20869  15453\n",
       "04              15623     41595  50738  20303  15099\n",
       "05              16108     44520  52320  21120  15603\n",
       "06              15451     44917  50292  20610  15028\n",
       "07              15798     47553  51640  21259  15523\n",
       "08              15684     49326  51671  21279  15590\n",
       "09              14958     49114  50342  20567  15192\n",
       "10              15984     53125  52438  21769  15755\n",
       "11              15020     52856  51296  21149  15215\n",
       "12              16384     55094  52694  22339  15755"
      ]
     },
     "execution_count": 107,
     "metadata": {},
     "output_type": "execute_result"
    }
   ],
   "source": [
    "pj17_g=pd.crosstab(pj17['OCCUPANCY_DATE'].str[5:7],pj17['SECTOR'],pj17['OCCUPANCY'],aggfunc='sum')\n",
    "pj17_g"
   ]
  },
  {
   "cell_type": "code",
   "execution_count": 108,
   "metadata": {},
   "outputs": [
    {
     "data": {
      "image/png": "[encoded data removed]",
      "text/plain": [
       "<Figure size 1080x720 with 1 Axes>"
      ]
     },
     "metadata": {
      "needs_background": "light"
     },
     "output_type": "display_data"
    }
   ],
   "source": [
    "pj17_g=pd.crosstab(pj17['OCCUPANCY_DATE'].str[5:7],pj17['SECTOR'],pj17['OCCUPANCY'],aggfunc='sum')\n",
    "pj17_g.plot(kind='bar',stacked=True,figsize=(15,10));"
   ]
  },
  {
   "cell_type": "code",
   "execution_count": 109,
   "metadata": {},
   "outputs": [
    {
     "data": {
      "text/html": [
       "<div>\n",
       "<style scoped>\n",
       "    .dataframe tbody tr th:only-of-type {\n",
       "        vertical-align: middle;\n",
       "    }\n",
       "\n",
       "    .dataframe tbody tr th {\n",
       "        vertical-align: top;\n",
       "    }\n",
       "\n",
       "    .dataframe thead th {\n",
       "        text-align: right;\n",
       "    }\n",
       "</style>\n",
       "<table border=\"1\" class=\"dataframe\">\n",
       "  <thead>\n",
       "    <tr style=\"text-align: right;\">\n",
       "      <th>OCCUPANCY_DATE</th>\n",
       "      <th>01</th>\n",
       "      <th>02</th>\n",
       "      <th>03</th>\n",
       "      <th>04</th>\n",
       "      <th>05</th>\n",
       "      <th>06</th>\n",
       "      <th>07</th>\n",
       "      <th>08</th>\n",
       "      <th>09</th>\n",
       "      <th>10</th>\n",
       "      <th>11</th>\n",
       "      <th>12</th>\n",
       "    </tr>\n",
       "    <tr>\n",
       "      <th>SECTOR</th>\n",
       "      <th></th>\n",
       "      <th></th>\n",
       "      <th></th>\n",
       "      <th></th>\n",
       "      <th></th>\n",
       "      <th></th>\n",
       "      <th></th>\n",
       "      <th></th>\n",
       "      <th></th>\n",
       "      <th></th>\n",
       "      <th></th>\n",
       "      <th></th>\n",
       "    </tr>\n",
       "  </thead>\n",
       "  <tbody>\n",
       "    <tr>\n",
       "      <th>Co-ed</th>\n",
       "      <td>15538</td>\n",
       "      <td>13809</td>\n",
       "      <td>15640</td>\n",
       "      <td>15623</td>\n",
       "      <td>16108</td>\n",
       "      <td>15451</td>\n",
       "      <td>15798</td>\n",
       "      <td>15684</td>\n",
       "      <td>14958</td>\n",
       "      <td>15984</td>\n",
       "      <td>15020</td>\n",
       "      <td>16384</td>\n",
       "    </tr>\n",
       "    <tr>\n",
       "      <th>Families</th>\n",
       "      <td>37864</td>\n",
       "      <td>35523</td>\n",
       "      <td>40374</td>\n",
       "      <td>41595</td>\n",
       "      <td>44520</td>\n",
       "      <td>44917</td>\n",
       "      <td>47553</td>\n",
       "      <td>49326</td>\n",
       "      <td>49114</td>\n",
       "      <td>53125</td>\n",
       "      <td>52856</td>\n",
       "      <td>55094</td>\n",
       "    </tr>\n",
       "    <tr>\n",
       "      <th>Men</th>\n",
       "      <td>51374</td>\n",
       "      <td>46622</td>\n",
       "      <td>52271</td>\n",
       "      <td>50738</td>\n",
       "      <td>52320</td>\n",
       "      <td>50292</td>\n",
       "      <td>51640</td>\n",
       "      <td>51671</td>\n",
       "      <td>50342</td>\n",
       "      <td>52438</td>\n",
       "      <td>51296</td>\n",
       "      <td>52694</td>\n",
       "    </tr>\n",
       "    <tr>\n",
       "      <th>Women</th>\n",
       "      <td>20744</td>\n",
       "      <td>18757</td>\n",
       "      <td>20869</td>\n",
       "      <td>20303</td>\n",
       "      <td>21120</td>\n",
       "      <td>20610</td>\n",
       "      <td>21259</td>\n",
       "      <td>21279</td>\n",
       "      <td>20567</td>\n",
       "      <td>21769</td>\n",
       "      <td>21149</td>\n",
       "      <td>22339</td>\n",
       "    </tr>\n",
       "    <tr>\n",
       "      <th>Youth</th>\n",
       "      <td>15471</td>\n",
       "      <td>14054</td>\n",
       "      <td>15453</td>\n",
       "      <td>15099</td>\n",
       "      <td>15603</td>\n",
       "      <td>15028</td>\n",
       "      <td>15523</td>\n",
       "      <td>15590</td>\n",
       "      <td>15192</td>\n",
       "      <td>15755</td>\n",
       "      <td>15215</td>\n",
       "      <td>15755</td>\n",
       "    </tr>\n",
       "  </tbody>\n",
       "</table>\n",
       "</div>"
      ],
      "text/plain": [
       "OCCUPANCY_DATE     01     02     03     04     05     06     07     08     09  \\\n",
       "SECTOR                                                                          \n",
       "Co-ed           15538  13809  15640  15623  16108  15451  15798  15684  14958   \n",
       "Families        37864  35523  40374  41595  44520  44917  47553  49326  49114   \n",
       "Men             51374  46622  52271  50738  52320  50292  51640  51671  50342   \n",
       "Women           20744  18757  20869  20303  21120  20610  21259  21279  20567   \n",
       "Youth           15471  14054  15453  15099  15603  15028  15523  15590  15192   \n",
       "\n",
       "OCCUPANCY_DATE     10     11     12  \n",
       "SECTOR                               \n",
       "Co-ed           15984  15020  16384  \n",
       "Families        53125  52856  55094  \n",
       "Men             52438  51296  52694  \n",
       "Women           21769  21149  22339  \n",
       "Youth           15755  15215  15755  "
      ]
     },
     "execution_count": 109,
     "metadata": {},
     "output_type": "execute_result"
    }
   ],
   "source": [
    "pj17_g=pd.crosstab(pj17['SECTOR'],pj17['OCCUPANCY_DATE'].str[5:7],pj17['OCCUPANCY'],aggfunc='sum')\n",
    "pj17_g"
   ]
  },
  {
   "cell_type": "code",
   "execution_count": 110,
   "metadata": {},
   "outputs": [],
   "source": [
    "#pj17_g.plot(kind='bar',stacked=True,figsize=(15,10));"
   ]
  },
  {
   "cell_type": "markdown",
   "metadata": {},
   "source": [
    "# Normalisation base in years 2017,2018,2019"
   ]
  },
  {
   "cell_type": "code",
   "execution_count": 111,
   "metadata": {},
   "outputs": [
    {
     "name": "stdout",
     "output_type": "stream",
     "text": [
      "<class 'pandas.core.frame.DataFrame'>\n",
      "Int64Index: 115916 entries, 0 to 39445\n",
      "Data columns (total 3 columns):\n",
      " #   Column          Non-Null Count   Dtype \n",
      "---  ------          --------------   ----- \n",
      " 0   OCCUPANCY_DATE  115916 non-null  object\n",
      " 1   SECTOR          115916 non-null  object\n",
      " 2   OCCUPANCY       115916 non-null  int64 \n",
      "dtypes: int64(1), object(2)\n",
      "memory usage: 3.5+ MB\n"
     ]
    }
   ],
   "source": [
    "frames = [pj17,pj18,pj19]\n",
    "pjnr = pd.concat(frames)\n",
    "pjnr.info()"
   ]
  },
  {
   "cell_type": "code",
   "execution_count": 112,
   "metadata": {
    "scrolled": true
   },
   "outputs": [
    {
     "data": {
      "text/html": [
       "<div>\n",
       "<style scoped>\n",
       "    .dataframe tbody tr th:only-of-type {\n",
       "        vertical-align: middle;\n",
       "    }\n",
       "\n",
       "    .dataframe tbody tr th {\n",
       "        vertical-align: top;\n",
       "    }\n",
       "\n",
       "    .dataframe thead th {\n",
       "        text-align: right;\n",
       "    }\n",
       "</style>\n",
       "<table border=\"1\" class=\"dataframe\">\n",
       "  <thead>\n",
       "    <tr style=\"text-align: right;\">\n",
       "      <th></th>\n",
       "      <th>OCCUPANCY</th>\n",
       "    </tr>\n",
       "  </thead>\n",
       "  <tbody>\n",
       "    <tr>\n",
       "      <th>count</th>\n",
       "      <td>115916.0</td>\n",
       "    </tr>\n",
       "    <tr>\n",
       "      <th>mean</th>\n",
       "      <td>57.0</td>\n",
       "    </tr>\n",
       "    <tr>\n",
       "      <th>std</th>\n",
       "      <td>83.0</td>\n",
       "    </tr>\n",
       "    <tr>\n",
       "      <th>min</th>\n",
       "      <td>0.0</td>\n",
       "    </tr>\n",
       "    <tr>\n",
       "      <th>25%</th>\n",
       "      <td>13.0</td>\n",
       "    </tr>\n",
       "    <tr>\n",
       "      <th>50%</th>\n",
       "      <td>37.0</td>\n",
       "    </tr>\n",
       "    <tr>\n",
       "      <th>75%</th>\n",
       "      <td>69.0</td>\n",
       "    </tr>\n",
       "    <tr>\n",
       "      <th>max</th>\n",
       "      <td>826.0</td>\n",
       "    </tr>\n",
       "  </tbody>\n",
       "</table>\n",
       "</div>"
      ],
      "text/plain": [
       "       OCCUPANCY\n",
       "count   115916.0\n",
       "mean        57.0\n",
       "std         83.0\n",
       "min          0.0\n",
       "25%         13.0\n",
       "50%         37.0\n",
       "75%         69.0\n",
       "max        826.0"
      ]
     },
     "execution_count": 112,
     "metadata": {},
     "output_type": "execute_result"
    }
   ],
   "source": [
    "pjnr.describe().round()"
   ]
  },
  {
   "cell_type": "code",
   "execution_count": 113,
   "metadata": {},
   "outputs": [
    {
     "data": {
      "text/plain": [
       "SECTOR\n",
       "Co-ed        659296\n",
       "Families    2641379\n",
       "Men         1912913\n",
       "Women        826668\n",
       "Youth        563503\n",
       "Name: OCCUPANCY, dtype: int64"
      ]
     },
     "execution_count": 113,
     "metadata": {},
     "output_type": "execute_result"
    }
   ],
   "source": [
    "pjnr_g=pjnr.groupby(['SECTOR'])['OCCUPANCY'].sum()# Average of 3 last years\n",
    "pjnr_g"
   ]
  },
  {
   "cell_type": "code",
   "execution_count": 118,
   "metadata": {
    "scrolled": false
   },
   "outputs": [
    {
     "data": {
      "text/html": [
       "<div>\n",
       "<style scoped>\n",
       "    .dataframe tbody tr th:only-of-type {\n",
       "        vertical-align: middle;\n",
       "    }\n",
       "\n",
       "    .dataframe tbody tr th {\n",
       "        vertical-align: top;\n",
       "    }\n",
       "\n",
       "    .dataframe thead th {\n",
       "        text-align: right;\n",
       "    }\n",
       "</style>\n",
       "<table border=\"1\" class=\"dataframe\">\n",
       "  <thead>\n",
       "    <tr style=\"text-align: right;\">\n",
       "      <th></th>\n",
       "      <th>OCCUPANCY_DATE</th>\n",
       "      <th>SECTOR</th>\n",
       "      <th>OCCUPANCY</th>\n",
       "      <th>df</th>\n",
       "    </tr>\n",
       "  </thead>\n",
       "  <tbody>\n",
       "    <tr>\n",
       "      <th>0</th>\n",
       "      <td>2017-01-01T00:00:00</td>\n",
       "      <td>Co-ed</td>\n",
       "      <td>16</td>\n",
       "      <td>2017</td>\n",
       "    </tr>\n",
       "    <tr>\n",
       "      <th>1</th>\n",
       "      <td>2017-01-01T00:00:00</td>\n",
       "      <td>Men</td>\n",
       "      <td>13</td>\n",
       "      <td>2017</td>\n",
       "    </tr>\n",
       "    <tr>\n",
       "      <th>2</th>\n",
       "      <td>2017-01-01T00:00:00</td>\n",
       "      <td>Men</td>\n",
       "      <td>63</td>\n",
       "      <td>2017</td>\n",
       "    </tr>\n",
       "    <tr>\n",
       "      <th>3</th>\n",
       "      <td>2017-01-01T00:00:00</td>\n",
       "      <td>Families</td>\n",
       "      <td>66</td>\n",
       "      <td>2017</td>\n",
       "    </tr>\n",
       "    <tr>\n",
       "      <th>4</th>\n",
       "      <td>2017-01-01T00:00:00</td>\n",
       "      <td>Men</td>\n",
       "      <td>58</td>\n",
       "      <td>2017</td>\n",
       "    </tr>\n",
       "  </tbody>\n",
       "</table>\n",
       "</div>"
      ],
      "text/plain": [
       "        OCCUPANCY_DATE    SECTOR  OCCUPANCY    df\n",
       "0  2017-01-01T00:00:00     Co-ed         16  2017\n",
       "1  2017-01-01T00:00:00       Men         13  2017\n",
       "2  2017-01-01T00:00:00       Men         63  2017\n",
       "3  2017-01-01T00:00:00  Families         66  2017\n",
       "4  2017-01-01T00:00:00       Men         58  2017"
      ]
     },
     "execution_count": 118,
     "metadata": {},
     "output_type": "execute_result"
    }
   ],
   "source": [
    "pjnr['df']=pjnr['OCCUPANCY_DATE'].str[:4]\n",
    "pjnr.head()#info()\n"
   ]
  },
  {
   "cell_type": "code",
   "execution_count": null,
   "metadata": {},
   "outputs": [],
   "source": []
  },
  {
   "cell_type": "markdown",
   "metadata": {},
   "source": [
    "### 'Co-ed'"
   ]
  },
  {
   "cell_type": "code",
   "execution_count": 119,
   "metadata": {
    "scrolled": true
   },
   "outputs": [
    {
     "data": {
      "text/html": [
       "<div>\n",
       "<style scoped>\n",
       "    .dataframe tbody tr th:only-of-type {\n",
       "        vertical-align: middle;\n",
       "    }\n",
       "\n",
       "    .dataframe tbody tr th {\n",
       "        vertical-align: top;\n",
       "    }\n",
       "\n",
       "    .dataframe thead th {\n",
       "        text-align: right;\n",
       "    }\n",
       "</style>\n",
       "<table border=\"1\" class=\"dataframe\">\n",
       "  <thead>\n",
       "    <tr style=\"text-align: right;\">\n",
       "      <th>df</th>\n",
       "      <th>2017</th>\n",
       "      <th>2018</th>\n",
       "      <th>2019</th>\n",
       "    </tr>\n",
       "    <tr>\n",
       "      <th>OCCUPANCY_DATE</th>\n",
       "      <th></th>\n",
       "      <th></th>\n",
       "      <th></th>\n",
       "    </tr>\n",
       "  </thead>\n",
       "  <tbody>\n",
       "    <tr>\n",
       "      <th>01</th>\n",
       "      <td>15538</td>\n",
       "      <td>16634</td>\n",
       "      <td>19573</td>\n",
       "    </tr>\n",
       "    <tr>\n",
       "      <th>02</th>\n",
       "      <td>13809</td>\n",
       "      <td>15556</td>\n",
       "      <td>18231</td>\n",
       "    </tr>\n",
       "    <tr>\n",
       "      <th>03</th>\n",
       "      <td>15640</td>\n",
       "      <td>18011</td>\n",
       "      <td>19999</td>\n",
       "    </tr>\n",
       "    <tr>\n",
       "      <th>04</th>\n",
       "      <td>15623</td>\n",
       "      <td>18135</td>\n",
       "      <td>19797</td>\n",
       "    </tr>\n",
       "    <tr>\n",
       "      <th>05</th>\n",
       "      <td>16108</td>\n",
       "      <td>18451</td>\n",
       "      <td>21073</td>\n",
       "    </tr>\n",
       "    <tr>\n",
       "      <th>06</th>\n",
       "      <td>15451</td>\n",
       "      <td>16863</td>\n",
       "      <td>21820</td>\n",
       "    </tr>\n",
       "    <tr>\n",
       "      <th>07</th>\n",
       "      <td>15798</td>\n",
       "      <td>18112</td>\n",
       "      <td>22386</td>\n",
       "    </tr>\n",
       "    <tr>\n",
       "      <th>08</th>\n",
       "      <td>15684</td>\n",
       "      <td>19274</td>\n",
       "      <td>21799</td>\n",
       "    </tr>\n",
       "    <tr>\n",
       "      <th>09</th>\n",
       "      <td>14958</td>\n",
       "      <td>18962</td>\n",
       "      <td>21135</td>\n",
       "    </tr>\n",
       "    <tr>\n",
       "      <th>10</th>\n",
       "      <td>15984</td>\n",
       "      <td>19394</td>\n",
       "      <td>21873</td>\n",
       "    </tr>\n",
       "    <tr>\n",
       "      <th>11</th>\n",
       "      <td>15020</td>\n",
       "      <td>18658</td>\n",
       "      <td>23510</td>\n",
       "    </tr>\n",
       "    <tr>\n",
       "      <th>12</th>\n",
       "      <td>16384</td>\n",
       "      <td>19444</td>\n",
       "      <td>24609</td>\n",
       "    </tr>\n",
       "  </tbody>\n",
       "</table>\n",
       "</div>"
      ],
      "text/plain": [
       "df               2017   2018   2019\n",
       "OCCUPANCY_DATE                     \n",
       "01              15538  16634  19573\n",
       "02              13809  15556  18231\n",
       "03              15640  18011  19999\n",
       "04              15623  18135  19797\n",
       "05              16108  18451  21073\n",
       "06              15451  16863  21820\n",
       "07              15798  18112  22386\n",
       "08              15684  19274  21799\n",
       "09              14958  18962  21135\n",
       "10              15984  19394  21873\n",
       "11              15020  18658  23510\n",
       "12              16384  19444  24609"
      ]
     },
     "execution_count": 119,
     "metadata": {},
     "output_type": "execute_result"
    }
   ],
   "source": [
    "df_co=pjnr[pjnr['SECTOR']=='Co-ed']\n",
    "df_co\n",
    "# ok pjnr_g=pd.crosstab(df_co['OCCUPANCY_DATE'].str[5:7],df_co['df'],pjnr['OCCUPANCY_DATE'].str[5:7]df_co['OCCUPANCY'],aggfunc='sum')\n",
    "pjnr_g=pd.crosstab(df_co['OCCUPANCY_DATE'].str[5:7],df_co['df'],df_co['OCCUPANCY'],aggfunc='sum')\n",
    "pjnr_g"
   ]
  },
  {
   "cell_type": "code",
   "execution_count": 120,
   "metadata": {},
   "outputs": [
    {
     "data": {
      "image/png": "[encoded data removed]",
      "text/plain": [
       "<Figure size 1080x720 with 1 Axes>"
      ]
     },
     "metadata": {
      "needs_background": "light"
     },
     "output_type": "display_data"
    }
   ],
   "source": [
    "pjnr_g.plot(kind='bar',stacked=False,figsize=(15,10),\n",
    "           title='OCCUPANCY_rate of Co-edin  2017,2018,2019');"
   ]
  },
  {
   "cell_type": "code",
   "execution_count": 121,
   "metadata": {},
   "outputs": [
    {
     "data": {
      "text/html": [
       "<div>\n",
       "<style scoped>\n",
       "    .dataframe tbody tr th:only-of-type {\n",
       "        vertical-align: middle;\n",
       "    }\n",
       "\n",
       "    .dataframe tbody tr th {\n",
       "        vertical-align: top;\n",
       "    }\n",
       "\n",
       "    .dataframe thead th {\n",
       "        text-align: right;\n",
       "    }\n",
       "</style>\n",
       "<table border=\"1\" class=\"dataframe\">\n",
       "  <thead>\n",
       "    <tr style=\"text-align: right;\">\n",
       "      <th>df</th>\n",
       "      <th>2017</th>\n",
       "      <th>2018</th>\n",
       "      <th>2019</th>\n",
       "    </tr>\n",
       "    <tr>\n",
       "      <th>OCCUPANCY_DATE</th>\n",
       "      <th></th>\n",
       "      <th></th>\n",
       "      <th></th>\n",
       "    </tr>\n",
       "  </thead>\n",
       "  <tbody>\n",
       "    <tr>\n",
       "      <th>01</th>\n",
       "      <td>51374</td>\n",
       "      <td>54301</td>\n",
       "      <td>55243</td>\n",
       "    </tr>\n",
       "    <tr>\n",
       "      <th>02</th>\n",
       "      <td>46622</td>\n",
       "      <td>49528</td>\n",
       "      <td>49717</td>\n",
       "    </tr>\n",
       "    <tr>\n",
       "      <th>03</th>\n",
       "      <td>52271</td>\n",
       "      <td>55405</td>\n",
       "      <td>55149</td>\n",
       "    </tr>\n",
       "    <tr>\n",
       "      <th>04</th>\n",
       "      <td>50738</td>\n",
       "      <td>53489</td>\n",
       "      <td>52650</td>\n",
       "    </tr>\n",
       "    <tr>\n",
       "      <th>05</th>\n",
       "      <td>52320</td>\n",
       "      <td>56354</td>\n",
       "      <td>54239</td>\n",
       "    </tr>\n",
       "    <tr>\n",
       "      <th>06</th>\n",
       "      <td>50292</td>\n",
       "      <td>54035</td>\n",
       "      <td>52862</td>\n",
       "    </tr>\n",
       "    <tr>\n",
       "      <th>07</th>\n",
       "      <td>51640</td>\n",
       "      <td>54348</td>\n",
       "      <td>55058</td>\n",
       "    </tr>\n",
       "    <tr>\n",
       "      <th>08</th>\n",
       "      <td>51671</td>\n",
       "      <td>55067</td>\n",
       "      <td>55153</td>\n",
       "    </tr>\n",
       "    <tr>\n",
       "      <th>09</th>\n",
       "      <td>50342</td>\n",
       "      <td>53323</td>\n",
       "      <td>52508</td>\n",
       "    </tr>\n",
       "    <tr>\n",
       "      <th>10</th>\n",
       "      <td>52438</td>\n",
       "      <td>55665</td>\n",
       "      <td>54035</td>\n",
       "    </tr>\n",
       "    <tr>\n",
       "      <th>11</th>\n",
       "      <td>51296</td>\n",
       "      <td>53545</td>\n",
       "      <td>54101</td>\n",
       "    </tr>\n",
       "    <tr>\n",
       "      <th>12</th>\n",
       "      <td>52694</td>\n",
       "      <td>54565</td>\n",
       "      <td>58875</td>\n",
       "    </tr>\n",
       "  </tbody>\n",
       "</table>\n",
       "</div>"
      ],
      "text/plain": [
       "df               2017   2018   2019\n",
       "OCCUPANCY_DATE                     \n",
       "01              51374  54301  55243\n",
       "02              46622  49528  49717\n",
       "03              52271  55405  55149\n",
       "04              50738  53489  52650\n",
       "05              52320  56354  54239\n",
       "06              50292  54035  52862\n",
       "07              51640  54348  55058\n",
       "08              51671  55067  55153\n",
       "09              50342  53323  52508\n",
       "10              52438  55665  54035\n",
       "11              51296  53545  54101\n",
       "12              52694  54565  58875"
      ]
     },
     "execution_count": 121,
     "metadata": {},
     "output_type": "execute_result"
    }
   ],
   "source": [
    "df_co=pjnr[pjnr['SECTOR']=='Men']\n",
    "df_co\n",
    "# ok pjnr_g=pd.crosstab(df_co['OCCUPANCY_DATE'].str[5:7],df_co['df'],pjnr['OCCUPANCY_DATE'].str[5:7]df_co['OCCUPANCY'],aggfunc='sum')\n",
    "pjnr_g=pd.crosstab(df_co['OCCUPANCY_DATE'].str[5:7],df_co['df'],df_co['OCCUPANCY'],aggfunc='sum')\n",
    "pjnr_g"
   ]
  },
  {
   "cell_type": "code",
   "execution_count": 122,
   "metadata": {},
   "outputs": [
    {
     "data": {
      "image/png": "[encoded data removed]",
      "text/plain": [
       "<Figure size 1080x720 with 1 Axes>"
      ]
     },
     "metadata": {
      "needs_background": "light"
     },
     "output_type": "display_data"
    }
   ],
   "source": [
    "pjnr_g.plot(kind='bar',stacked=False,figsize=(15,10),\n",
    "           title='OCCUPANCY_rate of Men  2017,2018,2019');"
   ]
  },
  {
   "cell_type": "code",
   "execution_count": 123,
   "metadata": {},
   "outputs": [
    {
     "data": {
      "text/html": [
       "<div>\n",
       "<style scoped>\n",
       "    .dataframe tbody tr th:only-of-type {\n",
       "        vertical-align: middle;\n",
       "    }\n",
       "\n",
       "    .dataframe tbody tr th {\n",
       "        vertical-align: top;\n",
       "    }\n",
       "\n",
       "    .dataframe thead th {\n",
       "        text-align: right;\n",
       "    }\n",
       "</style>\n",
       "<table border=\"1\" class=\"dataframe\">\n",
       "  <thead>\n",
       "    <tr style=\"text-align: right;\">\n",
       "      <th>df</th>\n",
       "      <th>2017</th>\n",
       "      <th>2018</th>\n",
       "      <th>2019</th>\n",
       "    </tr>\n",
       "    <tr>\n",
       "      <th>OCCUPANCY_DATE</th>\n",
       "      <th></th>\n",
       "      <th></th>\n",
       "      <th></th>\n",
       "    </tr>\n",
       "  </thead>\n",
       "  <tbody>\n",
       "    <tr>\n",
       "      <th>01</th>\n",
       "      <td>20744</td>\n",
       "      <td>23558</td>\n",
       "      <td>23276</td>\n",
       "    </tr>\n",
       "    <tr>\n",
       "      <th>02</th>\n",
       "      <td>18757</td>\n",
       "      <td>21611</td>\n",
       "      <td>21899</td>\n",
       "    </tr>\n",
       "    <tr>\n",
       "      <th>03</th>\n",
       "      <td>20869</td>\n",
       "      <td>23623</td>\n",
       "      <td>24395</td>\n",
       "    </tr>\n",
       "    <tr>\n",
       "      <th>04</th>\n",
       "      <td>20303</td>\n",
       "      <td>22277</td>\n",
       "      <td>24415</td>\n",
       "    </tr>\n",
       "    <tr>\n",
       "      <th>05</th>\n",
       "      <td>21120</td>\n",
       "      <td>22887</td>\n",
       "      <td>25919</td>\n",
       "    </tr>\n",
       "    <tr>\n",
       "      <th>06</th>\n",
       "      <td>20610</td>\n",
       "      <td>21770</td>\n",
       "      <td>25334</td>\n",
       "    </tr>\n",
       "    <tr>\n",
       "      <th>07</th>\n",
       "      <td>21259</td>\n",
       "      <td>22598</td>\n",
       "      <td>26341</td>\n",
       "    </tr>\n",
       "    <tr>\n",
       "      <th>08</th>\n",
       "      <td>21279</td>\n",
       "      <td>22498</td>\n",
       "      <td>26387</td>\n",
       "    </tr>\n",
       "    <tr>\n",
       "      <th>09</th>\n",
       "      <td>20567</td>\n",
       "      <td>21759</td>\n",
       "      <td>25553</td>\n",
       "    </tr>\n",
       "    <tr>\n",
       "      <th>10</th>\n",
       "      <td>21769</td>\n",
       "      <td>22621</td>\n",
       "      <td>26445</td>\n",
       "    </tr>\n",
       "    <tr>\n",
       "      <th>11</th>\n",
       "      <td>21149</td>\n",
       "      <td>21826</td>\n",
       "      <td>26718</td>\n",
       "    </tr>\n",
       "    <tr>\n",
       "      <th>12</th>\n",
       "      <td>22339</td>\n",
       "      <td>22722</td>\n",
       "      <td>29471</td>\n",
       "    </tr>\n",
       "  </tbody>\n",
       "</table>\n",
       "</div>"
      ],
      "text/plain": [
       "df               2017   2018   2019\n",
       "OCCUPANCY_DATE                     \n",
       "01              20744  23558  23276\n",
       "02              18757  21611  21899\n",
       "03              20869  23623  24395\n",
       "04              20303  22277  24415\n",
       "05              21120  22887  25919\n",
       "06              20610  21770  25334\n",
       "07              21259  22598  26341\n",
       "08              21279  22498  26387\n",
       "09              20567  21759  25553\n",
       "10              21769  22621  26445\n",
       "11              21149  21826  26718\n",
       "12              22339  22722  29471"
      ]
     },
     "execution_count": 123,
     "metadata": {},
     "output_type": "execute_result"
    }
   ],
   "source": [
    "df_co=pjnr[pjnr['SECTOR']=='Women']\n",
    "df_co\n",
    "# ok pjnr_g=pd.crosstab(df_co['OCCUPANCY_DATE'].str[5:7],df_co['df'],pjnr['OCCUPANCY_DATE'].str[5:7]df_co['OCCUPANCY'],aggfunc='sum')\n",
    "pjnr_g=pd.crosstab(df_co['OCCUPANCY_DATE'].str[5:7],df_co['df'],df_co['OCCUPANCY'],aggfunc='sum')\n",
    "pjnr_g"
   ]
  },
  {
   "cell_type": "code",
   "execution_count": 124,
   "metadata": {},
   "outputs": [
    {
     "data": {
      "image/png": "[encoded data removed]",
      "text/plain": [
       "<Figure size 1080x720 with 1 Axes>"
      ]
     },
     "metadata": {
      "needs_background": "light"
     },
     "output_type": "display_data"
    }
   ],
   "source": [
    "pjnr_g.plot(kind='bar',stacked=False,figsize=(15,10),\n",
    "           title='OCCUPANCY_rate of Women  2017,2018,2019');"
   ]
  },
  {
   "cell_type": "code",
   "execution_count": 125,
   "metadata": {},
   "outputs": [
    {
     "data": {
      "text/html": [
       "<div>\n",
       "<style scoped>\n",
       "    .dataframe tbody tr th:only-of-type {\n",
       "        vertical-align: middle;\n",
       "    }\n",
       "\n",
       "    .dataframe tbody tr th {\n",
       "        vertical-align: top;\n",
       "    }\n",
       "\n",
       "    .dataframe thead th {\n",
       "        text-align: right;\n",
       "    }\n",
       "</style>\n",
       "<table border=\"1\" class=\"dataframe\">\n",
       "  <thead>\n",
       "    <tr style=\"text-align: right;\">\n",
       "      <th>df</th>\n",
       "      <th>2017</th>\n",
       "      <th>2018</th>\n",
       "      <th>2019</th>\n",
       "    </tr>\n",
       "    <tr>\n",
       "      <th>OCCUPANCY_DATE</th>\n",
       "      <th></th>\n",
       "      <th></th>\n",
       "      <th></th>\n",
       "    </tr>\n",
       "  </thead>\n",
       "  <tbody>\n",
       "    <tr>\n",
       "      <th>01</th>\n",
       "      <td>37864</td>\n",
       "      <td>64568</td>\n",
       "      <td>96943</td>\n",
       "    </tr>\n",
       "    <tr>\n",
       "      <th>02</th>\n",
       "      <td>35523</td>\n",
       "      <td>62501</td>\n",
       "      <td>87173</td>\n",
       "    </tr>\n",
       "    <tr>\n",
       "      <th>03</th>\n",
       "      <td>40374</td>\n",
       "      <td>74868</td>\n",
       "      <td>96915</td>\n",
       "    </tr>\n",
       "    <tr>\n",
       "      <th>04</th>\n",
       "      <td>41595</td>\n",
       "      <td>80787</td>\n",
       "      <td>96025</td>\n",
       "    </tr>\n",
       "    <tr>\n",
       "      <th>05</th>\n",
       "      <td>44520</td>\n",
       "      <td>91580</td>\n",
       "      <td>99285</td>\n",
       "    </tr>\n",
       "    <tr>\n",
       "      <th>06</th>\n",
       "      <td>44917</td>\n",
       "      <td>87287</td>\n",
       "      <td>94749</td>\n",
       "    </tr>\n",
       "    <tr>\n",
       "      <th>07</th>\n",
       "      <td>47553</td>\n",
       "      <td>88730</td>\n",
       "      <td>94869</td>\n",
       "    </tr>\n",
       "    <tr>\n",
       "      <th>08</th>\n",
       "      <td>49326</td>\n",
       "      <td>88522</td>\n",
       "      <td>93011</td>\n",
       "    </tr>\n",
       "    <tr>\n",
       "      <th>09</th>\n",
       "      <td>49114</td>\n",
       "      <td>86503</td>\n",
       "      <td>84678</td>\n",
       "    </tr>\n",
       "    <tr>\n",
       "      <th>10</th>\n",
       "      <td>53125</td>\n",
       "      <td>90471</td>\n",
       "      <td>85794</td>\n",
       "    </tr>\n",
       "    <tr>\n",
       "      <th>11</th>\n",
       "      <td>52856</td>\n",
       "      <td>88345</td>\n",
       "      <td>80085</td>\n",
       "    </tr>\n",
       "    <tr>\n",
       "      <th>12</th>\n",
       "      <td>55094</td>\n",
       "      <td>94460</td>\n",
       "      <td>81369</td>\n",
       "    </tr>\n",
       "  </tbody>\n",
       "</table>\n",
       "</div>"
      ],
      "text/plain": [
       "df               2017   2018   2019\n",
       "OCCUPANCY_DATE                     \n",
       "01              37864  64568  96943\n",
       "02              35523  62501  87173\n",
       "03              40374  74868  96915\n",
       "04              41595  80787  96025\n",
       "05              44520  91580  99285\n",
       "06              44917  87287  94749\n",
       "07              47553  88730  94869\n",
       "08              49326  88522  93011\n",
       "09              49114  86503  84678\n",
       "10              53125  90471  85794\n",
       "11              52856  88345  80085\n",
       "12              55094  94460  81369"
      ]
     },
     "execution_count": 125,
     "metadata": {},
     "output_type": "execute_result"
    }
   ],
   "source": [
    "df_co=pjnr[pjnr['SECTOR']=='Families']     \n",
    "df_co\n",
    "# ok pjnr_g=pd.crosstab(df_co['OCCUPANCY_DATE'].str[5:7],df_co['df'],pjnr['OCCUPANCY_DATE'].str[5:7]df_co['OCCUPANCY'],aggfunc='sum')\n",
    "pjnr_g=pd.crosstab(df_co['OCCUPANCY_DATE'].str[5:7],df_co['df'],df_co['OCCUPANCY'],aggfunc='sum')\n",
    "pjnr_g"
   ]
  },
  {
   "cell_type": "code",
   "execution_count": 126,
   "metadata": {},
   "outputs": [
    {
     "data": {
      "image/png": "[encoded data removed]",
      "text/plain": [
       "<Figure size 1080x720 with 1 Axes>"
      ]
     },
     "metadata": {
      "needs_background": "light"
     },
     "output_type": "display_data"
    }
   ],
   "source": [
    "pjnr_g.plot(kind='bar',stacked=False,figsize=(15,10),\n",
    "           title='OCCUPANCY_rate of Families  2017,2018,2019');"
   ]
  },
  {
   "cell_type": "code",
   "execution_count": null,
   "metadata": {},
   "outputs": [],
   "source": []
  },
  {
   "cell_type": "code",
   "execution_count": 127,
   "metadata": {},
   "outputs": [
    {
     "data": {
      "text/html": [
       "<div>\n",
       "<style scoped>\n",
       "    .dataframe tbody tr th:only-of-type {\n",
       "        vertical-align: middle;\n",
       "    }\n",
       "\n",
       "    .dataframe tbody tr th {\n",
       "        vertical-align: top;\n",
       "    }\n",
       "\n",
       "    .dataframe thead th {\n",
       "        text-align: right;\n",
       "    }\n",
       "</style>\n",
       "<table border=\"1\" class=\"dataframe\">\n",
       "  <thead>\n",
       "    <tr style=\"text-align: right;\">\n",
       "      <th>df</th>\n",
       "      <th>2017</th>\n",
       "      <th>2018</th>\n",
       "      <th>2019</th>\n",
       "    </tr>\n",
       "    <tr>\n",
       "      <th>OCCUPANCY_DATE</th>\n",
       "      <th></th>\n",
       "      <th></th>\n",
       "      <th></th>\n",
       "    </tr>\n",
       "  </thead>\n",
       "  <tbody>\n",
       "    <tr>\n",
       "      <th>01</th>\n",
       "      <td>15471</td>\n",
       "      <td>15998</td>\n",
       "      <td>16089</td>\n",
       "    </tr>\n",
       "    <tr>\n",
       "      <th>02</th>\n",
       "      <td>14054</td>\n",
       "      <td>14475</td>\n",
       "      <td>14804</td>\n",
       "    </tr>\n",
       "    <tr>\n",
       "      <th>03</th>\n",
       "      <td>15453</td>\n",
       "      <td>15886</td>\n",
       "      <td>16412</td>\n",
       "    </tr>\n",
       "    <tr>\n",
       "      <th>04</th>\n",
       "      <td>15099</td>\n",
       "      <td>15366</td>\n",
       "      <td>15821</td>\n",
       "    </tr>\n",
       "    <tr>\n",
       "      <th>05</th>\n",
       "      <td>15603</td>\n",
       "      <td>15940</td>\n",
       "      <td>16130</td>\n",
       "    </tr>\n",
       "    <tr>\n",
       "      <th>06</th>\n",
       "      <td>15028</td>\n",
       "      <td>15341</td>\n",
       "      <td>15498</td>\n",
       "    </tr>\n",
       "    <tr>\n",
       "      <th>07</th>\n",
       "      <td>15523</td>\n",
       "      <td>15862</td>\n",
       "      <td>16401</td>\n",
       "    </tr>\n",
       "    <tr>\n",
       "      <th>08</th>\n",
       "      <td>15590</td>\n",
       "      <td>15780</td>\n",
       "      <td>16241</td>\n",
       "    </tr>\n",
       "    <tr>\n",
       "      <th>09</th>\n",
       "      <td>15192</td>\n",
       "      <td>15171</td>\n",
       "      <td>15852</td>\n",
       "    </tr>\n",
       "    <tr>\n",
       "      <th>10</th>\n",
       "      <td>15755</td>\n",
       "      <td>16146</td>\n",
       "      <td>16429</td>\n",
       "    </tr>\n",
       "    <tr>\n",
       "      <th>11</th>\n",
       "      <td>15215</td>\n",
       "      <td>15646</td>\n",
       "      <td>15944</td>\n",
       "    </tr>\n",
       "    <tr>\n",
       "      <th>12</th>\n",
       "      <td>15755</td>\n",
       "      <td>16082</td>\n",
       "      <td>16451</td>\n",
       "    </tr>\n",
       "  </tbody>\n",
       "</table>\n",
       "</div>"
      ],
      "text/plain": [
       "df               2017   2018   2019\n",
       "OCCUPANCY_DATE                     \n",
       "01              15471  15998  16089\n",
       "02              14054  14475  14804\n",
       "03              15453  15886  16412\n",
       "04              15099  15366  15821\n",
       "05              15603  15940  16130\n",
       "06              15028  15341  15498\n",
       "07              15523  15862  16401\n",
       "08              15590  15780  16241\n",
       "09              15192  15171  15852\n",
       "10              15755  16146  16429\n",
       "11              15215  15646  15944\n",
       "12              15755  16082  16451"
      ]
     },
     "execution_count": 127,
     "metadata": {},
     "output_type": "execute_result"
    }
   ],
   "source": [
    "df_co=pjnr[pjnr['SECTOR']=='Youth']\n",
    "df_co\n",
    "# ok pjnr_g=pd.crosstab(df_co['OCCUPANCY_DATE'].str[5:7],df_co['df'],pjnr['OCCUPANCY_DATE'].str[5:7]df_co['OCCUPANCY'],aggfunc='sum')\n",
    "pjnr_g=pd.crosstab(df_co['OCCUPANCY_DATE'].str[5:7],df_co['df'],df_co['OCCUPANCY'],aggfunc='sum')#,margins=True\n",
    "pjnr_g"
   ]
  },
  {
   "cell_type": "code",
   "execution_count": 128,
   "metadata": {},
   "outputs": [
    {
     "data": {
      "image/png": "[encoded data removed]",
      "text/plain": [
       "<Figure size 1080x720 with 1 Axes>"
      ]
     },
     "metadata": {
      "needs_background": "light"
     },
     "output_type": "display_data"
    }
   ],
   "source": [
    "pjnr_g.plot(kind='bar',stacked=False,figsize=(15,10),\n",
    "           title='OCCUPANCY_rate of Youth  2017,2018,2019');"
   ]
  },
  {
   "cell_type": "code",
   "execution_count": null,
   "metadata": {},
   "outputs": [],
   "source": []
  },
  {
   "attachments": {
    "image.png": {
     "image/png": "[encoded data removed]"
    }
   },
   "cell_type": "markdown",
   "metadata": {},
   "source": [
    "![image.png](attachment:image.png)"
   ]
  },
  {
   "cell_type": "code",
   "execution_count": null,
   "metadata": {},
   "outputs": [],
   "source": []
  },
  {
   "cell_type": "code",
   "execution_count": 129,
   "metadata": {},
   "outputs": [
    {
     "data": {
      "text/html": [
       "<div>\n",
       "<style scoped>\n",
       "    .dataframe tbody tr th:only-of-type {\n",
       "        vertical-align: middle;\n",
       "    }\n",
       "\n",
       "    .dataframe tbody tr th {\n",
       "        vertical-align: top;\n",
       "    }\n",
       "\n",
       "    .dataframe thead th {\n",
       "        text-align: right;\n",
       "    }\n",
       "</style>\n",
       "<table border=\"1\" class=\"dataframe\">\n",
       "  <thead>\n",
       "    <tr style=\"text-align: right;\">\n",
       "      <th>df</th>\n",
       "      <th>2017</th>\n",
       "      <th>2018</th>\n",
       "      <th>2019</th>\n",
       "    </tr>\n",
       "    <tr>\n",
       "      <th>SECTOR</th>\n",
       "      <th></th>\n",
       "      <th></th>\n",
       "      <th></th>\n",
       "    </tr>\n",
       "  </thead>\n",
       "  <tbody>\n",
       "    <tr>\n",
       "      <th>Co-ed</th>\n",
       "      <td>185997</td>\n",
       "      <td>217494</td>\n",
       "      <td>255805</td>\n",
       "    </tr>\n",
       "    <tr>\n",
       "      <th>Families</th>\n",
       "      <td>551861</td>\n",
       "      <td>998622</td>\n",
       "      <td>1090896</td>\n",
       "    </tr>\n",
       "    <tr>\n",
       "      <th>Men</th>\n",
       "      <td>613698</td>\n",
       "      <td>649625</td>\n",
       "      <td>649590</td>\n",
       "    </tr>\n",
       "    <tr>\n",
       "      <th>Women</th>\n",
       "      <td>250765</td>\n",
       "      <td>269750</td>\n",
       "      <td>306153</td>\n",
       "    </tr>\n",
       "    <tr>\n",
       "      <th>Youth</th>\n",
       "      <td>183738</td>\n",
       "      <td>187693</td>\n",
       "      <td>192072</td>\n",
       "    </tr>\n",
       "  </tbody>\n",
       "</table>\n",
       "</div>"
      ],
      "text/plain": [
       "df          2017    2018     2019\n",
       "SECTOR                           \n",
       "Co-ed     185997  217494   255805\n",
       "Families  551861  998622  1090896\n",
       "Men       613698  649625   649590\n",
       "Women     250765  269750   306153\n",
       "Youth     183738  187693   192072"
      ]
     },
     "execution_count": 129,
     "metadata": {},
     "output_type": "execute_result"
    }
   ],
   "source": [
    "# new Issue\n",
    "##pjnr_g=pd.crosstab(pjnr['SECTOR'],pjnr['df'],pjnr['OCCUPANCY_DATE'].str[5:7],pjnr['OCCUPANCY'],aggfunc='sum')\n",
    "#pjnr_g=pd.crosstab(pjnr['SECTOR'],pjnr['OCCUPANCY_DATE'].str[5:7],pjnr['OCCUPANCY'],aggfunc='sum')\n",
    "pjnr_g=pd.crosstab(pjnr['SECTOR'],pjnr['df'],pjnr['OCCUPANCY'],aggfunc='sum')\n",
    "\n",
    "pjnr_g"
   ]
  },
  {
   "cell_type": "code",
   "execution_count": 130,
   "metadata": {},
   "outputs": [
    {
     "data": {
      "text/html": [
       "<div>\n",
       "<style scoped>\n",
       "    .dataframe tbody tr th:only-of-type {\n",
       "        vertical-align: middle;\n",
       "    }\n",
       "\n",
       "    .dataframe tbody tr th {\n",
       "        vertical-align: top;\n",
       "    }\n",
       "\n",
       "    .dataframe thead th {\n",
       "        text-align: right;\n",
       "    }\n",
       "</style>\n",
       "<table border=\"1\" class=\"dataframe\">\n",
       "  <thead>\n",
       "    <tr style=\"text-align: right;\">\n",
       "      <th>OCCUPANCY_DATE</th>\n",
       "      <th>2017-01</th>\n",
       "      <th>2017-02</th>\n",
       "      <th>2017-03</th>\n",
       "      <th>2017-04</th>\n",
       "      <th>2017-05</th>\n",
       "      <th>2017-06</th>\n",
       "      <th>2017-07</th>\n",
       "      <th>2017-08</th>\n",
       "      <th>2017-09</th>\n",
       "      <th>2017-10</th>\n",
       "      <th>...</th>\n",
       "      <th>2019-03</th>\n",
       "      <th>2019-04</th>\n",
       "      <th>2019-05</th>\n",
       "      <th>2019-06</th>\n",
       "      <th>2019-07</th>\n",
       "      <th>2019-08</th>\n",
       "      <th>2019-09</th>\n",
       "      <th>2019-10</th>\n",
       "      <th>2019-11</th>\n",
       "      <th>2019-12</th>\n",
       "    </tr>\n",
       "    <tr>\n",
       "      <th>SECTOR</th>\n",
       "      <th></th>\n",
       "      <th></th>\n",
       "      <th></th>\n",
       "      <th></th>\n",
       "      <th></th>\n",
       "      <th></th>\n",
       "      <th></th>\n",
       "      <th></th>\n",
       "      <th></th>\n",
       "      <th></th>\n",
       "      <th></th>\n",
       "      <th></th>\n",
       "      <th></th>\n",
       "      <th></th>\n",
       "      <th></th>\n",
       "      <th></th>\n",
       "      <th></th>\n",
       "      <th></th>\n",
       "      <th></th>\n",
       "      <th></th>\n",
       "      <th></th>\n",
       "    </tr>\n",
       "  </thead>\n",
       "  <tbody>\n",
       "    <tr>\n",
       "      <th>Co-ed</th>\n",
       "      <td>15538</td>\n",
       "      <td>13809</td>\n",
       "      <td>15640</td>\n",
       "      <td>15623</td>\n",
       "      <td>16108</td>\n",
       "      <td>15451</td>\n",
       "      <td>15798</td>\n",
       "      <td>15684</td>\n",
       "      <td>14958</td>\n",
       "      <td>15984</td>\n",
       "      <td>...</td>\n",
       "      <td>19999</td>\n",
       "      <td>19797</td>\n",
       "      <td>21073</td>\n",
       "      <td>21820</td>\n",
       "      <td>22386</td>\n",
       "      <td>21799</td>\n",
       "      <td>21135</td>\n",
       "      <td>21873</td>\n",
       "      <td>23510</td>\n",
       "      <td>24609</td>\n",
       "    </tr>\n",
       "    <tr>\n",
       "      <th>Families</th>\n",
       "      <td>37864</td>\n",
       "      <td>35523</td>\n",
       "      <td>40374</td>\n",
       "      <td>41595</td>\n",
       "      <td>44520</td>\n",
       "      <td>44917</td>\n",
       "      <td>47553</td>\n",
       "      <td>49326</td>\n",
       "      <td>49114</td>\n",
       "      <td>53125</td>\n",
       "      <td>...</td>\n",
       "      <td>96915</td>\n",
       "      <td>96025</td>\n",
       "      <td>99285</td>\n",
       "      <td>94749</td>\n",
       "      <td>94869</td>\n",
       "      <td>93011</td>\n",
       "      <td>84678</td>\n",
       "      <td>85794</td>\n",
       "      <td>80085</td>\n",
       "      <td>81369</td>\n",
       "    </tr>\n",
       "    <tr>\n",
       "      <th>Men</th>\n",
       "      <td>51374</td>\n",
       "      <td>46622</td>\n",
       "      <td>52271</td>\n",
       "      <td>50738</td>\n",
       "      <td>52320</td>\n",
       "      <td>50292</td>\n",
       "      <td>51640</td>\n",
       "      <td>51671</td>\n",
       "      <td>50342</td>\n",
       "      <td>52438</td>\n",
       "      <td>...</td>\n",
       "      <td>55149</td>\n",
       "      <td>52650</td>\n",
       "      <td>54239</td>\n",
       "      <td>52862</td>\n",
       "      <td>55058</td>\n",
       "      <td>55153</td>\n",
       "      <td>52508</td>\n",
       "      <td>54035</td>\n",
       "      <td>54101</td>\n",
       "      <td>58875</td>\n",
       "    </tr>\n",
       "    <tr>\n",
       "      <th>Women</th>\n",
       "      <td>20744</td>\n",
       "      <td>18757</td>\n",
       "      <td>20869</td>\n",
       "      <td>20303</td>\n",
       "      <td>21120</td>\n",
       "      <td>20610</td>\n",
       "      <td>21259</td>\n",
       "      <td>21279</td>\n",
       "      <td>20567</td>\n",
       "      <td>21769</td>\n",
       "      <td>...</td>\n",
       "      <td>24395</td>\n",
       "      <td>24415</td>\n",
       "      <td>25919</td>\n",
       "      <td>25334</td>\n",
       "      <td>26341</td>\n",
       "      <td>26387</td>\n",
       "      <td>25553</td>\n",
       "      <td>26445</td>\n",
       "      <td>26718</td>\n",
       "      <td>29471</td>\n",
       "    </tr>\n",
       "    <tr>\n",
       "      <th>Youth</th>\n",
       "      <td>15471</td>\n",
       "      <td>14054</td>\n",
       "      <td>15453</td>\n",
       "      <td>15099</td>\n",
       "      <td>15603</td>\n",
       "      <td>15028</td>\n",
       "      <td>15523</td>\n",
       "      <td>15590</td>\n",
       "      <td>15192</td>\n",
       "      <td>15755</td>\n",
       "      <td>...</td>\n",
       "      <td>16412</td>\n",
       "      <td>15821</td>\n",
       "      <td>16130</td>\n",
       "      <td>15498</td>\n",
       "      <td>16401</td>\n",
       "      <td>16241</td>\n",
       "      <td>15852</td>\n",
       "      <td>16429</td>\n",
       "      <td>15944</td>\n",
       "      <td>16451</td>\n",
       "    </tr>\n",
       "  </tbody>\n",
       "</table>\n",
       "<p>5 rows × 36 columns</p>\n",
       "</div>"
      ],
      "text/plain": [
       "OCCUPANCY_DATE  2017-01  2017-02  2017-03  2017-04  2017-05  2017-06  2017-07  \\\n",
       "SECTOR                                                                          \n",
       "Co-ed             15538    13809    15640    15623    16108    15451    15798   \n",
       "Families          37864    35523    40374    41595    44520    44917    47553   \n",
       "Men               51374    46622    52271    50738    52320    50292    51640   \n",
       "Women             20744    18757    20869    20303    21120    20610    21259   \n",
       "Youth             15471    14054    15453    15099    15603    15028    15523   \n",
       "\n",
       "OCCUPANCY_DATE  2017-08  2017-09  2017-10  ...  2019-03  2019-04  2019-05  \\\n",
       "SECTOR                                     ...                              \n",
       "Co-ed             15684    14958    15984  ...    19999    19797    21073   \n",
       "Families          49326    49114    53125  ...    96915    96025    99285   \n",
       "Men               51671    50342    52438  ...    55149    52650    54239   \n",
       "Women             21279    20567    21769  ...    24395    24415    25919   \n",
       "Youth             15590    15192    15755  ...    16412    15821    16130   \n",
       "\n",
       "OCCUPANCY_DATE  2019-06  2019-07  2019-08  2019-09  2019-10  2019-11  2019-12  \n",
       "SECTOR                                                                         \n",
       "Co-ed             21820    22386    21799    21135    21873    23510    24609  \n",
       "Families          94749    94869    93011    84678    85794    80085    81369  \n",
       "Men               52862    55058    55153    52508    54035    54101    58875  \n",
       "Women             25334    26341    26387    25553    26445    26718    29471  \n",
       "Youth             15498    16401    16241    15852    16429    15944    16451  \n",
       "\n",
       "[5 rows x 36 columns]"
      ]
     },
     "execution_count": 130,
     "metadata": {},
     "output_type": "execute_result"
    }
   ],
   "source": [
    "# new\n",
    "pjnr_g=pd.crosstab(pjnr['SECTOR'],pjnr['OCCUPANCY_DATE'].str[:7],pjnr['OCCUPANCY'],aggfunc='sum')\n",
    "pjnr_g"
   ]
  },
  {
   "cell_type": "code",
   "execution_count": 131,
   "metadata": {},
   "outputs": [],
   "source": [
    "#pjnr_g.plot(kind='bar',stacked=True,figsize=(15,10));"
   ]
  },
  {
   "cell_type": "code",
   "execution_count": 132,
   "metadata": {},
   "outputs": [],
   "source": [
    "# It shows groupby every year ,month and sector \n",
    "#pjnr['id_dfm']='m'+pjnr['OCCUPANCY_DATE'].str[5:7]   \n",
    "#pjnr.head()#info()\n",
    " "
   ]
  },
  {
   "cell_type": "code",
   "execution_count": 133,
   "metadata": {
    "scrolled": true
   },
   "outputs": [],
   "source": [
    "#pjnr_m=pjnr.groupby(['id_df','id_dfm','SECTOR'])['OCCUPANCY'].sum() \n",
    "#pjnr_m"
   ]
  },
  {
   "cell_type": "code",
   "execution_count": 134,
   "metadata": {},
   "outputs": [],
   "source": [
    "#pjnr_m=pd.crosstab(index=pjnr['id_df'],columns=pjnr['SECTOR'],values=pjnr['OCCUPANCY'],aggfunc='sum')\n",
    "#pjnr_m"
   ]
  },
  {
   "cell_type": "code",
   "execution_count": 135,
   "metadata": {},
   "outputs": [],
   "source": [
    "#lines = df.plot.line()\n",
    "#pjnr_m=pd.crosstab(index=pjnr['id_df'],columns=pjnr['SECTOR'],values=pjnr['OCCUPANCY'],aggfunc='sum')\n",
    "#pjnr_m=pd.crosstab(pjnr['id_df'],pjnr['id_dfm'],pjnr['SECTOR'],pjnr['OCCUPANCY'],aggfunc='sum')\n",
    "#pjnr_m.plot(kind='bar',stacked=True,figsize=(10,5));"
   ]
  },
  {
   "cell_type": "code",
   "execution_count": null,
   "metadata": {},
   "outputs": [],
   "source": []
  },
  {
   "cell_type": "markdown",
   "metadata": {},
   "source": [
    "### Shelter 2020 with Covid19 "
   ]
  },
  {
   "cell_type": "code",
   "execution_count": 136,
   "metadata": {},
   "outputs": [
    {
     "name": "stdout",
     "output_type": "stream",
     "text": [
      "<class 'pandas.core.frame.DataFrame'>\n",
      "RangeIndex: 35762 entries, 0 to 35761\n",
      "Data columns (total 4 columns):\n",
      " #   Column          Non-Null Count  Dtype \n",
      "---  ------          --------------  ----- \n",
      " 0   OCCUPANCY_DATE  35762 non-null  object\n",
      " 1   SECTOR          35762 non-null  object\n",
      " 2   OCCUPANCY       35762 non-null  int64 \n",
      " 3   df              35762 non-null  object\n",
      "dtypes: int64(1), object(3)\n",
      "memory usage: 1.1+ MB\n"
     ]
    }
   ],
   "source": [
    "pj20['df']=pj20['OCCUPANCY_DATE'].str[:4]\n",
    "pj20.info()"
   ]
  },
  {
   "cell_type": "code",
   "execution_count": 137,
   "metadata": {},
   "outputs": [
    {
     "data": {
      "text/html": [
       "<div>\n",
       "<style scoped>\n",
       "    .dataframe tbody tr th:only-of-type {\n",
       "        vertical-align: middle;\n",
       "    }\n",
       "\n",
       "    .dataframe tbody tr th {\n",
       "        vertical-align: top;\n",
       "    }\n",
       "\n",
       "    .dataframe thead th {\n",
       "        text-align: right;\n",
       "    }\n",
       "</style>\n",
       "<table border=\"1\" class=\"dataframe\">\n",
       "  <thead>\n",
       "    <tr style=\"text-align: right;\">\n",
       "      <th></th>\n",
       "      <th>OCCUPANCY</th>\n",
       "    </tr>\n",
       "  </thead>\n",
       "  <tbody>\n",
       "    <tr>\n",
       "      <th>count</th>\n",
       "      <td>35762.000000</td>\n",
       "    </tr>\n",
       "    <tr>\n",
       "      <th>mean</th>\n",
       "      <td>44.178933</td>\n",
       "    </tr>\n",
       "    <tr>\n",
       "      <th>std</th>\n",
       "      <td>69.517692</td>\n",
       "    </tr>\n",
       "    <tr>\n",
       "      <th>min</th>\n",
       "      <td>0.000000</td>\n",
       "    </tr>\n",
       "    <tr>\n",
       "      <th>25%</th>\n",
       "      <td>10.000000</td>\n",
       "    </tr>\n",
       "    <tr>\n",
       "      <th>50%</th>\n",
       "      <td>26.000000</td>\n",
       "    </tr>\n",
       "    <tr>\n",
       "      <th>75%</th>\n",
       "      <td>52.000000</td>\n",
       "    </tr>\n",
       "    <tr>\n",
       "      <th>max</th>\n",
       "      <td>778.000000</td>\n",
       "    </tr>\n",
       "  </tbody>\n",
       "</table>\n",
       "</div>"
      ],
      "text/plain": [
       "          OCCUPANCY\n",
       "count  35762.000000\n",
       "mean      44.178933\n",
       "std       69.517692\n",
       "min        0.000000\n",
       "25%       10.000000\n",
       "50%       26.000000\n",
       "75%       52.000000\n",
       "max      778.000000"
      ]
     },
     "execution_count": 137,
     "metadata": {},
     "output_type": "execute_result"
    }
   ],
   "source": [
    "pj20.describe()"
   ]
  },
  {
   "cell_type": "code",
   "execution_count": 138,
   "metadata": {
    "scrolled": true
   },
   "outputs": [
    {
     "data": {
      "text/plain": [
       "SECTOR\n",
       "Co-ed       218315\n",
       "Families    633963\n",
       "Men         423629\n",
       "Women       182855\n",
       "Youth       121165\n",
       "Name: OCCUPANCY, dtype: int64"
      ]
     },
     "execution_count": 138,
     "metadata": {},
     "output_type": "execute_result"
    }
   ],
   "source": [
    "pj20_g=pj20.groupby(['SECTOR'])['OCCUPANCY'].sum()\n",
    "pj20_g"
   ]
  },
  {
   "cell_type": "code",
   "execution_count": 139,
   "metadata": {},
   "outputs": [
    {
     "data": {
      "text/html": [
       "<div>\n",
       "<style scoped>\n",
       "    .dataframe tbody tr th:only-of-type {\n",
       "        vertical-align: middle;\n",
       "    }\n",
       "\n",
       "    .dataframe tbody tr th {\n",
       "        vertical-align: top;\n",
       "    }\n",
       "\n",
       "    .dataframe thead th {\n",
       "        text-align: right;\n",
       "    }\n",
       "</style>\n",
       "<table border=\"1\" class=\"dataframe\">\n",
       "  <thead>\n",
       "    <tr style=\"text-align: right;\">\n",
       "      <th>SECTOR</th>\n",
       "      <th>Co-ed</th>\n",
       "      <th>Families</th>\n",
       "      <th>Men</th>\n",
       "      <th>Women</th>\n",
       "      <th>Youth</th>\n",
       "    </tr>\n",
       "    <tr>\n",
       "      <th>OCCUPANCY_DATE</th>\n",
       "      <th></th>\n",
       "      <th></th>\n",
       "      <th></th>\n",
       "      <th></th>\n",
       "      <th></th>\n",
       "    </tr>\n",
       "  </thead>\n",
       "  <tbody>\n",
       "    <tr>\n",
       "      <th>01</th>\n",
       "      <td>23001</td>\n",
       "      <td>81843</td>\n",
       "      <td>62008</td>\n",
       "      <td>26085</td>\n",
       "      <td>16573</td>\n",
       "    </tr>\n",
       "    <tr>\n",
       "      <th>02</th>\n",
       "      <td>21487</td>\n",
       "      <td>75995</td>\n",
       "      <td>58292</td>\n",
       "      <td>24377</td>\n",
       "      <td>15526</td>\n",
       "    </tr>\n",
       "    <tr>\n",
       "      <th>03</th>\n",
       "      <td>22726</td>\n",
       "      <td>77686</td>\n",
       "      <td>61935</td>\n",
       "      <td>26138</td>\n",
       "      <td>16370</td>\n",
       "    </tr>\n",
       "    <tr>\n",
       "      <th>04</th>\n",
       "      <td>22165</td>\n",
       "      <td>71009</td>\n",
       "      <td>49074</td>\n",
       "      <td>21398</td>\n",
       "      <td>14316</td>\n",
       "    </tr>\n",
       "    <tr>\n",
       "      <th>05</th>\n",
       "      <td>23494</td>\n",
       "      <td>64763</td>\n",
       "      <td>36471</td>\n",
       "      <td>16370</td>\n",
       "      <td>10527</td>\n",
       "    </tr>\n",
       "    <tr>\n",
       "      <th>06</th>\n",
       "      <td>20460</td>\n",
       "      <td>56379</td>\n",
       "      <td>26939</td>\n",
       "      <td>13507</td>\n",
       "      <td>8859</td>\n",
       "    </tr>\n",
       "    <tr>\n",
       "      <th>07</th>\n",
       "      <td>21847</td>\n",
       "      <td>53342</td>\n",
       "      <td>28171</td>\n",
       "      <td>13398</td>\n",
       "      <td>9103</td>\n",
       "    </tr>\n",
       "    <tr>\n",
       "      <th>08</th>\n",
       "      <td>21262</td>\n",
       "      <td>50637</td>\n",
       "      <td>29588</td>\n",
       "      <td>13116</td>\n",
       "      <td>9079</td>\n",
       "    </tr>\n",
       "    <tr>\n",
       "      <th>09</th>\n",
       "      <td>19748</td>\n",
       "      <td>44830</td>\n",
       "      <td>29691</td>\n",
       "      <td>12115</td>\n",
       "      <td>8650</td>\n",
       "    </tr>\n",
       "    <tr>\n",
       "      <th>10</th>\n",
       "      <td>16664</td>\n",
       "      <td>42947</td>\n",
       "      <td>30579</td>\n",
       "      <td>12125</td>\n",
       "      <td>8965</td>\n",
       "    </tr>\n",
       "    <tr>\n",
       "      <th>11</th>\n",
       "      <td>5461</td>\n",
       "      <td>14532</td>\n",
       "      <td>10881</td>\n",
       "      <td>4226</td>\n",
       "      <td>3197</td>\n",
       "    </tr>\n",
       "  </tbody>\n",
       "</table>\n",
       "</div>"
      ],
      "text/plain": [
       "SECTOR          Co-ed  Families    Men  Women  Youth\n",
       "OCCUPANCY_DATE                                      \n",
       "01              23001     81843  62008  26085  16573\n",
       "02              21487     75995  58292  24377  15526\n",
       "03              22726     77686  61935  26138  16370\n",
       "04              22165     71009  49074  21398  14316\n",
       "05              23494     64763  36471  16370  10527\n",
       "06              20460     56379  26939  13507   8859\n",
       "07              21847     53342  28171  13398   9103\n",
       "08              21262     50637  29588  13116   9079\n",
       "09              19748     44830  29691  12115   8650\n",
       "10              16664     42947  30579  12125   8965\n",
       "11               5461     14532  10881   4226   3197"
      ]
     },
     "execution_count": 139,
     "metadata": {},
     "output_type": "execute_result"
    }
   ],
   "source": [
    "pj20_g=pd.crosstab(pj20['OCCUPANCY_DATE'].str[5:7],pj20['SECTOR'],pj20['OCCUPANCY'],aggfunc='sum')\n",
    "pj20_g"
   ]
  },
  {
   "cell_type": "code",
   "execution_count": 140,
   "metadata": {},
   "outputs": [
    {
     "data": {
      "image/png": "[encoded data removed]",
      "text/plain": [
       "<Figure size 1080x720 with 1 Axes>"
      ]
     },
     "metadata": {
      "needs_background": "light"
     },
     "output_type": "display_data"
    }
   ],
   "source": [
    "pj20_g=pd.crosstab(pj20['OCCUPANCY_DATE'].str[5:7],pj20['SECTOR'],pj20['OCCUPANCY'],aggfunc='sum')\n",
    "pj20_g.plot(kind='bar',stacked=True,figsize=(15,10));"
   ]
  },
  {
   "cell_type": "code",
   "execution_count": 141,
   "metadata": {
    "scrolled": true
   },
   "outputs": [
    {
     "data": {
      "text/html": [
       "<div>\n",
       "<style scoped>\n",
       "    .dataframe tbody tr th:only-of-type {\n",
       "        vertical-align: middle;\n",
       "    }\n",
       "\n",
       "    .dataframe tbody tr th {\n",
       "        vertical-align: top;\n",
       "    }\n",
       "\n",
       "    .dataframe thead th {\n",
       "        text-align: right;\n",
       "    }\n",
       "</style>\n",
       "<table border=\"1\" class=\"dataframe\">\n",
       "  <thead>\n",
       "    <tr style=\"text-align: right;\">\n",
       "      <th>OCCUPANCY_DATE</th>\n",
       "      <th>01</th>\n",
       "      <th>02</th>\n",
       "      <th>03</th>\n",
       "      <th>04</th>\n",
       "      <th>05</th>\n",
       "      <th>06</th>\n",
       "      <th>07</th>\n",
       "      <th>08</th>\n",
       "      <th>09</th>\n",
       "      <th>10</th>\n",
       "      <th>11</th>\n",
       "    </tr>\n",
       "    <tr>\n",
       "      <th>SECTOR</th>\n",
       "      <th></th>\n",
       "      <th></th>\n",
       "      <th></th>\n",
       "      <th></th>\n",
       "      <th></th>\n",
       "      <th></th>\n",
       "      <th></th>\n",
       "      <th></th>\n",
       "      <th></th>\n",
       "      <th></th>\n",
       "      <th></th>\n",
       "    </tr>\n",
       "  </thead>\n",
       "  <tbody>\n",
       "    <tr>\n",
       "      <th>Co-ed</th>\n",
       "      <td>23001</td>\n",
       "      <td>21487</td>\n",
       "      <td>22726</td>\n",
       "      <td>22165</td>\n",
       "      <td>23494</td>\n",
       "      <td>20460</td>\n",
       "      <td>21847</td>\n",
       "      <td>21262</td>\n",
       "      <td>19748</td>\n",
       "      <td>16664</td>\n",
       "      <td>5461</td>\n",
       "    </tr>\n",
       "    <tr>\n",
       "      <th>Families</th>\n",
       "      <td>81843</td>\n",
       "      <td>75995</td>\n",
       "      <td>77686</td>\n",
       "      <td>71009</td>\n",
       "      <td>64763</td>\n",
       "      <td>56379</td>\n",
       "      <td>53342</td>\n",
       "      <td>50637</td>\n",
       "      <td>44830</td>\n",
       "      <td>42947</td>\n",
       "      <td>14532</td>\n",
       "    </tr>\n",
       "    <tr>\n",
       "      <th>Men</th>\n",
       "      <td>62008</td>\n",
       "      <td>58292</td>\n",
       "      <td>61935</td>\n",
       "      <td>49074</td>\n",
       "      <td>36471</td>\n",
       "      <td>26939</td>\n",
       "      <td>28171</td>\n",
       "      <td>29588</td>\n",
       "      <td>29691</td>\n",
       "      <td>30579</td>\n",
       "      <td>10881</td>\n",
       "    </tr>\n",
       "    <tr>\n",
       "      <th>Women</th>\n",
       "      <td>26085</td>\n",
       "      <td>24377</td>\n",
       "      <td>26138</td>\n",
       "      <td>21398</td>\n",
       "      <td>16370</td>\n",
       "      <td>13507</td>\n",
       "      <td>13398</td>\n",
       "      <td>13116</td>\n",
       "      <td>12115</td>\n",
       "      <td>12125</td>\n",
       "      <td>4226</td>\n",
       "    </tr>\n",
       "    <tr>\n",
       "      <th>Youth</th>\n",
       "      <td>16573</td>\n",
       "      <td>15526</td>\n",
       "      <td>16370</td>\n",
       "      <td>14316</td>\n",
       "      <td>10527</td>\n",
       "      <td>8859</td>\n",
       "      <td>9103</td>\n",
       "      <td>9079</td>\n",
       "      <td>8650</td>\n",
       "      <td>8965</td>\n",
       "      <td>3197</td>\n",
       "    </tr>\n",
       "  </tbody>\n",
       "</table>\n",
       "</div>"
      ],
      "text/plain": [
       "OCCUPANCY_DATE     01     02     03     04     05     06     07     08     09  \\\n",
       "SECTOR                                                                          \n",
       "Co-ed           23001  21487  22726  22165  23494  20460  21847  21262  19748   \n",
       "Families        81843  75995  77686  71009  64763  56379  53342  50637  44830   \n",
       "Men             62008  58292  61935  49074  36471  26939  28171  29588  29691   \n",
       "Women           26085  24377  26138  21398  16370  13507  13398  13116  12115   \n",
       "Youth           16573  15526  16370  14316  10527   8859   9103   9079   8650   \n",
       "\n",
       "OCCUPANCY_DATE     10     11  \n",
       "SECTOR                        \n",
       "Co-ed           16664   5461  \n",
       "Families        42947  14532  \n",
       "Men             30579  10881  \n",
       "Women           12125   4226  \n",
       "Youth            8965   3197  "
      ]
     },
     "execution_count": 141,
     "metadata": {},
     "output_type": "execute_result"
    }
   ],
   "source": [
    "pj20_g=pd.crosstab(pj20['SECTOR'],pj20['OCCUPANCY_DATE'].str[5:7],pj20['OCCUPANCY'],aggfunc='sum')#,margins=True\n",
    "pj20_g"
   ]
  },
  {
   "cell_type": "code",
   "execution_count": 142,
   "metadata": {
    "scrolled": false
   },
   "outputs": [
    {
     "data": {
      "image/png": "[encoded data removed]",
      "text/plain": [
       "<Figure size 1080x720 with 1 Axes>"
      ]
     },
     "metadata": {
      "needs_background": "light"
     },
     "output_type": "display_data"
    }
   ],
   "source": [
    "pj20_g.plot(kind='line',stacked=False,figsize=(15,10));"
   ]
  },
  {
   "cell_type": "code",
   "execution_count": 143,
   "metadata": {},
   "outputs": [
    {
     "data": {
      "text/html": [
       "<div>\n",
       "<style scoped>\n",
       "    .dataframe tbody tr th:only-of-type {\n",
       "        vertical-align: middle;\n",
       "    }\n",
       "\n",
       "    .dataframe tbody tr th {\n",
       "        vertical-align: top;\n",
       "    }\n",
       "\n",
       "    .dataframe thead th {\n",
       "        text-align: right;\n",
       "    }\n",
       "</style>\n",
       "<table border=\"1\" class=\"dataframe\">\n",
       "  <thead>\n",
       "    <tr style=\"text-align: right;\">\n",
       "      <th></th>\n",
       "      <th>OCCUPANCY_DATE</th>\n",
       "      <th>SECTOR</th>\n",
       "      <th>OCCUPANCY</th>\n",
       "      <th>df</th>\n",
       "    </tr>\n",
       "  </thead>\n",
       "  <tbody>\n",
       "    <tr>\n",
       "      <th>0</th>\n",
       "      <td>2020-01-01T00:00:00</td>\n",
       "      <td>Women</td>\n",
       "      <td>0</td>\n",
       "      <td>2020</td>\n",
       "    </tr>\n",
       "    <tr>\n",
       "      <th>1</th>\n",
       "      <td>2020-01-01T00:00:00</td>\n",
       "      <td>Families</td>\n",
       "      <td>545</td>\n",
       "      <td>2020</td>\n",
       "    </tr>\n",
       "    <tr>\n",
       "      <th>2</th>\n",
       "      <td>2020-01-01T00:00:00</td>\n",
       "      <td>Families</td>\n",
       "      <td>778</td>\n",
       "      <td>2020</td>\n",
       "    </tr>\n",
       "    <tr>\n",
       "      <th>3</th>\n",
       "      <td>2020-01-01T00:00:00</td>\n",
       "      <td>Co-ed</td>\n",
       "      <td>16</td>\n",
       "      <td>2020</td>\n",
       "    </tr>\n",
       "    <tr>\n",
       "      <th>4</th>\n",
       "      <td>2020-01-01T00:00:00</td>\n",
       "      <td>Women</td>\n",
       "      <td>2</td>\n",
       "      <td>2020</td>\n",
       "    </tr>\n",
       "    <tr>\n",
       "      <th>5</th>\n",
       "      <td>2020-01-01T00:00:00</td>\n",
       "      <td>Men</td>\n",
       "      <td>82</td>\n",
       "      <td>2020</td>\n",
       "    </tr>\n",
       "    <tr>\n",
       "      <th>6</th>\n",
       "      <td>2020-01-01T00:00:00</td>\n",
       "      <td>Men</td>\n",
       "      <td>42</td>\n",
       "      <td>2020</td>\n",
       "    </tr>\n",
       "    <tr>\n",
       "      <th>7</th>\n",
       "      <td>2020-01-01T00:00:00</td>\n",
       "      <td>Families</td>\n",
       "      <td>69</td>\n",
       "      <td>2020</td>\n",
       "    </tr>\n",
       "    <tr>\n",
       "      <th>8</th>\n",
       "      <td>2020-01-01T00:00:00</td>\n",
       "      <td>Families</td>\n",
       "      <td>205</td>\n",
       "      <td>2020</td>\n",
       "    </tr>\n",
       "    <tr>\n",
       "      <th>9</th>\n",
       "      <td>2020-01-01T00:00:00</td>\n",
       "      <td>Families</td>\n",
       "      <td>0</td>\n",
       "      <td>2020</td>\n",
       "    </tr>\n",
       "  </tbody>\n",
       "</table>\n",
       "</div>"
      ],
      "text/plain": [
       "        OCCUPANCY_DATE    SECTOR  OCCUPANCY    df\n",
       "0  2020-01-01T00:00:00     Women          0  2020\n",
       "1  2020-01-01T00:00:00  Families        545  2020\n",
       "2  2020-01-01T00:00:00  Families        778  2020\n",
       "3  2020-01-01T00:00:00     Co-ed         16  2020\n",
       "4  2020-01-01T00:00:00     Women          2  2020\n",
       "5  2020-01-01T00:00:00       Men         82  2020\n",
       "6  2020-01-01T00:00:00       Men         42  2020\n",
       "7  2020-01-01T00:00:00  Families         69  2020\n",
       "8  2020-01-01T00:00:00  Families        205  2020\n",
       "9  2020-01-01T00:00:00  Families          0  2020"
      ]
     },
     "execution_count": 143,
     "metadata": {},
     "output_type": "execute_result"
    }
   ],
   "source": [
    "pj20.head(10)"
   ]
  },
  {
   "cell_type": "code",
   "execution_count": 144,
   "metadata": {},
   "outputs": [
    {
     "data": {
      "text/html": [
       "<div>\n",
       "<style scoped>\n",
       "    .dataframe tbody tr th:only-of-type {\n",
       "        vertical-align: middle;\n",
       "    }\n",
       "\n",
       "    .dataframe tbody tr th {\n",
       "        vertical-align: top;\n",
       "    }\n",
       "\n",
       "    .dataframe thead th {\n",
       "        text-align: right;\n",
       "    }\n",
       "</style>\n",
       "<table border=\"1\" class=\"dataframe\">\n",
       "  <thead>\n",
       "    <tr style=\"text-align: right;\">\n",
       "      <th>df</th>\n",
       "      <th>2020</th>\n",
       "    </tr>\n",
       "    <tr>\n",
       "      <th>OCCUPANCY_DATE</th>\n",
       "      <th></th>\n",
       "    </tr>\n",
       "  </thead>\n",
       "  <tbody>\n",
       "    <tr>\n",
       "      <th>01</th>\n",
       "      <td>23001</td>\n",
       "    </tr>\n",
       "    <tr>\n",
       "      <th>02</th>\n",
       "      <td>21487</td>\n",
       "    </tr>\n",
       "    <tr>\n",
       "      <th>03</th>\n",
       "      <td>22726</td>\n",
       "    </tr>\n",
       "    <tr>\n",
       "      <th>04</th>\n",
       "      <td>22165</td>\n",
       "    </tr>\n",
       "    <tr>\n",
       "      <th>05</th>\n",
       "      <td>23494</td>\n",
       "    </tr>\n",
       "    <tr>\n",
       "      <th>06</th>\n",
       "      <td>20460</td>\n",
       "    </tr>\n",
       "    <tr>\n",
       "      <th>07</th>\n",
       "      <td>21847</td>\n",
       "    </tr>\n",
       "    <tr>\n",
       "      <th>08</th>\n",
       "      <td>21262</td>\n",
       "    </tr>\n",
       "    <tr>\n",
       "      <th>09</th>\n",
       "      <td>19748</td>\n",
       "    </tr>\n",
       "    <tr>\n",
       "      <th>10</th>\n",
       "      <td>16664</td>\n",
       "    </tr>\n",
       "    <tr>\n",
       "      <th>11</th>\n",
       "      <td>5461</td>\n",
       "    </tr>\n",
       "  </tbody>\n",
       "</table>\n",
       "</div>"
      ],
      "text/plain": [
       "df               2020\n",
       "OCCUPANCY_DATE       \n",
       "01              23001\n",
       "02              21487\n",
       "03              22726\n",
       "04              22165\n",
       "05              23494\n",
       "06              20460\n",
       "07              21847\n",
       "08              21262\n",
       "09              19748\n",
       "10              16664\n",
       "11               5461"
      ]
     },
     "execution_count": 144,
     "metadata": {},
     "output_type": "execute_result"
    }
   ],
   "source": [
    "df_co=pj20[pj20['SECTOR']=='Co-ed']\n",
    "df_co\n",
    "pjnr_g=pd.crosstab(df_co['OCCUPANCY_DATE'].str[5:7],df_co['df'],df_co['OCCUPANCY'],aggfunc='sum')\n",
    "pjnr_g"
   ]
  },
  {
   "cell_type": "code",
   "execution_count": 145,
   "metadata": {},
   "outputs": [
    {
     "data": {
      "image/png": "[encoded data removed]",
      "text/plain": [
       "<Figure size 1080x720 with 1 Axes>"
      ]
     },
     "metadata": {
      "needs_background": "light"
     },
     "output_type": "display_data"
    }
   ],
   "source": [
    "pjnr_g.plot(kind='bar',stacked=False,figsize=(15,10),\n",
    "           title='OCCUPANCY_rate of Co-ed  2017,2018,2019');"
   ]
  },
  {
   "cell_type": "code",
   "execution_count": 146,
   "metadata": {},
   "outputs": [
    {
     "data": {
      "text/html": [
       "<div>\n",
       "<style scoped>\n",
       "    .dataframe tbody tr th:only-of-type {\n",
       "        vertical-align: middle;\n",
       "    }\n",
       "\n",
       "    .dataframe tbody tr th {\n",
       "        vertical-align: top;\n",
       "    }\n",
       "\n",
       "    .dataframe thead th {\n",
       "        text-align: right;\n",
       "    }\n",
       "</style>\n",
       "<table border=\"1\" class=\"dataframe\">\n",
       "  <thead>\n",
       "    <tr style=\"text-align: right;\">\n",
       "      <th>df</th>\n",
       "      <th>2020</th>\n",
       "    </tr>\n",
       "    <tr>\n",
       "      <th>OCCUPANCY_DATE</th>\n",
       "      <th></th>\n",
       "    </tr>\n",
       "  </thead>\n",
       "  <tbody>\n",
       "    <tr>\n",
       "      <th>01</th>\n",
       "      <td>62008</td>\n",
       "    </tr>\n",
       "    <tr>\n",
       "      <th>02</th>\n",
       "      <td>58292</td>\n",
       "    </tr>\n",
       "    <tr>\n",
       "      <th>03</th>\n",
       "      <td>61935</td>\n",
       "    </tr>\n",
       "    <tr>\n",
       "      <th>04</th>\n",
       "      <td>49074</td>\n",
       "    </tr>\n",
       "    <tr>\n",
       "      <th>05</th>\n",
       "      <td>36471</td>\n",
       "    </tr>\n",
       "    <tr>\n",
       "      <th>06</th>\n",
       "      <td>26939</td>\n",
       "    </tr>\n",
       "    <tr>\n",
       "      <th>07</th>\n",
       "      <td>28171</td>\n",
       "    </tr>\n",
       "    <tr>\n",
       "      <th>08</th>\n",
       "      <td>29588</td>\n",
       "    </tr>\n",
       "    <tr>\n",
       "      <th>09</th>\n",
       "      <td>29691</td>\n",
       "    </tr>\n",
       "    <tr>\n",
       "      <th>10</th>\n",
       "      <td>30579</td>\n",
       "    </tr>\n",
       "    <tr>\n",
       "      <th>11</th>\n",
       "      <td>10881</td>\n",
       "    </tr>\n",
       "  </tbody>\n",
       "</table>\n",
       "</div>"
      ],
      "text/plain": [
       "df               2020\n",
       "OCCUPANCY_DATE       \n",
       "01              62008\n",
       "02              58292\n",
       "03              61935\n",
       "04              49074\n",
       "05              36471\n",
       "06              26939\n",
       "07              28171\n",
       "08              29588\n",
       "09              29691\n",
       "10              30579\n",
       "11              10881"
      ]
     },
     "execution_count": 146,
     "metadata": {},
     "output_type": "execute_result"
    }
   ],
   "source": [
    "df_co=pj20[pj20['SECTOR']=='Men']\n",
    "df_co\n",
    "pjnr_g=pd.crosstab(df_co['OCCUPANCY_DATE'].str[5:7],df_co['df'],df_co['OCCUPANCY'],aggfunc='sum')\n",
    "pjnr_g\n",
    "\n"
   ]
  },
  {
   "cell_type": "code",
   "execution_count": 147,
   "metadata": {},
   "outputs": [
    {
     "data": {
      "image/png": "[encoded data removed]",
      "text/plain": [
       "<Figure size 1080x720 with 1 Axes>"
      ]
     },
     "metadata": {
      "needs_background": "light"
     },
     "output_type": "display_data"
    }
   ],
   "source": [
    "pjnr_g.plot(kind='bar',stacked=False,figsize=(15,10),\n",
    "           title='OCCUPANCY_rate of Men  2017,2018,2019');"
   ]
  },
  {
   "cell_type": "code",
   "execution_count": 148,
   "metadata": {},
   "outputs": [
    {
     "data": {
      "text/html": [
       "<div>\n",
       "<style scoped>\n",
       "    .dataframe tbody tr th:only-of-type {\n",
       "        vertical-align: middle;\n",
       "    }\n",
       "\n",
       "    .dataframe tbody tr th {\n",
       "        vertical-align: top;\n",
       "    }\n",
       "\n",
       "    .dataframe thead th {\n",
       "        text-align: right;\n",
       "    }\n",
       "</style>\n",
       "<table border=\"1\" class=\"dataframe\">\n",
       "  <thead>\n",
       "    <tr style=\"text-align: right;\">\n",
       "      <th>df</th>\n",
       "      <th>2020</th>\n",
       "    </tr>\n",
       "    <tr>\n",
       "      <th>OCCUPANCY_DATE</th>\n",
       "      <th></th>\n",
       "    </tr>\n",
       "  </thead>\n",
       "  <tbody>\n",
       "    <tr>\n",
       "      <th>01</th>\n",
       "      <td>26085</td>\n",
       "    </tr>\n",
       "    <tr>\n",
       "      <th>02</th>\n",
       "      <td>24377</td>\n",
       "    </tr>\n",
       "    <tr>\n",
       "      <th>03</th>\n",
       "      <td>26138</td>\n",
       "    </tr>\n",
       "    <tr>\n",
       "      <th>04</th>\n",
       "      <td>21398</td>\n",
       "    </tr>\n",
       "    <tr>\n",
       "      <th>05</th>\n",
       "      <td>16370</td>\n",
       "    </tr>\n",
       "    <tr>\n",
       "      <th>06</th>\n",
       "      <td>13507</td>\n",
       "    </tr>\n",
       "    <tr>\n",
       "      <th>07</th>\n",
       "      <td>13398</td>\n",
       "    </tr>\n",
       "    <tr>\n",
       "      <th>08</th>\n",
       "      <td>13116</td>\n",
       "    </tr>\n",
       "    <tr>\n",
       "      <th>09</th>\n",
       "      <td>12115</td>\n",
       "    </tr>\n",
       "    <tr>\n",
       "      <th>10</th>\n",
       "      <td>12125</td>\n",
       "    </tr>\n",
       "    <tr>\n",
       "      <th>11</th>\n",
       "      <td>4226</td>\n",
       "    </tr>\n",
       "  </tbody>\n",
       "</table>\n",
       "</div>"
      ],
      "text/plain": [
       "df               2020\n",
       "OCCUPANCY_DATE       \n",
       "01              26085\n",
       "02              24377\n",
       "03              26138\n",
       "04              21398\n",
       "05              16370\n",
       "06              13507\n",
       "07              13398\n",
       "08              13116\n",
       "09              12115\n",
       "10              12125\n",
       "11               4226"
      ]
     },
     "execution_count": 148,
     "metadata": {},
     "output_type": "execute_result"
    }
   ],
   "source": [
    "df_co=pj20[pj20['SECTOR']=='Women']\n",
    "df_co\n",
    "pjnr_g=pd.crosstab(df_co['OCCUPANCY_DATE'].str[5:7],df_co['df'],df_co['OCCUPANCY'],aggfunc='sum')\n",
    "pjnr_g"
   ]
  },
  {
   "cell_type": "code",
   "execution_count": 149,
   "metadata": {},
   "outputs": [
    {
     "data": {
      "image/png": "[encoded data removed]",
      "text/plain": [
       "<Figure size 1080x720 with 1 Axes>"
      ]
     },
     "metadata": {
      "needs_background": "light"
     },
     "output_type": "display_data"
    }
   ],
   "source": [
    "pjnr_g.plot(kind='bar',stacked=False,figsize=(15,10),\n",
    "           title='OCCUPANCY_rate of Women  2017,2018,2019');"
   ]
  },
  {
   "cell_type": "code",
   "execution_count": 150,
   "metadata": {},
   "outputs": [
    {
     "data": {
      "text/html": [
       "<div>\n",
       "<style scoped>\n",
       "    .dataframe tbody tr th:only-of-type {\n",
       "        vertical-align: middle;\n",
       "    }\n",
       "\n",
       "    .dataframe tbody tr th {\n",
       "        vertical-align: top;\n",
       "    }\n",
       "\n",
       "    .dataframe thead th {\n",
       "        text-align: right;\n",
       "    }\n",
       "</style>\n",
       "<table border=\"1\" class=\"dataframe\">\n",
       "  <thead>\n",
       "    <tr style=\"text-align: right;\">\n",
       "      <th>df</th>\n",
       "      <th>2020</th>\n",
       "    </tr>\n",
       "    <tr>\n",
       "      <th>OCCUPANCY_DATE</th>\n",
       "      <th></th>\n",
       "    </tr>\n",
       "  </thead>\n",
       "  <tbody>\n",
       "    <tr>\n",
       "      <th>01</th>\n",
       "      <td>81843</td>\n",
       "    </tr>\n",
       "    <tr>\n",
       "      <th>02</th>\n",
       "      <td>75995</td>\n",
       "    </tr>\n",
       "    <tr>\n",
       "      <th>03</th>\n",
       "      <td>77686</td>\n",
       "    </tr>\n",
       "    <tr>\n",
       "      <th>04</th>\n",
       "      <td>71009</td>\n",
       "    </tr>\n",
       "    <tr>\n",
       "      <th>05</th>\n",
       "      <td>64763</td>\n",
       "    </tr>\n",
       "    <tr>\n",
       "      <th>06</th>\n",
       "      <td>56379</td>\n",
       "    </tr>\n",
       "    <tr>\n",
       "      <th>07</th>\n",
       "      <td>53342</td>\n",
       "    </tr>\n",
       "    <tr>\n",
       "      <th>08</th>\n",
       "      <td>50637</td>\n",
       "    </tr>\n",
       "    <tr>\n",
       "      <th>09</th>\n",
       "      <td>44830</td>\n",
       "    </tr>\n",
       "    <tr>\n",
       "      <th>10</th>\n",
       "      <td>42947</td>\n",
       "    </tr>\n",
       "    <tr>\n",
       "      <th>11</th>\n",
       "      <td>14532</td>\n",
       "    </tr>\n",
       "  </tbody>\n",
       "</table>\n",
       "</div>"
      ],
      "text/plain": [
       "df               2020\n",
       "OCCUPANCY_DATE       \n",
       "01              81843\n",
       "02              75995\n",
       "03              77686\n",
       "04              71009\n",
       "05              64763\n",
       "06              56379\n",
       "07              53342\n",
       "08              50637\n",
       "09              44830\n",
       "10              42947\n",
       "11              14532"
      ]
     },
     "execution_count": 150,
     "metadata": {},
     "output_type": "execute_result"
    }
   ],
   "source": [
    "df_co=pj20[pj20['SECTOR']=='Families']\n",
    "df_co\n",
    "pjnr_g=pd.crosstab(df_co['OCCUPANCY_DATE'].str[5:7],df_co['df'],df_co['OCCUPANCY'],aggfunc='sum')\n",
    "pjnr_g"
   ]
  },
  {
   "cell_type": "code",
   "execution_count": 151,
   "metadata": {},
   "outputs": [
    {
     "data": {
      "image/png": "[encoded data removed]",
      "text/plain": [
       "<Figure size 1080x720 with 1 Axes>"
      ]
     },
     "metadata": {
      "needs_background": "light"
     },
     "output_type": "display_data"
    }
   ],
   "source": [
    "pjnr_g.plot(kind='bar',stacked=False,figsize=(15,10),\n",
    "           title='OCCUPANCY_rate of Families  2017,2018,2019');"
   ]
  },
  {
   "cell_type": "code",
   "execution_count": 152,
   "metadata": {},
   "outputs": [
    {
     "data": {
      "text/html": [
       "<div>\n",
       "<style scoped>\n",
       "    .dataframe tbody tr th:only-of-type {\n",
       "        vertical-align: middle;\n",
       "    }\n",
       "\n",
       "    .dataframe tbody tr th {\n",
       "        vertical-align: top;\n",
       "    }\n",
       "\n",
       "    .dataframe thead th {\n",
       "        text-align: right;\n",
       "    }\n",
       "</style>\n",
       "<table border=\"1\" class=\"dataframe\">\n",
       "  <thead>\n",
       "    <tr style=\"text-align: right;\">\n",
       "      <th>df</th>\n",
       "      <th>2020</th>\n",
       "    </tr>\n",
       "    <tr>\n",
       "      <th>OCCUPANCY_DATE</th>\n",
       "      <th></th>\n",
       "    </tr>\n",
       "  </thead>\n",
       "  <tbody>\n",
       "    <tr>\n",
       "      <th>01</th>\n",
       "      <td>16573</td>\n",
       "    </tr>\n",
       "    <tr>\n",
       "      <th>02</th>\n",
       "      <td>15526</td>\n",
       "    </tr>\n",
       "    <tr>\n",
       "      <th>03</th>\n",
       "      <td>16370</td>\n",
       "    </tr>\n",
       "    <tr>\n",
       "      <th>04</th>\n",
       "      <td>14316</td>\n",
       "    </tr>\n",
       "    <tr>\n",
       "      <th>05</th>\n",
       "      <td>10527</td>\n",
       "    </tr>\n",
       "    <tr>\n",
       "      <th>06</th>\n",
       "      <td>8859</td>\n",
       "    </tr>\n",
       "    <tr>\n",
       "      <th>07</th>\n",
       "      <td>9103</td>\n",
       "    </tr>\n",
       "    <tr>\n",
       "      <th>08</th>\n",
       "      <td>9079</td>\n",
       "    </tr>\n",
       "    <tr>\n",
       "      <th>09</th>\n",
       "      <td>8650</td>\n",
       "    </tr>\n",
       "    <tr>\n",
       "      <th>10</th>\n",
       "      <td>8965</td>\n",
       "    </tr>\n",
       "    <tr>\n",
       "      <th>11</th>\n",
       "      <td>3197</td>\n",
       "    </tr>\n",
       "  </tbody>\n",
       "</table>\n",
       "</div>"
      ],
      "text/plain": [
       "df               2020\n",
       "OCCUPANCY_DATE       \n",
       "01              16573\n",
       "02              15526\n",
       "03              16370\n",
       "04              14316\n",
       "05              10527\n",
       "06               8859\n",
       "07               9103\n",
       "08               9079\n",
       "09               8650\n",
       "10               8965\n",
       "11               3197"
      ]
     },
     "execution_count": 152,
     "metadata": {},
     "output_type": "execute_result"
    }
   ],
   "source": [
    "df_co=pj20[pj20['SECTOR']=='Youth']\n",
    "df_co\n",
    "pjnr_g=pd.crosstab(df_co['OCCUPANCY_DATE'].str[5:7],df_co['df'],df_co['OCCUPANCY'],aggfunc='sum')\n",
    "pjnr_g"
   ]
  },
  {
   "cell_type": "code",
   "execution_count": 153,
   "metadata": {},
   "outputs": [
    {
     "data": {
      "image/png": "[encoded data removed]",
      "text/plain": [
       "<Figure size 1080x720 with 1 Axes>"
      ]
     },
     "metadata": {
      "needs_background": "light"
     },
     "output_type": "display_data"
    }
   ],
   "source": [
    "pjnr_g.plot(kind='bar',stacked=False,figsize=(15,10),\n",
    "           title='OCCUPANCY_rate of  Youth  2017,2018,2019');"
   ]
  },
  {
   "cell_type": "code",
   "execution_count": 88,
   "metadata": {},
   "outputs": [],
   "source": [
    "#pj20['id_dfm']='m'+pj20['OCCUPANCY_DATE'].str[5:7]   \n",
    "#pj20.head()\n",
    "#pj20_analysis=pd.crosstab(pj20['OCCUPANCY_DATE'].str[5:7],pj20['OCCUPANCY']),sum()\n",
    "#j20_analysis"
   ]
  },
  {
   "cell_type": "code",
   "execution_count": null,
   "metadata": {},
   "outputs": [],
   "source": []
  },
  {
   "attachments": {
    "image.png": {
     "image/png": "[encoded data removed]"
    }
   },
   "cell_type": "markdown",
   "metadata": {},
   "source": [
    "![image.png](attachment:image.png)"
   ]
  },
  {
   "attachments": {
    "image.png": {
     "image/png": "[encoded data removed]"
    }
   },
   "cell_type": "markdown",
   "metadata": {},
   "source": [
    "![image.png](attachment:image.png)"
   ]
  },
  {
   "attachments": {
    "image.png": {
     "image/png": "[encoded data removed]"
    }
   },
   "cell_type": "markdown",
   "metadata": {},
   "source": [
    "![image.png](attachment:image.png)"
   ]
  },
  {
   "attachments": {
    "image.png": {
     "image/png": "[encoded data removed]"
    }
   },
   "cell_type": "markdown",
   "metadata": {},
   "source": [
    "![image.png](attachment:image.png)"
   ]
  },
  {
   "attachments": {
    "image.png": {
     "image/png": "[encoded data removed]"
    }
   },
   "cell_type": "markdown",
   "metadata": {},
   "source": [
    "![image.png](attachment:image.png)"
   ]
  },
  {
   "cell_type": "code",
   "execution_count": null,
   "metadata": {},
   "outputs": [],
   "source": []
  },
  {
   "cell_type": "markdown",
   "metadata": {},
   "source": [
    "### COVID19 cases in 2020"
   ]
  },
  {
   "cell_type": "code",
   "execution_count": 154,
   "metadata": {},
   "outputs": [
    {
     "name": "stdout",
     "output_type": "stream",
     "text": [
      "<class 'pandas.core.frame.DataFrame'>\n",
      "RangeIndex: 32430 entries, 0 to 32429\n",
      "Data columns (total 2 columns):\n",
      " #   Column         Non-Null Count  Dtype \n",
      "---  ------         --------------  ----- \n",
      " 0   Reported Date  32430 non-null  object\n",
      " 1   Client Gender  32430 non-null  object\n",
      "dtypes: object(2)\n",
      "memory usage: 506.8+ KB\n"
     ]
    }
   ],
   "source": [
    "cov19.info()"
   ]
  },
  {
   "cell_type": "code",
   "execution_count": 155,
   "metadata": {},
   "outputs": [
    {
     "data": {
      "text/html": [
       "<div>\n",
       "<style scoped>\n",
       "    .dataframe tbody tr th:only-of-type {\n",
       "        vertical-align: middle;\n",
       "    }\n",
       "\n",
       "    .dataframe tbody tr th {\n",
       "        vertical-align: top;\n",
       "    }\n",
       "\n",
       "    .dataframe thead th {\n",
       "        text-align: right;\n",
       "    }\n",
       "</style>\n",
       "<table border=\"1\" class=\"dataframe\">\n",
       "  <thead>\n",
       "    <tr style=\"text-align: right;\">\n",
       "      <th></th>\n",
       "      <th>Reported Date</th>\n",
       "      <th>Client Gender</th>\n",
       "    </tr>\n",
       "  </thead>\n",
       "  <tbody>\n",
       "    <tr>\n",
       "      <th>0</th>\n",
       "      <td>2020-01-23</td>\n",
       "      <td>FEMALE</td>\n",
       "    </tr>\n",
       "    <tr>\n",
       "      <th>1</th>\n",
       "      <td>2020-01-23</td>\n",
       "      <td>MALE</td>\n",
       "    </tr>\n",
       "    <tr>\n",
       "      <th>2</th>\n",
       "      <td>2020-02-21</td>\n",
       "      <td>FEMALE</td>\n",
       "    </tr>\n",
       "    <tr>\n",
       "      <th>3</th>\n",
       "      <td>2020-02-25</td>\n",
       "      <td>FEMALE</td>\n",
       "    </tr>\n",
       "    <tr>\n",
       "      <th>4</th>\n",
       "      <td>2020-02-26</td>\n",
       "      <td>MALE</td>\n",
       "    </tr>\n",
       "  </tbody>\n",
       "</table>\n",
       "</div>"
      ],
      "text/plain": [
       "  Reported Date Client Gender\n",
       "0    2020-01-23        FEMALE\n",
       "1    2020-01-23          MALE\n",
       "2    2020-02-21        FEMALE\n",
       "3    2020-02-25        FEMALE\n",
       "4    2020-02-26          MALE"
      ]
     },
     "execution_count": 155,
     "metadata": {},
     "output_type": "execute_result"
    }
   ],
   "source": [
    "cov19.head()"
   ]
  },
  {
   "cell_type": "code",
   "execution_count": 156,
   "metadata": {
    "scrolled": true
   },
   "outputs": [
    {
     "data": {
      "text/html": [
       "<div>\n",
       "<style scoped>\n",
       "    .dataframe tbody tr th:only-of-type {\n",
       "        vertical-align: middle;\n",
       "    }\n",
       "\n",
       "    .dataframe tbody tr th {\n",
       "        vertical-align: top;\n",
       "    }\n",
       "\n",
       "    .dataframe thead th {\n",
       "        text-align: right;\n",
       "    }\n",
       "</style>\n",
       "<table border=\"1\" class=\"dataframe\">\n",
       "  <thead>\n",
       "    <tr style=\"text-align: right;\">\n",
       "      <th></th>\n",
       "      <th>Reported Date</th>\n",
       "      <th>Client Gender</th>\n",
       "    </tr>\n",
       "  </thead>\n",
       "  <tbody>\n",
       "    <tr>\n",
       "      <th>count</th>\n",
       "      <td>32430</td>\n",
       "      <td>32430</td>\n",
       "    </tr>\n",
       "    <tr>\n",
       "      <th>unique</th>\n",
       "      <td>261</td>\n",
       "      <td>5</td>\n",
       "    </tr>\n",
       "    <tr>\n",
       "      <th>top</th>\n",
       "      <td>2020-11-08</td>\n",
       "      <td>FEMALE</td>\n",
       "    </tr>\n",
       "    <tr>\n",
       "      <th>freq</th>\n",
       "      <td>482</td>\n",
       "      <td>16779</td>\n",
       "    </tr>\n",
       "  </tbody>\n",
       "</table>\n",
       "</div>"
      ],
      "text/plain": [
       "       Reported Date Client Gender\n",
       "count          32430         32430\n",
       "unique           261             5\n",
       "top       2020-11-08        FEMALE\n",
       "freq             482         16779"
      ]
     },
     "execution_count": 156,
     "metadata": {},
     "output_type": "execute_result"
    }
   ],
   "source": [
    "cov19.describe()"
   ]
  },
  {
   "cell_type": "code",
   "execution_count": 163,
   "metadata": {},
   "outputs": [
    {
     "data": {
      "text/plain": [
       "32430"
      ]
     },
     "execution_count": 163,
     "metadata": {},
     "output_type": "execute_result"
    }
   ],
   "source": [
    "pjco_g=cov19['Reported Date'].count()\n",
    "pjco_g"
   ]
  },
  {
   "cell_type": "code",
   "execution_count": 167,
   "metadata": {},
   "outputs": [
    {
     "data": {
      "text/html": [
       "<div>\n",
       "<style scoped>\n",
       "    .dataframe tbody tr th:only-of-type {\n",
       "        vertical-align: middle;\n",
       "    }\n",
       "\n",
       "    .dataframe tbody tr th {\n",
       "        vertical-align: top;\n",
       "    }\n",
       "\n",
       "    .dataframe thead th {\n",
       "        text-align: right;\n",
       "    }\n",
       "</style>\n",
       "<table border=\"1\" class=\"dataframe\">\n",
       "  <thead>\n",
       "    <tr style=\"text-align: right;\">\n",
       "      <th></th>\n",
       "      <th>OCCUPANCY_DATE</th>\n",
       "      <th>SECTOR</th>\n",
       "      <th>OCCUPANCY</th>\n",
       "      <th>df</th>\n",
       "      <th>typ</th>\n",
       "    </tr>\n",
       "  </thead>\n",
       "  <tbody>\n",
       "    <tr>\n",
       "      <th>0</th>\n",
       "      <td>2020-01-01T00:00:00</td>\n",
       "      <td>Women</td>\n",
       "      <td>0</td>\n",
       "      <td>2020</td>\n",
       "      <td>P</td>\n",
       "    </tr>\n",
       "    <tr>\n",
       "      <th>1</th>\n",
       "      <td>2020-01-01T00:00:00</td>\n",
       "      <td>Families</td>\n",
       "      <td>545</td>\n",
       "      <td>2020</td>\n",
       "      <td>P</td>\n",
       "    </tr>\n",
       "    <tr>\n",
       "      <th>2</th>\n",
       "      <td>2020-01-01T00:00:00</td>\n",
       "      <td>Families</td>\n",
       "      <td>778</td>\n",
       "      <td>2020</td>\n",
       "      <td>P</td>\n",
       "    </tr>\n",
       "    <tr>\n",
       "      <th>3</th>\n",
       "      <td>2020-01-01T00:00:00</td>\n",
       "      <td>Co-ed</td>\n",
       "      <td>16</td>\n",
       "      <td>2020</td>\n",
       "      <td>P</td>\n",
       "    </tr>\n",
       "    <tr>\n",
       "      <th>4</th>\n",
       "      <td>2020-01-01T00:00:00</td>\n",
       "      <td>Women</td>\n",
       "      <td>2</td>\n",
       "      <td>2020</td>\n",
       "      <td>P</td>\n",
       "    </tr>\n",
       "  </tbody>\n",
       "</table>\n",
       "</div>"
      ],
      "text/plain": [
       "        OCCUPANCY_DATE    SECTOR  OCCUPANCY    df typ\n",
       "0  2020-01-01T00:00:00     Women          0  2020   P\n",
       "1  2020-01-01T00:00:00  Families        545  2020   P\n",
       "2  2020-01-01T00:00:00  Families        778  2020   P\n",
       "3  2020-01-01T00:00:00     Co-ed         16  2020   P\n",
       "4  2020-01-01T00:00:00     Women          2  2020   P"
      ]
     },
     "execution_count": 167,
     "metadata": {},
     "output_type": "execute_result"
    }
   ],
   "source": [
    "pj20['typ']='P'\n",
    "cov19['typ']='C'\n",
    "cov19['OCCUPANCY']=1\n",
    "\n",
    "pj20.head()"
   ]
  },
  {
   "cell_type": "code",
   "execution_count": 168,
   "metadata": {},
   "outputs": [
    {
     "data": {
      "text/html": [
       "<div>\n",
       "<style scoped>\n",
       "    .dataframe tbody tr th:only-of-type {\n",
       "        vertical-align: middle;\n",
       "    }\n",
       "\n",
       "    .dataframe tbody tr th {\n",
       "        vertical-align: top;\n",
       "    }\n",
       "\n",
       "    .dataframe thead th {\n",
       "        text-align: right;\n",
       "    }\n",
       "</style>\n",
       "<table border=\"1\" class=\"dataframe\">\n",
       "  <thead>\n",
       "    <tr style=\"text-align: right;\">\n",
       "      <th></th>\n",
       "      <th>Reported Date</th>\n",
       "      <th>Client Gender</th>\n",
       "      <th>typ</th>\n",
       "      <th>OCCUPANCY</th>\n",
       "    </tr>\n",
       "  </thead>\n",
       "  <tbody>\n",
       "    <tr>\n",
       "      <th>0</th>\n",
       "      <td>2020-01-23</td>\n",
       "      <td>FEMALE</td>\n",
       "      <td>C</td>\n",
       "      <td>1</td>\n",
       "    </tr>\n",
       "    <tr>\n",
       "      <th>1</th>\n",
       "      <td>2020-01-23</td>\n",
       "      <td>MALE</td>\n",
       "      <td>C</td>\n",
       "      <td>1</td>\n",
       "    </tr>\n",
       "    <tr>\n",
       "      <th>2</th>\n",
       "      <td>2020-02-21</td>\n",
       "      <td>FEMALE</td>\n",
       "      <td>C</td>\n",
       "      <td>1</td>\n",
       "    </tr>\n",
       "    <tr>\n",
       "      <th>3</th>\n",
       "      <td>2020-02-25</td>\n",
       "      <td>FEMALE</td>\n",
       "      <td>C</td>\n",
       "      <td>1</td>\n",
       "    </tr>\n",
       "    <tr>\n",
       "      <th>4</th>\n",
       "      <td>2020-02-26</td>\n",
       "      <td>MALE</td>\n",
       "      <td>C</td>\n",
       "      <td>1</td>\n",
       "    </tr>\n",
       "  </tbody>\n",
       "</table>\n",
       "</div>"
      ],
      "text/plain": [
       "  Reported Date Client Gender typ  OCCUPANCY\n",
       "0    2020-01-23        FEMALE   C          1\n",
       "1    2020-01-23          MALE   C          1\n",
       "2    2020-02-21        FEMALE   C          1\n",
       "3    2020-02-25        FEMALE   C          1\n",
       "4    2020-02-26          MALE   C          1"
      ]
     },
     "execution_count": 168,
     "metadata": {},
     "output_type": "execute_result"
    }
   ],
   "source": [
    "cov19.head()"
   ]
  },
  {
   "cell_type": "code",
   "execution_count": 169,
   "metadata": {
    "scrolled": true
   },
   "outputs": [
    {
     "name": "stdout",
     "output_type": "stream",
     "text": [
      "<class 'pandas.core.frame.DataFrame'>\n",
      "Int64Index: 68192 entries, 0 to 35761\n",
      "Data columns (total 7 columns):\n",
      " #   Column          Non-Null Count  Dtype \n",
      "---  ------          --------------  ----- \n",
      " 0   Reported Date   32430 non-null  object\n",
      " 1   Client Gender   32430 non-null  object\n",
      " 2   typ             68192 non-null  object\n",
      " 3   OCCUPANCY       68192 non-null  int64 \n",
      " 4   OCCUPANCY_DATE  35762 non-null  object\n",
      " 5   SECTOR          35762 non-null  object\n",
      " 6   df              35762 non-null  object\n",
      "dtypes: int64(1), object(6)\n",
      "memory usage: 4.2+ MB\n"
     ]
    }
   ],
   "source": [
    "frames = [cov19,pj20]\n",
    "pj20_cov = pd.concat(frames)\n",
    "pj20_cov.info()"
   ]
  },
  {
   "cell_type": "code",
   "execution_count": 171,
   "metadata": {},
   "outputs": [
    {
     "data": {
      "text/plain": [
       "typ\n",
       "C      32430\n",
       "P    1579927\n",
       "Name: OCCUPANCY, dtype: int64"
      ]
     },
     "execution_count": 171,
     "metadata": {},
     "output_type": "execute_result"
    }
   ],
   "source": [
    "cd=pj20_cov.groupby(['typ'])['OCCUPANCY'].sum()\n",
    "cd"
   ]
  },
  {
   "cell_type": "code",
   "execution_count": 172,
   "metadata": {
    "scrolled": true
   },
   "outputs": [
    {
     "data": {
      "image/png": "[encoded data removed]",
      "text/plain": [
       "<Figure size 1080x720 with 1 Axes>"
      ]
     },
     "metadata": {
      "needs_background": "light"
     },
     "output_type": "display_data"
    }
   ],
   "source": [
    "cd.plot(kind='bar',stacked=False,figsize=(15,10));"
   ]
  },
  {
   "cell_type": "code",
   "execution_count": null,
   "metadata": {},
   "outputs": [],
   "source": []
  }
 ],
 "metadata": {
  "kernelspec": {
   "display_name": "Python 3",
   "language": "python",
   "name": "python3"
  },
  "language_info": {
   "codemirror_mode": {
    "name": "ipython",
    "version": 3
   },
   "file_extension": ".py",
   "mimetype": "text/x-python",
   "name": "python",
   "nbconvert_exporter": "python",
   "pygments_lexer": "ipython3",
   "version": "3.8.3"
  },
  "toc": {
   "base_numbering": 1,
   "nav_menu": {},
   "number_sections": false,
   "sideBar": true,
   "skip_h1_title": false,
   "title_cell": "Table of Contents",
   "title_sidebar": "Contents",
   "toc_cell": false,
   "toc_position": {},
   "toc_section_display": true,
   "toc_window_display": false
  }
 },
 "nbformat": 4,
 "nbformat_minor": 2
}
