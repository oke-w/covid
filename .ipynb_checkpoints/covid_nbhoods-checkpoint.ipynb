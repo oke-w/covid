{
 "cells": [
  {
   "cell_type": "code",
   "execution_count": null,
   "metadata": {
    "executionInfo": {
     "elapsed": 671,
     "status": "ok",
     "timestamp": 1606602086426,
     "user": {
      "displayName": "Wesley Oke",
      "photoUrl": "https://lh3.googleusercontent.com/a-/AOh14GjOGPxN8biLCGhPVIHe3D7qE2skvDMxE_aIkSCpfPg=s64",
      "userId": "09899504844355329451"
     },
     "user_tz": 300
    },
    "id": "u9Rg9sfs2h7Y"
   },
   "outputs": [],
   "source": [
    "import pandas as pd\n",
    "import numpy as np\n",
    "import matplotlib.pyplot as plt\n",
    "from sklearn.linear_model import LinearRegression\n",
    "import statsmodels.api as sm\n",
    "from sklearn.model_selection import train_test_split\n",
    "from sklearn.preprocessing import StandardScaler\n",
    "from sklearn.metrics import mean_squared_error, r2_score"
   ]
  },
  {
   "cell_type": "code",
   "execution_count": null,
   "metadata": {},
   "outputs": [],
   "source": [
    "# I left my question here to give you some reference:"
   ]
  },
  {
   "cell_type": "markdown",
   "metadata": {
    "id": "KebWLlcB2h7Z"
   },
   "source": [
    "Author: Wesley Oke\n",
    "\n",
    "# Question:\n",
    "## Can Machine Learning predict how neighbourhoods will be impacted by COVID?\n",
    "\n",
    "Approach:\n",
    "1. Calculate the total number of COVID cases for each neighbourhood.\n",
    "2. Identify or create appropriate neighbourhoood features that might impact the number of cases (density, wealth, age data, etc).\n",
    "3. Apply linear regression, to determine how the various neighbourhood features (risk factors) that impact the number of COVID in the neighbourhood.\n",
    "4. Apply neural networks and random forests to determine how well they can predict the number of cases in each neighbourhood."
   ]
  },
  {
   "cell_type": "markdown",
   "metadata": {},
   "source": [
    "## Load Toronto's COVID data"
   ]
  },
  {
   "cell_type": "code",
   "execution_count": null,
   "metadata": {},
   "outputs": [],
   "source": [
    "# you can go to https://github.com/oke-w/covid to see the data sets that are used below"
   ]
  },
  {
   "cell_type": "code",
   "execution_count": null,
   "metadata": {
    "executionInfo": {
     "elapsed": 1437,
     "status": "ok",
     "timestamp": 1606602087201,
     "user": {
      "displayName": "Wesley Oke",
      "photoUrl": "https://lh3.googleusercontent.com/a-/AOh14GjOGPxN8biLCGhPVIHe3D7qE2skvDMxE_aIkSCpfPg=s64",
      "userId": "09899504844355329451"
     },
     "user_tz": 300
    },
    "id": "OUI6TlQw2h7Z"
   },
   "outputs": [],
   "source": [
    "cov19 = pd.read_csv('https://raw.githubusercontent.com/oke-w/covid/main/COVID19%20cases.csv',\n",
    "                    true_values=['Yes'], false_values=['No'])\n",
    "cov19.rename(columns={'Neighbourhood Name':'Neighbourhood'}, inplace=True)"
   ]
  },
  {
   "cell_type": "markdown",
   "metadata": {
    "id": "zZCPN52J2h7d"
   },
   "source": [
    "Note, the nbhd source data Neighbourhood Names need to be edited as follows so they match the Neighbourhood data set:\n",
    "- \"Danforth East York\"\n",
    "- \"Weston-Pelham Park\"\n",
    "- \"Briar Hill-Belgravia\""
   ]
  },
  {
   "cell_type": "code",
   "execution_count": null,
   "metadata": {},
   "outputs": [],
   "source": [
    "cov19['Neighbourhood'] = cov19['Neighbourhood'].map(lambda x:\n",
    "                    \"Weston-Pelham Park\" if x==\"Weston-Pellam Park\" else x)\n",
    "cov19['Neighbourhood'] = cov19['Neighbourhood'].map(lambda x:\n",
    "                    \"Briar Hill-Belgravia\" if x==\"Briar Hill - Belgravia\" else x)\n",
    "cov19['Neighbourhood'] = cov19['Neighbourhood'].map(lambda x:\n",
    "                    \"Danforth East York\" if x==\"Danforth-East York\" else x)"
   ]
  },
  {
   "cell_type": "code",
   "execution_count": null,
   "metadata": {
    "colab": {
     "base_uri": "https://localhost:8080/"
    },
    "executionInfo": {
     "elapsed": 1436,
     "status": "ok",
     "timestamp": 1606602087207,
     "user": {
      "displayName": "Wesley Oke",
      "photoUrl": "https://lh3.googleusercontent.com/a-/AOh14GjOGPxN8biLCGhPVIHe3D7qE2skvDMxE_aIkSCpfPg=s64",
      "userId": "09899504844355329451"
     },
     "user_tz": 300
    },
    "id": "G-cvbDTL2h7Z",
    "outputId": "c333a1e9-31d7-4afb-fedd-12a8467de2ce"
   },
   "outputs": [],
   "source": [
    "cov19.info()"
   ]
  },
  {
   "cell_type": "code",
   "execution_count": null,
   "metadata": {
    "colab": {
     "base_uri": "https://localhost:8080/"
    },
    "executionInfo": {
     "elapsed": 1428,
     "status": "ok",
     "timestamp": 1606602087208,
     "user": {
      "displayName": "Wesley Oke",
      "photoUrl": "https://lh3.googleusercontent.com/a-/AOh14GjOGPxN8biLCGhPVIHe3D7qE2skvDMxE_aIkSCpfPg=s64",
      "userId": "09899504844355329451"
     },
     "user_tz": 300
    },
    "id": "YGrQK4rq2h7c",
    "outputId": "23cf715e-0490-4474-b78e-230b0affb860"
   },
   "outputs": [],
   "source": [
    "# create a Series of 140 Neighbourhoods with the count of COVID cases in each\n",
    "# drop any cases that don't have an identified Neighbourhood\n",
    "cov_count = cov19.dropna(subset=['Neighbourhood']).groupby('Neighbourhood')['_id'].count()"
   ]
  },
  {
   "cell_type": "code",
   "execution_count": null,
   "metadata": {
    "executionInfo": {
     "elapsed": 1418,
     "status": "ok",
     "timestamp": 1606602087210,
     "user": {
      "displayName": "Wesley Oke",
      "photoUrl": "https://lh3.googleusercontent.com/a-/AOh14GjOGPxN8biLCGhPVIHe3D7qE2skvDMxE_aIkSCpfPg=s64",
      "userId": "09899504844355329451"
     },
     "user_tz": 300
    },
    "id": "SoU54ASB2h7d"
   },
   "outputs": [],
   "source": [
    "# create a DF of 140 Neighbourhoods with COVID and hospitalized counts\n",
    "hosp_count = cov19.groupby('Neighbourhood').sum().loc[:,['Ever Hospitalized']]\n",
    "cov_counts = pd.concat([cov_count,hosp_count],axis=1)\n",
    "cov_counts.columns = 'cov_counts', 'hosp_counts'"
   ]
  },
  {
   "cell_type": "code",
   "execution_count": null,
   "metadata": {
    "colab": {
     "base_uri": "https://localhost:8080/",
     "height": 441
    },
    "executionInfo": {
     "elapsed": 1408,
     "status": "ok",
     "timestamp": 1606602087214,
     "user": {
      "displayName": "Wesley Oke",
      "photoUrl": "https://lh3.googleusercontent.com/a-/AOh14GjOGPxN8biLCGhPVIHe3D7qE2skvDMxE_aIkSCpfPg=s64",
      "userId": "09899504844355329451"
     },
     "user_tz": 300
    },
    "id": "K3kZZuzJ2h7d",
    "outputId": "bed51776-3418-487d-9c06-983b1c89672d"
   },
   "outputs": [],
   "source": [
    "cov_counts"
   ]
  },
  {
   "cell_type": "code",
   "execution_count": null,
   "metadata": {
    "colab": {
     "base_uri": "https://localhost:8080/"
    },
    "executionInfo": {
     "elapsed": 1399,
     "status": "ok",
     "timestamp": 1606602087215,
     "user": {
      "displayName": "Wesley Oke",
      "photoUrl": "https://lh3.googleusercontent.com/a-/AOh14GjOGPxN8biLCGhPVIHe3D7qE2skvDMxE_aIkSCpfPg=s64",
      "userId": "09899504844355329451"
     },
     "user_tz": 300
    },
    "id": "Z2__TXG72h7d",
    "outputId": "9f005346-7bac-40fa-854e-c85c00f9d20c"
   },
   "outputs": [],
   "source": [
    "cov_counts.info()"
   ]
  },
  {
   "cell_type": "markdown",
   "metadata": {
    "executionInfo": {
     "elapsed": 1542,
     "status": "ok",
     "timestamp": 1606602087381,
     "user": {
      "displayName": "Wesley Oke",
      "photoUrl": "https://lh3.googleusercontent.com/a-/AOh14GjOGPxN8biLCGhPVIHe3D7qE2skvDMxE_aIkSCpfPg=s64",
      "userId": "09899504844355329451"
     },
     "user_tz": 300
    },
    "id": "Pme9HGgZ2h7d"
   },
   "source": [
    "## Load Toronto 2016 Neighbourhood data"
   ]
  },
  {
   "cell_type": "code",
   "execution_count": null,
   "metadata": {
    "executionInfo": {
     "elapsed": 1538,
     "status": "ok",
     "timestamp": 1606602087382,
     "user": {
      "displayName": "Wesley Oke",
      "photoUrl": "https://lh3.googleusercontent.com/a-/AOh14GjOGPxN8biLCGhPVIHe3D7qE2skvDMxE_aIkSCpfPg=s64",
      "userId": "09899504844355329451"
     },
     "user_tz": 300
    },
    "id": "B79Z6R192h7d"
   },
   "outputs": [],
   "source": [
    "git = 'https://raw.githubusercontent.com/oke-w/covid/main/neighbourhood-profiles-2016-cleaned-short.csv'\n",
    "nbhd = pd.read_csv(git, header=[2], index_col=[0], thousands=',')\n",
    "nbhd.rename(columns={'Neighbourhood Name':'Neighbourhood'}, inplace=True)\n",
    "nbhd.rename(columns={'Population, 2016':'Population'}, inplace=True)"
   ]
  },
  {
   "cell_type": "code",
   "execution_count": null,
   "metadata": {
    "colab": {
     "base_uri": "https://localhost:8080/"
    },
    "executionInfo": {
     "elapsed": 1660,
     "status": "ok",
     "timestamp": 1606602087511,
     "user": {
      "displayName": "Wesley Oke",
      "photoUrl": "https://lh3.googleusercontent.com/a-/AOh14GjOGPxN8biLCGhPVIHe3D7qE2skvDMxE_aIkSCpfPg=s64",
      "userId": "09899504844355329451"
     },
     "user_tz": 300
    },
    "id": "4zT0wsOX2h7d",
    "outputId": "2870c1ea-fce6-4038-b31b-f0134d0f3e47"
   },
   "outputs": [],
   "source": [
    "nbhd.info()"
   ]
  },
  {
   "cell_type": "code",
   "execution_count": null,
   "metadata": {
    "colab": {
     "base_uri": "https://localhost:8080/",
     "height": 523
    },
    "executionInfo": {
     "elapsed": 1654,
     "status": "ok",
     "timestamp": 1606602087518,
     "user": {
      "displayName": "Wesley Oke",
      "photoUrl": "https://lh3.googleusercontent.com/a-/AOh14GjOGPxN8biLCGhPVIHe3D7qE2skvDMxE_aIkSCpfPg=s64",
      "userId": "09899504844355329451"
     },
     "user_tz": 300
    },
    "id": "3FPbt05L2h7e",
    "outputId": "7effc5a2-6ae6-40f3-f361-f6a0a4aeefaa"
   },
   "outputs": [],
   "source": [
    "nbhd.head()"
   ]
  },
  {
   "cell_type": "markdown",
   "metadata": {},
   "source": [
    "## Merge COVID & Neighbourhood data sets"
   ]
  },
  {
   "cell_type": "code",
   "execution_count": null,
   "metadata": {
    "executionInfo": {
     "elapsed": 1647,
     "status": "ok",
     "timestamp": 1606602087519,
     "user": {
      "displayName": "Wesley Oke",
      "photoUrl": "https://lh3.googleusercontent.com/a-/AOh14GjOGPxN8biLCGhPVIHe3D7qE2skvDMxE_aIkSCpfPg=s64",
      "userId": "09899504844355329451"
     },
     "user_tz": 300
    },
    "id": "7tEbA47P2h7e"
   },
   "outputs": [],
   "source": [
    "# join the covid and neighbourhood data together based on the neighbourhood name\n",
    "nbhd_cov = pd.merge(cov_counts, nbhd, left_index=True, right_on='Neighbourhood')"
   ]
  },
  {
   "cell_type": "code",
   "execution_count": null,
   "metadata": {},
   "outputs": [],
   "source": [
    "# all of the columns from 'Children (0-14 years)' onward are population counts\n",
    "# normalize these population-related data by population size of neighbourhood\n",
    "x1 = nbhd_cov.iloc[:,7:].apply(lambda x: x/nbhd_cov['Population'])\n",
    "nbhd_cov_n = pd.concat([nbhd_cov.iloc[:,:7], x1], axis=1)\n",
    "nbhd_cov_n # should have 140 rows (one for each neighbourhood in Toronto)"
   ]
  },
  {
   "cell_type": "code",
   "execution_count": null,
   "metadata": {},
   "outputs": [],
   "source": [
    "nbhd_cov_n.info()"
   ]
  },
  {
   "cell_type": "markdown",
   "metadata": {},
   "source": [
    "## Simple Linear Regression: Population"
   ]
  },
  {
   "cell_type": "code",
   "execution_count": null,
   "metadata": {
    "executionInfo": {
     "elapsed": 1747,
     "status": "ok",
     "timestamp": 1606602087635,
     "user": {
      "displayName": "Wesley Oke",
      "photoUrl": "https://lh3.googleusercontent.com/a-/AOh14GjOGPxN8biLCGhPVIHe3D7qE2skvDMxE_aIkSCpfPg=s64",
      "userId": "09899504844355329451"
     },
     "user_tz": 300
    },
    "id": "3o-RTN8n2h7e"
   },
   "outputs": [],
   "source": [
    "# carry out simple Linear Regression with single feature, neighbourhood \"Population, 2016\"\n",
    "X_OLS1 = nbhd_cov.Population.values.reshape(-1, 1) # convert single column to array as required for model\n",
    "y = nbhd_cov.cov_counts"
   ]
  },
  {
   "cell_type": "code",
   "execution_count": null,
   "metadata": {
    "colab": {
     "base_uri": "https://localhost:8080/"
    },
    "executionInfo": {
     "elapsed": 1740,
     "status": "ok",
     "timestamp": 1606602087636,
     "user": {
      "displayName": "Wesley Oke",
      "photoUrl": "https://lh3.googleusercontent.com/a-/AOh14GjOGPxN8biLCGhPVIHe3D7qE2skvDMxE_aIkSCpfPg=s64",
      "userId": "09899504844355329451"
     },
     "user_tz": 300
    },
    "id": "i7A_y7lx2h7e",
    "outputId": "347c4794-7091-41c3-fd75-cf18ba37ca5d"
   },
   "outputs": [],
   "source": [
    "# predict the number of COVID cases in Toronto neighbourhoods based only on Population trend line\n",
    "nbhdpop_cov_LR = LinearRegression().fit(X_OLS1, y)\n",
    "y_pred = nbhdpop_cov_LR.predict(X_OLS1)\n",
    "nbhdpop_cov_LR_mse = mean_squared_error(y, y_pred)\n",
    "nbhdpop_cov_LR_rmse = np.sqrt(nbhdpop_cov_LR_mse)\n",
    "print(nbhdpop_cov_LR_rmse)"
   ]
  },
  {
   "cell_type": "code",
   "execution_count": null,
   "metadata": {},
   "outputs": [],
   "source": [
    "# check the statistical validity of the model\n",
    "OLS_simple = sm.OLS(y, X_OLS1).fit()\n",
    "OLS_simple.summary()"
   ]
  },
  {
   "cell_type": "markdown",
   "metadata": {},
   "source": [
    "-----\n",
    "This result (P=0) indicates that Population is a statistically significant predictor of the number of COVID cases, as expected."
   ]
  },
  {
   "cell_type": "code",
   "execution_count": null,
   "metadata": {
    "colab": {
     "base_uri": "https://localhost:8080/",
     "height": 513
    },
    "executionInfo": {
     "elapsed": 2102,
     "status": "ok",
     "timestamp": 1606602088009,
     "user": {
      "displayName": "Wesley Oke",
      "photoUrl": "https://lh3.googleusercontent.com/a-/AOh14GjOGPxN8biLCGhPVIHe3D7qE2skvDMxE_aIkSCpfPg=s64",
      "userId": "09899504844355329451"
     },
     "user_tz": 300
    },
    "id": "JDho4U-82h7e",
    "outputId": "246ad94d-1cff-433e-e529-8094ac253170"
   },
   "outputs": [],
   "source": [
    "# plot each Neighborhood's COVID count against its population\n",
    "fig, ax = plt.subplots(figsize=(16,8))\n",
    "nbhd_cov.plot.scatter(\"Population\", \"cov_counts\", ax=ax,\n",
    "                      title='Count of COVID Cases vs. Population for each Toronto Neighbourhood');\n",
    "# plot linear regression trend line\n",
    "plt.plot(X_OLS1, nbhdpop_cov_LR.predict(X_OLS1), 'r-');"
   ]
  }
 ],
 "metadata": {
  "colab": {
   "collapsed_sections": [],
   "name": "covid_nbhood_ML_wes.ipynb",
   "provenance": []
  },
  "kernelspec": {
   "display_name": "Python 3",
   "language": "python",
   "name": "python3"
  },
  "language_info": {
   "codemirror_mode": {
    "name": "ipython",
    "version": 3
   },
   "file_extension": ".py",
   "mimetype": "text/x-python",
   "name": "python",
   "nbconvert_exporter": "python",
   "pygments_lexer": "ipython3",
   "version": "3.8.3"
  }
 },
 "nbformat": 4,
 "nbformat_minor": 4
}
