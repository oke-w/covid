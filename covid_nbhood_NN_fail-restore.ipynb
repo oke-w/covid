{
 "cells": [
  {
   "cell_type": "code",
   "execution_count": 1,
   "metadata": {
    "executionInfo": {
     "elapsed": 671,
     "status": "ok",
     "timestamp": 1606602086426,
     "user": {
      "displayName": "Wesley Oke",
      "photoUrl": "https://lh3.googleusercontent.com/a-/AOh14GjOGPxN8biLCGhPVIHe3D7qE2skvDMxE_aIkSCpfPg=s64",
      "userId": "09899504844355329451"
     },
     "user_tz": 300
    },
    "id": "u9Rg9sfs2h7Y"
   },
   "outputs": [],
   "source": [
    "import pandas as pd\n",
    "import numpy as np\n",
    "import matplotlib.pyplot as plt\n",
    "from sklearn.linear_model import LinearRegression\n",
    "from sklearn.model_selection import train_test_split\n",
    "from sklearn.preprocessing import StandardScaler\n",
    "from sklearn.model_selection import GridSearchCV\n",
    "from sklearn.neural_network import MLPRegressor\n",
    "from sklearn.metrics import mean_squared_error, r2_score"
   ]
  },
  {
   "cell_type": "markdown",
   "metadata": {
    "id": "KebWLlcB2h7Z"
   },
   "source": [
    "Author: Wesley Oke\n",
    "\n",
    "Question:\n",
    "Can Machine Learning predict how neighbourhoods will be impacted by COVID?\n",
    "\n",
    "Approach:\n",
    "1. Calculate the total number of COVID cases per 100,000 people for each neighbourhood.  Identify or create appropriate neighbourhoood features that might impact the number of cases (density, wealth, average age?, etc).  Apply correlation(?), linear regression, decision trees(?), random forests(?) etc. to determine how the various features (risk factors) may impact the COVID infection rate."
   ]
  },
  {
   "cell_type": "code",
   "execution_count": 2,
   "metadata": {
    "executionInfo": {
     "elapsed": 1437,
     "status": "ok",
     "timestamp": 1606602087201,
     "user": {
      "displayName": "Wesley Oke",
      "photoUrl": "https://lh3.googleusercontent.com/a-/AOh14GjOGPxN8biLCGhPVIHe3D7qE2skvDMxE_aIkSCpfPg=s64",
      "userId": "09899504844355329451"
     },
     "user_tz": 300
    },
    "id": "OUI6TlQw2h7Z"
   },
   "outputs": [],
   "source": [
    "cov19 = pd.read_csv('https://raw.githubusercontent.com/oke-w/covid/main/COVID19%20cases.csv', true_values=['Yes'], false_values=['No'])"
   ]
  },
  {
   "cell_type": "code",
   "execution_count": 3,
   "metadata": {
    "colab": {
     "base_uri": "https://localhost:8080/"
    },
    "executionInfo": {
     "elapsed": 1436,
     "status": "ok",
     "timestamp": 1606602087207,
     "user": {
      "displayName": "Wesley Oke",
      "photoUrl": "https://lh3.googleusercontent.com/a-/AOh14GjOGPxN8biLCGhPVIHe3D7qE2skvDMxE_aIkSCpfPg=s64",
      "userId": "09899504844355329451"
     },
     "user_tz": 300
    },
    "id": "G-cvbDTL2h7Z",
    "outputId": "c333a1e9-31d7-4afb-fedd-12a8467de2ce"
   },
   "outputs": [
    {
     "name": "stdout",
     "output_type": "stream",
     "text": [
      "<class 'pandas.core.frame.DataFrame'>\n",
      "RangeIndex: 38656 entries, 0 to 38655\n",
      "Data columns (total 18 columns):\n",
      " #   Column                  Non-Null Count  Dtype \n",
      "---  ------                  --------------  ----- \n",
      " 0   _id                     38656 non-null  int64 \n",
      " 1   Assigned_ID             38656 non-null  int64 \n",
      " 2   Outbreak Associated     38656 non-null  object\n",
      " 3   Age Group               38624 non-null  object\n",
      " 4   Neighbourhood Name      37649 non-null  object\n",
      " 5   FSA                     37826 non-null  object\n",
      " 6   Source of Infection     38656 non-null  object\n",
      " 7   Classification          38656 non-null  object\n",
      " 8   Episode Date            38656 non-null  object\n",
      " 9   Reported Date           38656 non-null  object\n",
      " 10  Client Gender           38656 non-null  object\n",
      " 11  Outcome                 38656 non-null  object\n",
      " 12  Currently Hospitalized  38656 non-null  bool  \n",
      " 13  Currently in ICU        38656 non-null  bool  \n",
      " 14  Currently Intubated     38656 non-null  bool  \n",
      " 15  Ever Hospitalized       38656 non-null  bool  \n",
      " 16  Ever in ICU             38656 non-null  bool  \n",
      " 17  Ever Intubated          38656 non-null  bool  \n",
      "dtypes: bool(6), int64(2), object(10)\n",
      "memory usage: 3.8+ MB\n"
     ]
    }
   ],
   "source": [
    "cov19.info()"
   ]
  },
  {
   "cell_type": "code",
   "execution_count": 4,
   "metadata": {
    "colab": {
     "base_uri": "https://localhost:8080/"
    },
    "executionInfo": {
     "elapsed": 1428,
     "status": "ok",
     "timestamp": 1606602087208,
     "user": {
      "displayName": "Wesley Oke",
      "photoUrl": "https://lh3.googleusercontent.com/a-/AOh14GjOGPxN8biLCGhPVIHe3D7qE2skvDMxE_aIkSCpfPg=s64",
      "userId": "09899504844355329451"
     },
     "user_tz": 300
    },
    "id": "YGrQK4rq2h7c",
    "outputId": "23cf715e-0490-4474-b78e-230b0affb860"
   },
   "outputs": [
    {
     "data": {
      "text/plain": [
       "pandas.core.series.Series"
      ]
     },
     "execution_count": 4,
     "metadata": {},
     "output_type": "execute_result"
    }
   ],
   "source": [
    "cov19.dropna(subset=['Neighbourhood Name'], inplace=True) # drop rows that don't have identified Neighbourhood\n",
    "cov_count = cov19.groupby('Neighbourhood Name')['_id'].count() # create a Series of neighbourhoods and case counts\n",
    "type(cov_count)"
   ]
  },
  {
   "cell_type": "code",
   "execution_count": 5,
   "metadata": {
    "executionInfo": {
     "elapsed": 1422,
     "status": "ok",
     "timestamp": 1606602087209,
     "user": {
      "displayName": "Wesley Oke",
      "photoUrl": "https://lh3.googleusercontent.com/a-/AOh14GjOGPxN8biLCGhPVIHe3D7qE2skvDMxE_aIkSCpfPg=s64",
      "userId": "09899504844355329451"
     },
     "user_tz": 300
    },
    "id": "s12szfxB2h7c"
   },
   "outputs": [],
   "source": [
    "# change the Yes/No values into 'True'/'' values and convert to boolean (True/False)\n",
    "#cov19.iloc[:,15:18] = cov19.iloc[:,15:18].applymap(lambda x: '' if x == 'No' else 'True').astype(bool)"
   ]
  },
  {
   "cell_type": "code",
   "execution_count": 6,
   "metadata": {
    "executionInfo": {
     "elapsed": 1418,
     "status": "ok",
     "timestamp": 1606602087210,
     "user": {
      "displayName": "Wesley Oke",
      "photoUrl": "https://lh3.googleusercontent.com/a-/AOh14GjOGPxN8biLCGhPVIHe3D7qE2skvDMxE_aIkSCpfPg=s64",
      "userId": "09899504844355329451"
     },
     "user_tz": 300
    },
    "id": "SoU54ASB2h7d"
   },
   "outputs": [],
   "source": [
    "# create a DF neighbourhoods with ID#, hospitalized, ICU, and intubated counts\n",
    "temp = cov19.groupby('Neighbourhood Name').sum().iloc[:,2:5]"
   ]
  },
  {
   "cell_type": "code",
   "execution_count": 7,
   "metadata": {
    "executionInfo": {
     "elapsed": 1415,
     "status": "ok",
     "timestamp": 1606602087213,
     "user": {
      "displayName": "Wesley Oke",
      "photoUrl": "https://lh3.googleusercontent.com/a-/AOh14GjOGPxN8biLCGhPVIHe3D7qE2skvDMxE_aIkSCpfPg=s64",
      "userId": "09899504844355329451"
     },
     "user_tz": 300
    },
    "id": "-1J--fZa2h7d"
   },
   "outputs": [],
   "source": [
    "cov_counts = pd.concat([cov_count,temp],axis=1)\n",
    "cov_counts.columns = 'cov_counts', 'hospitalized_counts', 'ICU_counts', 'intubated_counts'"
   ]
  },
  {
   "cell_type": "code",
   "execution_count": 8,
   "metadata": {
    "colab": {
     "base_uri": "https://localhost:8080/",
     "height": 441
    },
    "executionInfo": {
     "elapsed": 1408,
     "status": "ok",
     "timestamp": 1606602087214,
     "user": {
      "displayName": "Wesley Oke",
      "photoUrl": "https://lh3.googleusercontent.com/a-/AOh14GjOGPxN8biLCGhPVIHe3D7qE2skvDMxE_aIkSCpfPg=s64",
      "userId": "09899504844355329451"
     },
     "user_tz": 300
    },
    "id": "K3kZZuzJ2h7d",
    "outputId": "bed51776-3418-487d-9c06-983b1c89672d"
   },
   "outputs": [
    {
     "data": {
      "text/html": [
       "<div>\n",
       "<style scoped>\n",
       "    .dataframe tbody tr th:only-of-type {\n",
       "        vertical-align: middle;\n",
       "    }\n",
       "\n",
       "    .dataframe tbody tr th {\n",
       "        vertical-align: top;\n",
       "    }\n",
       "\n",
       "    .dataframe thead th {\n",
       "        text-align: right;\n",
       "    }\n",
       "</style>\n",
       "<table border=\"1\" class=\"dataframe\">\n",
       "  <thead>\n",
       "    <tr style=\"text-align: right;\">\n",
       "      <th></th>\n",
       "      <th>cov_counts</th>\n",
       "      <th>hospitalized_counts</th>\n",
       "      <th>ICU_counts</th>\n",
       "      <th>intubated_counts</th>\n",
       "    </tr>\n",
       "    <tr>\n",
       "      <th>Neighbourhood Name</th>\n",
       "      <th></th>\n",
       "      <th></th>\n",
       "      <th></th>\n",
       "      <th></th>\n",
       "    </tr>\n",
       "  </thead>\n",
       "  <tbody>\n",
       "    <tr>\n",
       "      <th>Agincourt North</th>\n",
       "      <td>292</td>\n",
       "      <td>1</td>\n",
       "      <td>0</td>\n",
       "      <td>0</td>\n",
       "    </tr>\n",
       "    <tr>\n",
       "      <th>Agincourt South-Malvern West</th>\n",
       "      <td>204</td>\n",
       "      <td>1</td>\n",
       "      <td>0</td>\n",
       "      <td>0</td>\n",
       "    </tr>\n",
       "    <tr>\n",
       "      <th>Alderwood</th>\n",
       "      <td>124</td>\n",
       "      <td>0</td>\n",
       "      <td>0</td>\n",
       "      <td>0</td>\n",
       "    </tr>\n",
       "    <tr>\n",
       "      <th>Annex</th>\n",
       "      <td>278</td>\n",
       "      <td>1</td>\n",
       "      <td>1</td>\n",
       "      <td>1</td>\n",
       "    </tr>\n",
       "    <tr>\n",
       "      <th>Banbury-Don Mills</th>\n",
       "      <td>160</td>\n",
       "      <td>2</td>\n",
       "      <td>0</td>\n",
       "      <td>0</td>\n",
       "    </tr>\n",
       "    <tr>\n",
       "      <th>...</th>\n",
       "      <td>...</td>\n",
       "      <td>...</td>\n",
       "      <td>...</td>\n",
       "      <td>...</td>\n",
       "    </tr>\n",
       "    <tr>\n",
       "      <th>Wychwood</th>\n",
       "      <td>141</td>\n",
       "      <td>1</td>\n",
       "      <td>1</td>\n",
       "      <td>0</td>\n",
       "    </tr>\n",
       "    <tr>\n",
       "      <th>Yonge-Eglinton</th>\n",
       "      <td>62</td>\n",
       "      <td>0</td>\n",
       "      <td>0</td>\n",
       "      <td>0</td>\n",
       "    </tr>\n",
       "    <tr>\n",
       "      <th>Yonge-St.Clair</th>\n",
       "      <td>60</td>\n",
       "      <td>0</td>\n",
       "      <td>0</td>\n",
       "      <td>0</td>\n",
       "    </tr>\n",
       "    <tr>\n",
       "      <th>York University Heights</th>\n",
       "      <td>864</td>\n",
       "      <td>0</td>\n",
       "      <td>0</td>\n",
       "      <td>0</td>\n",
       "    </tr>\n",
       "    <tr>\n",
       "      <th>Yorkdale-Glen Park</th>\n",
       "      <td>404</td>\n",
       "      <td>1</td>\n",
       "      <td>1</td>\n",
       "      <td>1</td>\n",
       "    </tr>\n",
       "  </tbody>\n",
       "</table>\n",
       "<p>140 rows × 4 columns</p>\n",
       "</div>"
      ],
      "text/plain": [
       "                              cov_counts  hospitalized_counts  ICU_counts  \\\n",
       "Neighbourhood Name                                                          \n",
       "Agincourt North                      292                    1           0   \n",
       "Agincourt South-Malvern West         204                    1           0   \n",
       "Alderwood                            124                    0           0   \n",
       "Annex                                278                    1           1   \n",
       "Banbury-Don Mills                    160                    2           0   \n",
       "...                                  ...                  ...         ...   \n",
       "Wychwood                             141                    1           1   \n",
       "Yonge-Eglinton                        62                    0           0   \n",
       "Yonge-St.Clair                        60                    0           0   \n",
       "York University Heights              864                    0           0   \n",
       "Yorkdale-Glen Park                   404                    1           1   \n",
       "\n",
       "                              intubated_counts  \n",
       "Neighbourhood Name                              \n",
       "Agincourt North                              0  \n",
       "Agincourt South-Malvern West                 0  \n",
       "Alderwood                                    0  \n",
       "Annex                                        1  \n",
       "Banbury-Don Mills                            0  \n",
       "...                                        ...  \n",
       "Wychwood                                     0  \n",
       "Yonge-Eglinton                               0  \n",
       "Yonge-St.Clair                               0  \n",
       "York University Heights                      0  \n",
       "Yorkdale-Glen Park                           1  \n",
       "\n",
       "[140 rows x 4 columns]"
      ]
     },
     "execution_count": 8,
     "metadata": {},
     "output_type": "execute_result"
    }
   ],
   "source": [
    "cov_counts"
   ]
  },
  {
   "cell_type": "code",
   "execution_count": 9,
   "metadata": {
    "colab": {
     "base_uri": "https://localhost:8080/"
    },
    "executionInfo": {
     "elapsed": 1399,
     "status": "ok",
     "timestamp": 1606602087215,
     "user": {
      "displayName": "Wesley Oke",
      "photoUrl": "https://lh3.googleusercontent.com/a-/AOh14GjOGPxN8biLCGhPVIHe3D7qE2skvDMxE_aIkSCpfPg=s64",
      "userId": "09899504844355329451"
     },
     "user_tz": 300
    },
    "id": "Z2__TXG72h7d",
    "outputId": "9f005346-7bac-40fa-854e-c85c00f9d20c"
   },
   "outputs": [
    {
     "name": "stdout",
     "output_type": "stream",
     "text": [
      "<class 'pandas.core.frame.DataFrame'>\n",
      "Index: 140 entries, Agincourt North to Yorkdale-Glen Park\n",
      "Data columns (total 4 columns):\n",
      " #   Column               Non-Null Count  Dtype\n",
      "---  ------               --------------  -----\n",
      " 0   cov_counts           140 non-null    int64\n",
      " 1   hospitalized_counts  140 non-null    int64\n",
      " 2   ICU_counts           140 non-null    int64\n",
      " 3   intubated_counts     140 non-null    int64\n",
      "dtypes: int64(4)\n",
      "memory usage: 5.5+ KB\n"
     ]
    }
   ],
   "source": [
    "cov_counts.info()"
   ]
  },
  {
   "cell_type": "code",
   "execution_count": null,
   "metadata": {
    "executionInfo": {
     "elapsed": 1392,
     "status": "ok",
     "timestamp": 1606602087216,
     "user": {
      "displayName": "Wesley Oke",
      "photoUrl": "https://lh3.googleusercontent.com/a-/AOh14GjOGPxN8biLCGhPVIHe3D7qE2skvDMxE_aIkSCpfPg=s64",
      "userId": "09899504844355329451"
     },
     "user_tz": 300
    },
    "id": "_lDw3h8t2h7d"
   },
   "outputs": [],
   "source": []
  },
  {
   "cell_type": "code",
   "execution_count": null,
   "metadata": {
    "executionInfo": {
     "elapsed": 1549,
     "status": "ok",
     "timestamp": 1606602087378,
     "user": {
      "displayName": "Wesley Oke",
      "photoUrl": "https://lh3.googleusercontent.com/a-/AOh14GjOGPxN8biLCGhPVIHe3D7qE2skvDMxE_aIkSCpfPg=s64",
      "userId": "09899504844355329451"
     },
     "user_tz": 300
    },
    "id": "0VXP566l2h7d"
   },
   "outputs": [],
   "source": []
  },
  {
   "cell_type": "code",
   "execution_count": null,
   "metadata": {
    "executionInfo": {
     "elapsed": 1546,
     "status": "ok",
     "timestamp": 1606602087380,
     "user": {
      "displayName": "Wesley Oke",
      "photoUrl": "https://lh3.googleusercontent.com/a-/AOh14GjOGPxN8biLCGhPVIHe3D7qE2skvDMxE_aIkSCpfPg=s64",
      "userId": "09899504844355329451"
     },
     "user_tz": 300
    },
    "id": "9yOO3nzR2h7d"
   },
   "outputs": [],
   "source": []
  },
  {
   "cell_type": "code",
   "execution_count": null,
   "metadata": {
    "executionInfo": {
     "elapsed": 1542,
     "status": "ok",
     "timestamp": 1606602087381,
     "user": {
      "displayName": "Wesley Oke",
      "photoUrl": "https://lh3.googleusercontent.com/a-/AOh14GjOGPxN8biLCGhPVIHe3D7qE2skvDMxE_aIkSCpfPg=s64",
      "userId": "09899504844355329451"
     },
     "user_tz": 300
    },
    "id": "Pme9HGgZ2h7d"
   },
   "outputs": [],
   "source": []
  },
  {
   "cell_type": "markdown",
   "metadata": {
    "id": "zZCPN52J2h7d"
   },
   "source": [
    "Note, the nbhd source data Neighbourhood Names were edited as follows:\n",
    "- Nbhd 59: \"Danforth-East York\"\n",
    "- Covid: \"Weston-Pelham Park\"\n",
    "- Covid: \"Briar Hill-Belgravia\""
   ]
  },
  {
   "cell_type": "code",
   "execution_count": 10,
   "metadata": {
    "executionInfo": {
     "elapsed": 1538,
     "status": "ok",
     "timestamp": 1606602087382,
     "user": {
      "displayName": "Wesley Oke",
      "photoUrl": "https://lh3.googleusercontent.com/a-/AOh14GjOGPxN8biLCGhPVIHe3D7qE2skvDMxE_aIkSCpfPg=s64",
      "userId": "09899504844355329451"
     },
     "user_tz": 300
    },
    "id": "B79Z6R192h7d"
   },
   "outputs": [],
   "source": [
    "git = 'https://raw.githubusercontent.com/oke-w/covid/main/neighbourhood-profiles-2016-cleaned-short.csv'\n",
    "nbhd = pd.read_csv(git, header=[2], index_col=[0], thousands=',')"
   ]
  },
  {
   "cell_type": "code",
   "execution_count": 11,
   "metadata": {
    "colab": {
     "base_uri": "https://localhost:8080/"
    },
    "executionInfo": {
     "elapsed": 1660,
     "status": "ok",
     "timestamp": 1606602087511,
     "user": {
      "displayName": "Wesley Oke",
      "photoUrl": "https://lh3.googleusercontent.com/a-/AOh14GjOGPxN8biLCGhPVIHe3D7qE2skvDMxE_aIkSCpfPg=s64",
      "userId": "09899504844355329451"
     },
     "user_tz": 300
    },
    "id": "4zT0wsOX2h7d",
    "outputId": "2870c1ea-fce6-4038-b31b-f0134d0f3e47"
   },
   "outputs": [
    {
     "name": "stdout",
     "output_type": "stream",
     "text": [
      "<class 'pandas.core.frame.DataFrame'>\n",
      "Int64Index: 141 entries, 0 to 140\n",
      "Data columns (total 39 columns):\n",
      " #   Column                                                               Non-Null Count  Dtype  \n",
      "---  ------                                                               --------------  -----  \n",
      " 0   Neighbourhood Name                                                   141 non-null    object \n",
      " 1   Population, 2016                                                     141 non-null    int64  \n",
      " 2   Population density per square kilometre                              141 non-null    int64  \n",
      " 3    Average household size                                              141 non-null    float64\n",
      " 4     Average after-tax income of households in 2015 ($)                 141 non-null    int64  \n",
      " 5   Children (0-14 years)                                                141 non-null    int64  \n",
      " 6   Youth (15-24 years)                                                  141 non-null    int64  \n",
      " 7   Working Age (25-54 years)                                            141 non-null    int64  \n",
      " 8   Pre-retirement (55-64 years)                                         141 non-null    int64  \n",
      " 9   Seniors (65+ years)                                                  141 non-null    int64  \n",
      " 10  Older Seniors (85+ years)                                            141 non-null    int64  \n",
      " 11    Single-detached house                                              141 non-null    int64  \n",
      " 12    Apartment in a building that has five or more storeys              141 non-null    int64  \n",
      " 13    Other attached dwelling                                            141 non-null    int64  \n",
      " 14    1 person                                                           141 non-null    int64  \n",
      " 15    2 persons                                                          141 non-null    int64  \n",
      " 16    3 persons                                                          141 non-null    int64  \n",
      " 17    4 persons                                                          141 non-null    int64  \n",
      " 18    5 or more persons                                                  141 non-null    int64  \n",
      " 19    In the bottom half of the distribution                             141 non-null    int64  \n",
      " 20  In low income based on the Low-income cut-offs, after tax (LICO-AT)  141 non-null    int64  \n",
      " 21    Under $5,000                                                       141 non-null    int64  \n",
      " 22    $5,000 to $9,999                                                   141 non-null    int64  \n",
      " 23    $10,000 to $14,999                                                 141 non-null    int64  \n",
      " 24    $15,000 to $19,999                                                 141 non-null    int64  \n",
      " 25    $20,000 to $24,999                                                 141 non-null    int64  \n",
      " 26    $25,000 to $29,999                                                 141 non-null    int64  \n",
      " 27    $30,000 to $34,999                                                 141 non-null    int64  \n",
      " 28    $35,000 to $39,999                                                 141 non-null    int64  \n",
      " 29    $40,000 to $44,999                                                 141 non-null    int64  \n",
      " 30    $45,000 to $49,999                                                 141 non-null    int64  \n",
      " 31    $50,000 to $59,999                                                 141 non-null    int64  \n",
      " 32    $60,000 to $69,999                                                 141 non-null    int64  \n",
      " 33    $70,000 to $79,999                                                 141 non-null    int64  \n",
      " 34    $80,000 to $89,999                                                 141 non-null    int64  \n",
      " 35    $90,000 to $99,999                                                 141 non-null    int64  \n",
      " 36      $100,000 to $124,999                                             141 non-null    int64  \n",
      " 37      $125,000 to $149,999                                             141 non-null    int64  \n",
      " 38      $150,000 and over                                                141 non-null    int64  \n",
      "dtypes: float64(1), int64(37), object(1)\n",
      "memory usage: 44.1+ KB\n"
     ]
    }
   ],
   "source": [
    "nbhd.info()"
   ]
  },
  {
   "cell_type": "code",
   "execution_count": 12,
   "metadata": {
    "colab": {
     "base_uri": "https://localhost:8080/",
     "height": 523
    },
    "executionInfo": {
     "elapsed": 1654,
     "status": "ok",
     "timestamp": 1606602087518,
     "user": {
      "displayName": "Wesley Oke",
      "photoUrl": "https://lh3.googleusercontent.com/a-/AOh14GjOGPxN8biLCGhPVIHe3D7qE2skvDMxE_aIkSCpfPg=s64",
      "userId": "09899504844355329451"
     },
     "user_tz": 300
    },
    "id": "3FPbt05L2h7e",
    "outputId": "7effc5a2-6ae6-40f3-f361-f6a0a4aeefaa"
   },
   "outputs": [
    {
     "data": {
      "text/html": [
       "<div>\n",
       "<style scoped>\n",
       "    .dataframe tbody tr th:only-of-type {\n",
       "        vertical-align: middle;\n",
       "    }\n",
       "\n",
       "    .dataframe tbody tr th {\n",
       "        vertical-align: top;\n",
       "    }\n",
       "\n",
       "    .dataframe thead th {\n",
       "        text-align: right;\n",
       "    }\n",
       "</style>\n",
       "<table border=\"1\" class=\"dataframe\">\n",
       "  <thead>\n",
       "    <tr style=\"text-align: right;\">\n",
       "      <th></th>\n",
       "      <th>Neighbourhood Name</th>\n",
       "      <th>Population, 2016</th>\n",
       "      <th>Population density per square kilometre</th>\n",
       "      <th>Average household size</th>\n",
       "      <th>Average after-tax income of households in 2015 ($)</th>\n",
       "      <th>Children (0-14 years)</th>\n",
       "      <th>Youth (15-24 years)</th>\n",
       "      <th>Working Age (25-54 years)</th>\n",
       "      <th>Pre-retirement (55-64 years)</th>\n",
       "      <th>Seniors (65+ years)</th>\n",
       "      <th>...</th>\n",
       "      <th>$40,000 to $44,999</th>\n",
       "      <th>$45,000 to $49,999</th>\n",
       "      <th>$50,000 to $59,999</th>\n",
       "      <th>$60,000 to $69,999</th>\n",
       "      <th>$70,000 to $79,999</th>\n",
       "      <th>$80,000 to $89,999</th>\n",
       "      <th>$90,000 to $99,999</th>\n",
       "      <th>$100,000 to $124,999</th>\n",
       "      <th>$125,000 to $149,999</th>\n",
       "      <th>$150,000 and over</th>\n",
       "    </tr>\n",
       "    <tr>\n",
       "      <th>Characteristic</th>\n",
       "      <th></th>\n",
       "      <th></th>\n",
       "      <th></th>\n",
       "      <th></th>\n",
       "      <th></th>\n",
       "      <th></th>\n",
       "      <th></th>\n",
       "      <th></th>\n",
       "      <th></th>\n",
       "      <th></th>\n",
       "      <th></th>\n",
       "      <th></th>\n",
       "      <th></th>\n",
       "      <th></th>\n",
       "      <th></th>\n",
       "      <th></th>\n",
       "      <th></th>\n",
       "      <th></th>\n",
       "      <th></th>\n",
       "      <th></th>\n",
       "      <th></th>\n",
       "    </tr>\n",
       "  </thead>\n",
       "  <tbody>\n",
       "    <tr>\n",
       "      <th>0</th>\n",
       "      <td>City of Toronto</td>\n",
       "      <td>2731571</td>\n",
       "      <td>4334</td>\n",
       "      <td>2.42</td>\n",
       "      <td>81495</td>\n",
       "      <td>398135</td>\n",
       "      <td>340270</td>\n",
       "      <td>1229555</td>\n",
       "      <td>336670</td>\n",
       "      <td>426945</td>\n",
       "      <td>...</td>\n",
       "      <td>55770</td>\n",
       "      <td>53385</td>\n",
       "      <td>98910</td>\n",
       "      <td>86755</td>\n",
       "      <td>75120</td>\n",
       "      <td>63360</td>\n",
       "      <td>51570</td>\n",
       "      <td>94020</td>\n",
       "      <td>58260</td>\n",
       "      <td>111185</td>\n",
       "    </tr>\n",
       "    <tr>\n",
       "      <th>1</th>\n",
       "      <td>West Humber-Clairville</td>\n",
       "      <td>33312</td>\n",
       "      <td>1117</td>\n",
       "      <td>3.20</td>\n",
       "      <td>426156</td>\n",
       "      <td>5060</td>\n",
       "      <td>5445</td>\n",
       "      <td>13845</td>\n",
       "      <td>3990</td>\n",
       "      <td>4980</td>\n",
       "      <td>...</td>\n",
       "      <td>495</td>\n",
       "      <td>545</td>\n",
       "      <td>1005</td>\n",
       "      <td>1045</td>\n",
       "      <td>815</td>\n",
       "      <td>760</td>\n",
       "      <td>595</td>\n",
       "      <td>1150</td>\n",
       "      <td>645</td>\n",
       "      <td>565</td>\n",
       "    </tr>\n",
       "    <tr>\n",
       "      <th>2</th>\n",
       "      <td>Mount Olive-Silverstone-Jamestown</td>\n",
       "      <td>32954</td>\n",
       "      <td>7291</td>\n",
       "      <td>3.32</td>\n",
       "      <td>360648</td>\n",
       "      <td>7090</td>\n",
       "      <td>5240</td>\n",
       "      <td>13615</td>\n",
       "      <td>3475</td>\n",
       "      <td>3560</td>\n",
       "      <td>...</td>\n",
       "      <td>670</td>\n",
       "      <td>660</td>\n",
       "      <td>1160</td>\n",
       "      <td>980</td>\n",
       "      <td>765</td>\n",
       "      <td>585</td>\n",
       "      <td>445</td>\n",
       "      <td>690</td>\n",
       "      <td>300</td>\n",
       "      <td>225</td>\n",
       "    </tr>\n",
       "    <tr>\n",
       "      <th>3</th>\n",
       "      <td>Thistletown-Beaumond Heights</td>\n",
       "      <td>10360</td>\n",
       "      <td>3130</td>\n",
       "      <td>3.09</td>\n",
       "      <td>140050</td>\n",
       "      <td>1730</td>\n",
       "      <td>1410</td>\n",
       "      <td>4160</td>\n",
       "      <td>1195</td>\n",
       "      <td>1880</td>\n",
       "      <td>...</td>\n",
       "      <td>185</td>\n",
       "      <td>170</td>\n",
       "      <td>340</td>\n",
       "      <td>290</td>\n",
       "      <td>240</td>\n",
       "      <td>200</td>\n",
       "      <td>185</td>\n",
       "      <td>340</td>\n",
       "      <td>190</td>\n",
       "      <td>190</td>\n",
       "    </tr>\n",
       "    <tr>\n",
       "      <th>4</th>\n",
       "      <td>Rexdale-Kipling</td>\n",
       "      <td>10529</td>\n",
       "      <td>4229</td>\n",
       "      <td>2.69</td>\n",
       "      <td>134305</td>\n",
       "      <td>1640</td>\n",
       "      <td>1355</td>\n",
       "      <td>4300</td>\n",
       "      <td>1520</td>\n",
       "      <td>1730</td>\n",
       "      <td>...</td>\n",
       "      <td>195</td>\n",
       "      <td>210</td>\n",
       "      <td>360</td>\n",
       "      <td>305</td>\n",
       "      <td>270</td>\n",
       "      <td>270</td>\n",
       "      <td>220</td>\n",
       "      <td>395</td>\n",
       "      <td>180</td>\n",
       "      <td>170</td>\n",
       "    </tr>\n",
       "  </tbody>\n",
       "</table>\n",
       "<p>5 rows × 39 columns</p>\n",
       "</div>"
      ],
      "text/plain": [
       "                               Neighbourhood Name  Population, 2016  \\\n",
       "Characteristic                                                        \n",
       "0                                 City of Toronto           2731571   \n",
       "1                          West Humber-Clairville             33312   \n",
       "2               Mount Olive-Silverstone-Jamestown             32954   \n",
       "3                    Thistletown-Beaumond Heights             10360   \n",
       "4                                 Rexdale-Kipling             10529   \n",
       "\n",
       "                Population density per square kilometre  \\\n",
       "Characteristic                                            \n",
       "0                                                  4334   \n",
       "1                                                  1117   \n",
       "2                                                  7291   \n",
       "3                                                  3130   \n",
       "4                                                  4229   \n",
       "\n",
       "                 Average household size  \\\n",
       "Characteristic                            \n",
       "0                                  2.42   \n",
       "1                                  3.20   \n",
       "2                                  3.32   \n",
       "3                                  3.09   \n",
       "4                                  2.69   \n",
       "\n",
       "                  Average after-tax income of households in 2015 ($)  \\\n",
       "Characteristic                                                         \n",
       "0                                                           81495      \n",
       "1                                                          426156      \n",
       "2                                                          360648      \n",
       "3                                                          140050      \n",
       "4                                                          134305      \n",
       "\n",
       "                Children (0-14 years)  Youth (15-24 years)  \\\n",
       "Characteristic                                               \n",
       "0                              398135               340270   \n",
       "1                                5060                 5445   \n",
       "2                                7090                 5240   \n",
       "3                                1730                 1410   \n",
       "4                                1640                 1355   \n",
       "\n",
       "                Working Age (25-54 years)  Pre-retirement (55-64 years)  \\\n",
       "Characteristic                                                            \n",
       "0                                 1229555                        336670   \n",
       "1                                   13845                          3990   \n",
       "2                                   13615                          3475   \n",
       "3                                    4160                          1195   \n",
       "4                                    4300                          1520   \n",
       "\n",
       "                Seniors (65+ years)  ...    $40,000 to $44,999  \\\n",
       "Characteristic                       ...                         \n",
       "0                            426945  ...                 55770   \n",
       "1                              4980  ...                   495   \n",
       "2                              3560  ...                   670   \n",
       "3                              1880  ...                   185   \n",
       "4                              1730  ...                   195   \n",
       "\n",
       "                  $45,000 to $49,999    $50,000 to $59,999  \\\n",
       "Characteristic                                               \n",
       "0                              53385                 98910   \n",
       "1                                545                  1005   \n",
       "2                                660                  1160   \n",
       "3                                170                   340   \n",
       "4                                210                   360   \n",
       "\n",
       "                  $60,000 to $69,999    $70,000 to $79,999  \\\n",
       "Characteristic                                               \n",
       "0                              86755                 75120   \n",
       "1                               1045                   815   \n",
       "2                                980                   765   \n",
       "3                                290                   240   \n",
       "4                                305                   270   \n",
       "\n",
       "                  $80,000 to $89,999    $90,000 to $99,999  \\\n",
       "Characteristic                                               \n",
       "0                              63360                 51570   \n",
       "1                                760                   595   \n",
       "2                                585                   445   \n",
       "3                                200                   185   \n",
       "4                                270                   220   \n",
       "\n",
       "                    $100,000 to $124,999      $125,000 to $149,999  \\\n",
       "Characteristic                                                       \n",
       "0                                  94020                     58260   \n",
       "1                                   1150                       645   \n",
       "2                                    690                       300   \n",
       "3                                    340                       190   \n",
       "4                                    395                       180   \n",
       "\n",
       "                    $150,000 and over  \n",
       "Characteristic                         \n",
       "0                              111185  \n",
       "1                                 565  \n",
       "2                                 225  \n",
       "3                                 190  \n",
       "4                                 170  \n",
       "\n",
       "[5 rows x 39 columns]"
      ]
     },
     "execution_count": 12,
     "metadata": {},
     "output_type": "execute_result"
    }
   ],
   "source": [
    "nbhd.head()"
   ]
  },
  {
   "cell_type": "code",
   "execution_count": 13,
   "metadata": {
    "executionInfo": {
     "elapsed": 1647,
     "status": "ok",
     "timestamp": 1606602087519,
     "user": {
      "displayName": "Wesley Oke",
      "photoUrl": "https://lh3.googleusercontent.com/a-/AOh14GjOGPxN8biLCGhPVIHe3D7qE2skvDMxE_aIkSCpfPg=s64",
      "userId": "09899504844355329451"
     },
     "user_tz": 300
    },
    "id": "7tEbA47P2h7e"
   },
   "outputs": [],
   "source": [
    "#ind = 'Neighbourhood Information', 'Neighbourhood Information', 'Neighbourhood Name')\n",
    "nbhd_cov = pd.merge(cov_counts, nbhd, left_index=True, right_on='Neighbourhood Name')"
   ]
  },
  {
   "cell_type": "code",
   "execution_count": 14,
   "metadata": {
    "colab": {
     "base_uri": "https://localhost:8080/",
     "height": 734
    },
    "executionInfo": {
     "elapsed": 1754,
     "status": "ok",
     "timestamp": 1606602087633,
     "user": {
      "displayName": "Wesley Oke",
      "photoUrl": "https://lh3.googleusercontent.com/a-/AOh14GjOGPxN8biLCGhPVIHe3D7qE2skvDMxE_aIkSCpfPg=s64",
      "userId": "09899504844355329451"
     },
     "user_tz": 300
    },
    "id": "F-h8kKLd2h7e",
    "outputId": "8efe87af-d8b6-4c6c-9501-097be6e6b46b"
   },
   "outputs": [
    {
     "data": {
      "text/html": [
       "<div>\n",
       "<style scoped>\n",
       "    .dataframe tbody tr th:only-of-type {\n",
       "        vertical-align: middle;\n",
       "    }\n",
       "\n",
       "    .dataframe tbody tr th {\n",
       "        vertical-align: top;\n",
       "    }\n",
       "\n",
       "    .dataframe thead th {\n",
       "        text-align: right;\n",
       "    }\n",
       "</style>\n",
       "<table border=\"1\" class=\"dataframe\">\n",
       "  <thead>\n",
       "    <tr style=\"text-align: right;\">\n",
       "      <th></th>\n",
       "      <th>cov_counts</th>\n",
       "      <th>hospitalized_counts</th>\n",
       "      <th>ICU_counts</th>\n",
       "      <th>intubated_counts</th>\n",
       "      <th>Neighbourhood Name</th>\n",
       "      <th>Population, 2016</th>\n",
       "      <th>Population density per square kilometre</th>\n",
       "      <th>Average household size</th>\n",
       "      <th>Average after-tax income of households in 2015 ($)</th>\n",
       "      <th>Children (0-14 years)</th>\n",
       "      <th>...</th>\n",
       "      <th>$40,000 to $44,999</th>\n",
       "      <th>$45,000 to $49,999</th>\n",
       "      <th>$50,000 to $59,999</th>\n",
       "      <th>$60,000 to $69,999</th>\n",
       "      <th>$70,000 to $79,999</th>\n",
       "      <th>$80,000 to $89,999</th>\n",
       "      <th>$90,000 to $99,999</th>\n",
       "      <th>$100,000 to $124,999</th>\n",
       "      <th>$125,000 to $149,999</th>\n",
       "      <th>$150,000 and over</th>\n",
       "    </tr>\n",
       "    <tr>\n",
       "      <th>Characteristic</th>\n",
       "      <th></th>\n",
       "      <th></th>\n",
       "      <th></th>\n",
       "      <th></th>\n",
       "      <th></th>\n",
       "      <th></th>\n",
       "      <th></th>\n",
       "      <th></th>\n",
       "      <th></th>\n",
       "      <th></th>\n",
       "      <th></th>\n",
       "      <th></th>\n",
       "      <th></th>\n",
       "      <th></th>\n",
       "      <th></th>\n",
       "      <th></th>\n",
       "      <th></th>\n",
       "      <th></th>\n",
       "      <th></th>\n",
       "      <th></th>\n",
       "      <th></th>\n",
       "    </tr>\n",
       "  </thead>\n",
       "  <tbody>\n",
       "    <tr>\n",
       "      <th>129</th>\n",
       "      <td>292</td>\n",
       "      <td>1</td>\n",
       "      <td>0</td>\n",
       "      <td>0</td>\n",
       "      <td>Agincourt North</td>\n",
       "      <td>29113</td>\n",
       "      <td>3929</td>\n",
       "      <td>3.16</td>\n",
       "      <td>427037</td>\n",
       "      <td>3840</td>\n",
       "      <td>...</td>\n",
       "      <td>455</td>\n",
       "      <td>475</td>\n",
       "      <td>930</td>\n",
       "      <td>755</td>\n",
       "      <td>695</td>\n",
       "      <td>640</td>\n",
       "      <td>500</td>\n",
       "      <td>935</td>\n",
       "      <td>465</td>\n",
       "      <td>510</td>\n",
       "    </tr>\n",
       "    <tr>\n",
       "      <th>128</th>\n",
       "      <td>204</td>\n",
       "      <td>1</td>\n",
       "      <td>0</td>\n",
       "      <td>0</td>\n",
       "      <td>Agincourt South-Malvern West</td>\n",
       "      <td>23757</td>\n",
       "      <td>3034</td>\n",
       "      <td>2.88</td>\n",
       "      <td>278390</td>\n",
       "      <td>3075</td>\n",
       "      <td>...</td>\n",
       "      <td>470</td>\n",
       "      <td>445</td>\n",
       "      <td>860</td>\n",
       "      <td>755</td>\n",
       "      <td>630</td>\n",
       "      <td>500</td>\n",
       "      <td>405</td>\n",
       "      <td>700</td>\n",
       "      <td>370</td>\n",
       "      <td>425</td>\n",
       "    </tr>\n",
       "    <tr>\n",
       "      <th>20</th>\n",
       "      <td>124</td>\n",
       "      <td>0</td>\n",
       "      <td>0</td>\n",
       "      <td>0</td>\n",
       "      <td>Alderwood</td>\n",
       "      <td>12054</td>\n",
       "      <td>2435</td>\n",
       "      <td>2.60</td>\n",
       "      <td>168602</td>\n",
       "      <td>1760</td>\n",
       "      <td>...</td>\n",
       "      <td>185</td>\n",
       "      <td>225</td>\n",
       "      <td>390</td>\n",
       "      <td>355</td>\n",
       "      <td>365</td>\n",
       "      <td>310</td>\n",
       "      <td>265</td>\n",
       "      <td>605</td>\n",
       "      <td>445</td>\n",
       "      <td>470</td>\n",
       "    </tr>\n",
       "    <tr>\n",
       "      <th>95</th>\n",
       "      <td>278</td>\n",
       "      <td>1</td>\n",
       "      <td>1</td>\n",
       "      <td>1</td>\n",
       "      <td>Annex</td>\n",
       "      <td>30526</td>\n",
       "      <td>10863</td>\n",
       "      <td>1.80</td>\n",
       "      <td>792507</td>\n",
       "      <td>2360</td>\n",
       "      <td>...</td>\n",
       "      <td>645</td>\n",
       "      <td>665</td>\n",
       "      <td>1160</td>\n",
       "      <td>1060</td>\n",
       "      <td>820</td>\n",
       "      <td>750</td>\n",
       "      <td>620</td>\n",
       "      <td>1205</td>\n",
       "      <td>780</td>\n",
       "      <td>2765</td>\n",
       "    </tr>\n",
       "    <tr>\n",
       "      <th>42</th>\n",
       "      <td>160</td>\n",
       "      <td>2</td>\n",
       "      <td>0</td>\n",
       "      <td>0</td>\n",
       "      <td>Banbury-Don Mills</td>\n",
       "      <td>27695</td>\n",
       "      <td>2775</td>\n",
       "      <td>2.23</td>\n",
       "      <td>493486</td>\n",
       "      <td>3605</td>\n",
       "      <td>...</td>\n",
       "      <td>555</td>\n",
       "      <td>575</td>\n",
       "      <td>1180</td>\n",
       "      <td>1000</td>\n",
       "      <td>790</td>\n",
       "      <td>690</td>\n",
       "      <td>595</td>\n",
       "      <td>1030</td>\n",
       "      <td>660</td>\n",
       "      <td>1915</td>\n",
       "    </tr>\n",
       "    <tr>\n",
       "      <th>...</th>\n",
       "      <td>...</td>\n",
       "      <td>...</td>\n",
       "      <td>...</td>\n",
       "      <td>...</td>\n",
       "      <td>...</td>\n",
       "      <td>...</td>\n",
       "      <td>...</td>\n",
       "      <td>...</td>\n",
       "      <td>...</td>\n",
       "      <td>...</td>\n",
       "      <td>...</td>\n",
       "      <td>...</td>\n",
       "      <td>...</td>\n",
       "      <td>...</td>\n",
       "      <td>...</td>\n",
       "      <td>...</td>\n",
       "      <td>...</td>\n",
       "      <td>...</td>\n",
       "      <td>...</td>\n",
       "      <td>...</td>\n",
       "      <td>...</td>\n",
       "    </tr>\n",
       "    <tr>\n",
       "      <th>94</th>\n",
       "      <td>141</td>\n",
       "      <td>1</td>\n",
       "      <td>1</td>\n",
       "      <td>0</td>\n",
       "      <td>Wychwood</td>\n",
       "      <td>14349</td>\n",
       "      <td>8541</td>\n",
       "      <td>2.24</td>\n",
       "      <td>239484</td>\n",
       "      <td>1860</td>\n",
       "      <td>...</td>\n",
       "      <td>280</td>\n",
       "      <td>225</td>\n",
       "      <td>500</td>\n",
       "      <td>400</td>\n",
       "      <td>380</td>\n",
       "      <td>305</td>\n",
       "      <td>250</td>\n",
       "      <td>495</td>\n",
       "      <td>310</td>\n",
       "      <td>705</td>\n",
       "    </tr>\n",
       "    <tr>\n",
       "      <th>100</th>\n",
       "      <td>62</td>\n",
       "      <td>0</td>\n",
       "      <td>0</td>\n",
       "      <td>0</td>\n",
       "      <td>Yonge-Eglinton</td>\n",
       "      <td>11817</td>\n",
       "      <td>7162</td>\n",
       "      <td>2.08</td>\n",
       "      <td>222648</td>\n",
       "      <td>1800</td>\n",
       "      <td>...</td>\n",
       "      <td>240</td>\n",
       "      <td>240</td>\n",
       "      <td>475</td>\n",
       "      <td>415</td>\n",
       "      <td>345</td>\n",
       "      <td>255</td>\n",
       "      <td>240</td>\n",
       "      <td>465</td>\n",
       "      <td>320</td>\n",
       "      <td>1135</td>\n",
       "    </tr>\n",
       "    <tr>\n",
       "      <th>97</th>\n",
       "      <td>60</td>\n",
       "      <td>0</td>\n",
       "      <td>0</td>\n",
       "      <td>0</td>\n",
       "      <td>Yonge-St.Clair</td>\n",
       "      <td>12528</td>\n",
       "      <td>10708</td>\n",
       "      <td>1.76</td>\n",
       "      <td>541217</td>\n",
       "      <td>1210</td>\n",
       "      <td>...</td>\n",
       "      <td>330</td>\n",
       "      <td>315</td>\n",
       "      <td>625</td>\n",
       "      <td>475</td>\n",
       "      <td>450</td>\n",
       "      <td>335</td>\n",
       "      <td>305</td>\n",
       "      <td>570</td>\n",
       "      <td>350</td>\n",
       "      <td>1390</td>\n",
       "    </tr>\n",
       "    <tr>\n",
       "      <th>27</th>\n",
       "      <td>864</td>\n",
       "      <td>0</td>\n",
       "      <td>0</td>\n",
       "      <td>0</td>\n",
       "      <td>York University Heights</td>\n",
       "      <td>27593</td>\n",
       "      <td>2086</td>\n",
       "      <td>2.71</td>\n",
       "      <td>302358</td>\n",
       "      <td>4045</td>\n",
       "      <td>...</td>\n",
       "      <td>635</td>\n",
       "      <td>565</td>\n",
       "      <td>1065</td>\n",
       "      <td>870</td>\n",
       "      <td>715</td>\n",
       "      <td>575</td>\n",
       "      <td>435</td>\n",
       "      <td>700</td>\n",
       "      <td>355</td>\n",
       "      <td>320</td>\n",
       "    </tr>\n",
       "    <tr>\n",
       "      <th>31</th>\n",
       "      <td>404</td>\n",
       "      <td>1</td>\n",
       "      <td>1</td>\n",
       "      <td>1</td>\n",
       "      <td>Yorkdale-Glen Park</td>\n",
       "      <td>14804</td>\n",
       "      <td>2451</td>\n",
       "      <td>2.62</td>\n",
       "      <td>213860</td>\n",
       "      <td>1960</td>\n",
       "      <td>...</td>\n",
       "      <td>305</td>\n",
       "      <td>285</td>\n",
       "      <td>500</td>\n",
       "      <td>445</td>\n",
       "      <td>365</td>\n",
       "      <td>290</td>\n",
       "      <td>270</td>\n",
       "      <td>470</td>\n",
       "      <td>280</td>\n",
       "      <td>435</td>\n",
       "    </tr>\n",
       "  </tbody>\n",
       "</table>\n",
       "<p>137 rows × 43 columns</p>\n",
       "</div>"
      ],
      "text/plain": [
       "                cov_counts  hospitalized_counts  ICU_counts  intubated_counts  \\\n",
       "Characteristic                                                                  \n",
       "129                    292                    1           0                 0   \n",
       "128                    204                    1           0                 0   \n",
       "20                     124                    0           0                 0   \n",
       "95                     278                    1           1                 1   \n",
       "42                     160                    2           0                 0   \n",
       "...                    ...                  ...         ...               ...   \n",
       "94                     141                    1           1                 0   \n",
       "100                     62                    0           0                 0   \n",
       "97                      60                    0           0                 0   \n",
       "27                     864                    0           0                 0   \n",
       "31                     404                    1           1                 1   \n",
       "\n",
       "                          Neighbourhood Name  Population, 2016  \\\n",
       "Characteristic                                                   \n",
       "129                          Agincourt North             29113   \n",
       "128             Agincourt South-Malvern West             23757   \n",
       "20                                 Alderwood             12054   \n",
       "95                                     Annex             30526   \n",
       "42                         Banbury-Don Mills             27695   \n",
       "...                                      ...               ...   \n",
       "94                                  Wychwood             14349   \n",
       "100                           Yonge-Eglinton             11817   \n",
       "97                            Yonge-St.Clair             12528   \n",
       "27                   York University Heights             27593   \n",
       "31                        Yorkdale-Glen Park             14804   \n",
       "\n",
       "                Population density per square kilometre  \\\n",
       "Characteristic                                            \n",
       "129                                                3929   \n",
       "128                                                3034   \n",
       "20                                                 2435   \n",
       "95                                                10863   \n",
       "42                                                 2775   \n",
       "...                                                 ...   \n",
       "94                                                 8541   \n",
       "100                                                7162   \n",
       "97                                                10708   \n",
       "27                                                 2086   \n",
       "31                                                 2451   \n",
       "\n",
       "                 Average household size  \\\n",
       "Characteristic                            \n",
       "129                                3.16   \n",
       "128                                2.88   \n",
       "20                                 2.60   \n",
       "95                                 1.80   \n",
       "42                                 2.23   \n",
       "...                                 ...   \n",
       "94                                 2.24   \n",
       "100                                2.08   \n",
       "97                                 1.76   \n",
       "27                                 2.71   \n",
       "31                                 2.62   \n",
       "\n",
       "                  Average after-tax income of households in 2015 ($)  \\\n",
       "Characteristic                                                         \n",
       "129                                                        427037      \n",
       "128                                                        278390      \n",
       "20                                                         168602      \n",
       "95                                                         792507      \n",
       "42                                                         493486      \n",
       "...                                                           ...      \n",
       "94                                                         239484      \n",
       "100                                                        222648      \n",
       "97                                                         541217      \n",
       "27                                                         302358      \n",
       "31                                                         213860      \n",
       "\n",
       "                Children (0-14 years)  ...    $40,000 to $44,999  \\\n",
       "Characteristic                         ...                         \n",
       "129                              3840  ...                   455   \n",
       "128                              3075  ...                   470   \n",
       "20                               1760  ...                   185   \n",
       "95                               2360  ...                   645   \n",
       "42                               3605  ...                   555   \n",
       "...                               ...  ...                   ...   \n",
       "94                               1860  ...                   280   \n",
       "100                              1800  ...                   240   \n",
       "97                               1210  ...                   330   \n",
       "27                               4045  ...                   635   \n",
       "31                               1960  ...                   305   \n",
       "\n",
       "                  $45,000 to $49,999    $50,000 to $59,999  \\\n",
       "Characteristic                                               \n",
       "129                              475                   930   \n",
       "128                              445                   860   \n",
       "20                               225                   390   \n",
       "95                               665                  1160   \n",
       "42                               575                  1180   \n",
       "...                              ...                   ...   \n",
       "94                               225                   500   \n",
       "100                              240                   475   \n",
       "97                               315                   625   \n",
       "27                               565                  1065   \n",
       "31                               285                   500   \n",
       "\n",
       "                  $60,000 to $69,999    $70,000 to $79,999  \\\n",
       "Characteristic                                               \n",
       "129                              755                   695   \n",
       "128                              755                   630   \n",
       "20                               355                   365   \n",
       "95                              1060                   820   \n",
       "42                              1000                   790   \n",
       "...                              ...                   ...   \n",
       "94                               400                   380   \n",
       "100                              415                   345   \n",
       "97                               475                   450   \n",
       "27                               870                   715   \n",
       "31                               445                   365   \n",
       "\n",
       "                  $80,000 to $89,999    $90,000 to $99,999  \\\n",
       "Characteristic                                               \n",
       "129                              640                   500   \n",
       "128                              500                   405   \n",
       "20                               310                   265   \n",
       "95                               750                   620   \n",
       "42                               690                   595   \n",
       "...                              ...                   ...   \n",
       "94                               305                   250   \n",
       "100                              255                   240   \n",
       "97                               335                   305   \n",
       "27                               575                   435   \n",
       "31                               290                   270   \n",
       "\n",
       "                    $100,000 to $124,999      $125,000 to $149,999  \\\n",
       "Characteristic                                                       \n",
       "129                                  935                       465   \n",
       "128                                  700                       370   \n",
       "20                                   605                       445   \n",
       "95                                  1205                       780   \n",
       "42                                  1030                       660   \n",
       "...                                  ...                       ...   \n",
       "94                                   495                       310   \n",
       "100                                  465                       320   \n",
       "97                                   570                       350   \n",
       "27                                   700                       355   \n",
       "31                                   470                       280   \n",
       "\n",
       "                    $150,000 and over  \n",
       "Characteristic                         \n",
       "129                               510  \n",
       "128                               425  \n",
       "20                                470  \n",
       "95                               2765  \n",
       "42                               1915  \n",
       "...                               ...  \n",
       "94                                705  \n",
       "100                              1135  \n",
       "97                               1390  \n",
       "27                                320  \n",
       "31                                435  \n",
       "\n",
       "[137 rows x 43 columns]"
      ]
     },
     "execution_count": 14,
     "metadata": {},
     "output_type": "execute_result"
    }
   ],
   "source": [
    "nbhd_cov # should have 140 rows!"
   ]
  },
  {
   "cell_type": "code",
   "execution_count": 15,
   "metadata": {
    "executionInfo": {
     "elapsed": 1747,
     "status": "ok",
     "timestamp": 1606602087635,
     "user": {
      "displayName": "Wesley Oke",
      "photoUrl": "https://lh3.googleusercontent.com/a-/AOh14GjOGPxN8biLCGhPVIHe3D7qE2skvDMxE_aIkSCpfPg=s64",
      "userId": "09899504844355329451"
     },
     "user_tz": 300
    },
    "id": "3o-RTN8n2h7e"
   },
   "outputs": [],
   "source": [
    "# carry out Linear Regression with single column \"Population\"\n",
    "X = nbhd_cov.iloc[:,5].values.reshape(-1, 1) # convert single column to array as required for model\n",
    "y = nbhd_cov.cov_counts\n",
    "# can compare between normalized and non-normalized\n",
    "nbhdpop_cov_LR = LinearRegression(normalize=True).fit(X, y)"
   ]
  },
  {
   "cell_type": "code",
   "execution_count": 16,
   "metadata": {
    "colab": {
     "base_uri": "https://localhost:8080/"
    },
    "executionInfo": {
     "elapsed": 1740,
     "status": "ok",
     "timestamp": 1606602087636,
     "user": {
      "displayName": "Wesley Oke",
      "photoUrl": "https://lh3.googleusercontent.com/a-/AOh14GjOGPxN8biLCGhPVIHe3D7qE2skvDMxE_aIkSCpfPg=s64",
      "userId": "09899504844355329451"
     },
     "user_tz": 300
    },
    "id": "i7A_y7lx2h7e",
    "outputId": "347c4794-7091-41c3-fd75-cf18ba37ca5d"
   },
   "outputs": [
    {
     "name": "stdout",
     "output_type": "stream",
     "text": [
      "182.6281497662591\n"
     ]
    }
   ],
   "source": [
    "# predict the number of COVID cases in Toronto neighbourhoods based only on Population trend line\n",
    "y_pred = nbhdpop_cov_LR.predict(X)\n",
    "nbhdpop_cov_LR_mse = mean_squared_error(y, y_pred)\n",
    "nbhdpop_cov_LR_rmse = np.sqrt(nbhdpop_cov_LR_mse)\n",
    "print(nbhdpop_cov_LR_rmse)"
   ]
  },
  {
   "cell_type": "code",
   "execution_count": 17,
   "metadata": {
    "colab": {
     "base_uri": "https://localhost:8080/",
     "height": 513
    },
    "executionInfo": {
     "elapsed": 2102,
     "status": "ok",
     "timestamp": 1606602088009,
     "user": {
      "displayName": "Wesley Oke",
      "photoUrl": "https://lh3.googleusercontent.com/a-/AOh14GjOGPxN8biLCGhPVIHe3D7qE2skvDMxE_aIkSCpfPg=s64",
      "userId": "09899504844355329451"
     },
     "user_tz": 300
    },
    "id": "JDho4U-82h7e",
    "outputId": "246ad94d-1cff-433e-e529-8094ac253170"
   },
   "outputs": [
    {
     "data": {
      "image/png": "[encoded data removed]",
      "text/plain": [
       "<Figure size 1152x576 with 1 Axes>"
      ]
     },
     "metadata": {
      "needs_background": "light"
     },
     "output_type": "display_data"
    }
   ],
   "source": [
    "# plot each Neighborhood's COVID count against its population\n",
    "fig, ax = plt.subplots(figsize=(16,8))\n",
    "nbhd_cov.plot.scatter(\"Population, 2016\", \"cov_counts\", ax=ax,\n",
    "                      title='Count of COVID Cases vs. Population for each Toronto Neighbourhood');\n",
    "# plot linear regression trend line\n",
    "plt.plot(X, nbhdpop_cov_LR.predict(X), 'r-');"
   ]
  },
  {
   "cell_type": "code",
   "execution_count": 18,
   "metadata": {
    "executionInfo": {
     "elapsed": 2096,
     "status": "ok",
     "timestamp": 1606602088010,
     "user": {
      "displayName": "Wesley Oke",
      "photoUrl": "https://lh3.googleusercontent.com/a-/AOh14GjOGPxN8biLCGhPVIHe3D7qE2skvDMxE_aIkSCpfPg=s64",
      "userId": "09899504844355329451"
     },
     "user_tz": 300
    },
    "id": "48cqemad2h7e"
   },
   "outputs": [],
   "source": [
    "# carry out Linear Regression with columns 5+\n",
    "X = nbhd_cov.iloc[:,5:] #.dropna(axis=1)\n",
    "y = nbhd_cov.cov_counts\n",
    "# can compare between normalized and non-normalized\n",
    "nbhd_cov_LR = LinearRegression(normalize=True).fit(X, y)"
   ]
  },
  {
   "cell_type": "code",
   "execution_count": 19,
   "metadata": {
    "colab": {
     "base_uri": "https://localhost:8080/"
    },
    "executionInfo": {
     "elapsed": 2091,
     "status": "ok",
     "timestamp": 1606602088011,
     "user": {
      "displayName": "Wesley Oke",
      "photoUrl": "https://lh3.googleusercontent.com/a-/AOh14GjOGPxN8biLCGhPVIHe3D7qE2skvDMxE_aIkSCpfPg=s64",
      "userId": "09899504844355329451"
     },
     "user_tz": 300
    },
    "id": "GfPXQ-t42h7e",
    "outputId": "7c2926bc-35f5-44f5-e85d-c935d6dd8e11"
   },
   "outputs": [
    {
     "name": "stdout",
     "output_type": "stream",
     "text": [
      "87.83990096897456\n"
     ]
    }
   ],
   "source": [
    "# predict  the\n",
    "y_pred = nbhd_cov_LR.predict(X)\n",
    "nbhd_cov_LR_mse = mean_squared_error(y, y_pred)\n",
    "nbhd_cov_LR_rmse = np.sqrt(nbhd_cov_LR_mse)\n",
    "print(nbhd_cov_LR_rmse)"
   ]
  },
  {
   "cell_type": "code",
   "execution_count": null,
   "metadata": {
    "executionInfo": {
     "elapsed": 2084,
     "status": "ok",
     "timestamp": 1606602088011,
     "user": {
      "displayName": "Wesley Oke",
      "photoUrl": "https://lh3.googleusercontent.com/a-/AOh14GjOGPxN8biLCGhPVIHe3D7qE2skvDMxE_aIkSCpfPg=s64",
      "userId": "09899504844355329451"
     },
     "user_tz": 300
    },
    "id": "XpHDGVZv2h7f"
   },
   "outputs": [],
   "source": []
  },
  {
   "cell_type": "markdown",
   "metadata": {
    "id": "31neamN92h7f"
   },
   "source": [
    "Multi-layer Perceptron is sensitive to feature scaling, so it is highly recommended to scale your data. For example, scale each attribute on the input vector X to [0, 1] or [-1, +1], or standardize it to have mean 0 and variance 1. Note that you must apply the same scaling to the test set for meaningful results. You can use StandardScaler for standardization.\n",
    " \n",
    "```\n",
    "from sklearn.preprocessing import StandardScaler  # doctest: +SKIP\n",
    "scaler = StandardScaler()  # doctest: +SKIP\n",
    "# Don't cheat - fit only on training data\n",
    "scaler.fit(X_train)  # doctest: +SKIP\n",
    "X_train = scaler.transform(X_train)  # doctest: +SKIP\n",
    "# apply same transformation to test data\n",
    "X_test = scaler.transform(X_test)  # doctest: +SKIP\n",
    "```\n",
    "\n",
    "An alternative and recommended approach is to use StandardScaler in a Pipeline\n",
    "\n",
    "Finding a reasonable regularization parameter  is best done using GridSearchCV, usually in the range 10.0 ** -np.arange(1, 7).\n",
    "\n",
    "Empirically, we observed that L-BFGS converges faster and with better solutions on small datasets. For relatively large datasets, however, Adam is very robust. It usually converges quickly and gives pretty good performance. SGD with momentum or nesterov’s momentum, on the other hand, can perform better than those two algorithms if learning rate is correctly tuned."
   ]
  },
  {
   "cell_type": "code",
   "execution_count": 20,
   "metadata": {
    "executionInfo": {
     "elapsed": 241,
     "status": "ok",
     "timestamp": 1606602574425,
     "user": {
      "displayName": "Wesley Oke",
      "photoUrl": "https://lh3.googleusercontent.com/a-/AOh14GjOGPxN8biLCGhPVIHe3D7qE2skvDMxE_aIkSCpfPg=s64",
      "userId": "09899504844355329451"
     },
     "user_tz": 300
    },
    "id": "pbJGcXOS2h7f"
   },
   "outputs": [],
   "source": [
    "X_train, X_test, y_train, y_test = train_test_split(X, y)"
   ]
  },
  {
   "cell_type": "code",
   "execution_count": 21,
   "metadata": {
    "executionInfo": {
     "elapsed": 260,
     "status": "ok",
     "timestamp": 1606602576770,
     "user": {
      "displayName": "Wesley Oke",
      "photoUrl": "https://lh3.googleusercontent.com/a-/AOh14GjOGPxN8biLCGhPVIHe3D7qE2skvDMxE_aIkSCpfPg=s64",
      "userId": "09899504844355329451"
     },
     "user_tz": 300
    },
    "id": "6t6LJLIv2h7f"
   },
   "outputs": [],
   "source": [
    "scaler = StandardScaler()\n",
    "# Don't cheat - fit only on training data\n",
    "scaler.fit(X_train)\n",
    "X_train = scaler.transform(X_train)\n",
    "# apply same transformation to test data\n",
    "X_test = scaler.transform(X_test)"
   ]
  },
  {
   "cell_type": "code",
   "execution_count": 22,
   "metadata": {
    "colab": {
     "base_uri": "https://localhost:8080/"
    },
    "executionInfo": {
     "elapsed": 40048,
     "status": "ok",
     "timestamp": 1606602386848,
     "user": {
      "displayName": "Wesley Oke",
      "photoUrl": "https://lh3.googleusercontent.com/a-/AOh14GjOGPxN8biLCGhPVIHe3D7qE2skvDMxE_aIkSCpfPg=s64",
      "userId": "09899504844355329451"
     },
     "user_tz": 300
    },
    "id": "KIyFg6DE2h7f",
    "outputId": "180e0035-8219-4187-b47c-765aa14c0362"
   },
   "outputs": [
    {
     "name": "stderr",
     "output_type": "stream",
     "text": [
      "C:\\ProgramData\\Anaconda3\\lib\\site-packages\\sklearn\\neural_network\\_multilayer_perceptron.py:471: ConvergenceWarning: lbfgs failed to converge (status=1):\n",
      "STOP: TOTAL NO. of f AND g EVALUATIONS EXCEEDS LIMIT.\n",
      "\n",
      "Increase the number of iterations (max_iter) or scale the data as shown in:\n",
      "    https://scikit-learn.org/stable/modules/preprocessing.html\n",
      "  self.n_iter_ = _check_optimize_result(\"lbfgs\", opt_res, self.max_iter)\n",
      "C:\\ProgramData\\Anaconda3\\lib\\site-packages\\sklearn\\neural_network\\_multilayer_perceptron.py:471: ConvergenceWarning: lbfgs failed to converge (status=1):\n",
      "STOP: TOTAL NO. of f AND g EVALUATIONS EXCEEDS LIMIT.\n",
      "\n",
      "Increase the number of iterations (max_iter) or scale the data as shown in:\n",
      "    https://scikit-learn.org/stable/modules/preprocessing.html\n",
      "  self.n_iter_ = _check_optimize_result(\"lbfgs\", opt_res, self.max_iter)\n",
      "C:\\ProgramData\\Anaconda3\\lib\\site-packages\\sklearn\\neural_network\\_multilayer_perceptron.py:471: ConvergenceWarning: lbfgs failed to converge (status=1):\n",
      "STOP: TOTAL NO. of f AND g EVALUATIONS EXCEEDS LIMIT.\n",
      "\n",
      "Increase the number of iterations (max_iter) or scale the data as shown in:\n",
      "    https://scikit-learn.org/stable/modules/preprocessing.html\n",
      "  self.n_iter_ = _check_optimize_result(\"lbfgs\", opt_res, self.max_iter)\n",
      "C:\\ProgramData\\Anaconda3\\lib\\site-packages\\sklearn\\neural_network\\_multilayer_perceptron.py:471: ConvergenceWarning: lbfgs failed to converge (status=1):\n",
      "STOP: TOTAL NO. of f AND g EVALUATIONS EXCEEDS LIMIT.\n",
      "\n",
      "Increase the number of iterations (max_iter) or scale the data as shown in:\n",
      "    https://scikit-learn.org/stable/modules/preprocessing.html\n",
      "  self.n_iter_ = _check_optimize_result(\"lbfgs\", opt_res, self.max_iter)\n",
      "C:\\ProgramData\\Anaconda3\\lib\\site-packages\\sklearn\\neural_network\\_multilayer_perceptron.py:471: ConvergenceWarning: lbfgs failed to converge (status=1):\n",
      "STOP: TOTAL NO. of f AND g EVALUATIONS EXCEEDS LIMIT.\n",
      "\n",
      "Increase the number of iterations (max_iter) or scale the data as shown in:\n",
      "    https://scikit-learn.org/stable/modules/preprocessing.html\n",
      "  self.n_iter_ = _check_optimize_result(\"lbfgs\", opt_res, self.max_iter)\n"
     ]
    },
    {
     "name": "stdout",
     "output_type": "stream",
     "text": [
      "Best parameters set found on development set:\n",
      "{'activation': 'identity', 'alpha': 0.001, 'hidden_layer_sizes': (3, 3), 'solver': 'lbfgs'}\n"
     ]
    }
   ],
   "source": [
    "param_grid = [{'activation' : ['identity', 'logistic', 'tanh', 'relu'],\n",
    "            'solver' : ['lbfgs', 'sgd', 'adam'],\n",
    "            'hidden_layer_sizes': [(1,),(2,),(3,),(4,),(5,),(6,),\n",
    "             (7,),(8,),(9,),(10,),(11,), (12,),(13,),(14,),(15,),\n",
    "            (16,),(17,),(18,),(19,),(20,),(21,)]}]\n",
    "param_grid = [{'activation' : ['identity'],\n",
    "            'solver' : ['lbfgs'], 'alpha' : [0.001, 0.002],\n",
    "            'hidden_layer_sizes': [(1,1),(2,2),(3,3),(5,)]}]\n",
    "clf = GridSearchCV(MLPRegressor(max_iter=100000), param_grid, cv=2, # use cross-validation of 2 b/c data set is small\n",
    "                           scoring='neg_root_mean_squared_error')\n",
    "clf.fit(X,y)\n",
    "\n",
    "print(\"Best parameters set found on development set:\")\n",
    "print(clf.best_params_)"
   ]
  },
  {
   "cell_type": "code",
   "execution_count": 23,
   "metadata": {
    "colab": {
     "base_uri": "https://localhost:8080/"
    },
    "executionInfo": {
     "elapsed": 244,
     "status": "ok",
     "timestamp": 1606602394898,
     "user": {
      "displayName": "Wesley Oke",
      "photoUrl": "https://lh3.googleusercontent.com/a-/AOh14GjOGPxN8biLCGhPVIHe3D7qE2skvDMxE_aIkSCpfPg=s64",
      "userId": "09899504844355329451"
     },
     "user_tz": 300
    },
    "id": "uoPaaOPL2h7f",
    "outputId": "6e8e8d51-e65c-4746-c364-c0e414133eab"
   },
   "outputs": [
    {
     "name": "stdout",
     "output_type": "stream",
     "text": [
      "{'activation': 'identity', 'alpha': 0.001, 'hidden_layer_sizes': (3, 3), 'solver': 'lbfgs'}\n"
     ]
    }
   ],
   "source": [
    "print(clf.best_params_)"
   ]
  },
  {
   "cell_type": "code",
   "execution_count": 24,
   "metadata": {
    "executionInfo": {
     "elapsed": 715,
     "status": "ok",
     "timestamp": 1606602582496,
     "user": {
      "displayName": "Wesley Oke",
      "photoUrl": "https://lh3.googleusercontent.com/a-/AOh14GjOGPxN8biLCGhPVIHe3D7qE2skvDMxE_aIkSCpfPg=s64",
      "userId": "09899504844355329451"
     },
     "user_tz": 300
    },
    "id": "bLFoA3_a2h7f"
   },
   "outputs": [
    {
     "name": "stderr",
     "output_type": "stream",
     "text": [
      "C:\\ProgramData\\Anaconda3\\lib\\site-packages\\sklearn\\neural_network\\_multilayer_perceptron.py:471: ConvergenceWarning: lbfgs failed to converge (status=1):\n",
      "STOP: TOTAL NO. of f AND g EVALUATIONS EXCEEDS LIMIT.\n",
      "\n",
      "Increase the number of iterations (max_iter) or scale the data as shown in:\n",
      "    https://scikit-learn.org/stable/modules/preprocessing.html\n",
      "  self.n_iter_ = _check_optimize_result(\"lbfgs\", opt_res, self.max_iter)\n"
     ]
    }
   ],
   "source": [
    "#nbhd_cov_NN = MLPRegressor(hidden_layer_sizes=(40,40) max_iter=5000, warm_start=True, alpha=0.0001,\n",
    "#                          ).fit(X_train, y_train)\n",
    "# L-BFGS was recommended for small datasets\n",
    "nbhd_cov_NN = MLPRegressor(hidden_layer_sizes=(2,2), solver='lbfgs', max_iter=1000000, alpha=0.001,\n",
    "                          activation='identity').fit(X_train, y_train)"
   ]
  },
  {
   "cell_type": "code",
   "execution_count": 25,
   "metadata": {
    "colab": {
     "base_uri": "https://localhost:8080/"
    },
    "executionInfo": {
     "elapsed": 226,
     "status": "ok",
     "timestamp": 1606602585568,
     "user": {
      "displayName": "Wesley Oke",
      "photoUrl": "https://lh3.googleusercontent.com/a-/AOh14GjOGPxN8biLCGhPVIHe3D7qE2skvDMxE_aIkSCpfPg=s64",
      "userId": "09899504844355329451"
     },
     "user_tz": 300
    },
    "id": "u3nf5Aop2h7f",
    "outputId": "6935f695-8b5e-4a29-d37a-8500852e0832"
   },
   "outputs": [
    {
     "name": "stdout",
     "output_type": "stream",
     "text": [
      "82.02428353044726\n"
     ]
    }
   ],
   "source": [
    "y_train_pred = nbhd_cov_NN.predict(X_train)\n",
    "nbhd_cov_NN_mse = mean_squared_error(y_train, y_train_pred)\n",
    "nbhd_cov_NN_rmse = np.sqrt(nbhd_cov_NN_mse)\n",
    "print(nbhd_cov_NN_rmse)"
   ]
  },
  {
   "cell_type": "code",
   "execution_count": 26,
   "metadata": {
    "colab": {
     "base_uri": "https://localhost:8080/"
    },
    "executionInfo": {
     "elapsed": 243,
     "status": "ok",
     "timestamp": 1606602587343,
     "user": {
      "displayName": "Wesley Oke",
      "photoUrl": "https://lh3.googleusercontent.com/a-/AOh14GjOGPxN8biLCGhPVIHe3D7qE2skvDMxE_aIkSCpfPg=s64",
      "userId": "09899504844355329451"
     },
     "user_tz": 300
    },
    "id": "KXzl3T9l2h7f",
    "outputId": "ba5dfba5-32f7-4906-8cff-e89564b93f5a"
   },
   "outputs": [
    {
     "name": "stdout",
     "output_type": "stream",
     "text": [
      "144.85940182238127\n"
     ]
    }
   ],
   "source": [
    "y_test_pred = nbhd_cov_NN.predict(X_test)\n",
    "nbhd_cov_NN_mse = mean_squared_error(y_test, y_test_pred)\n",
    "nbhd_cov_NN_rmse = np.sqrt(nbhd_cov_NN_mse)\n",
    "print(nbhd_cov_NN_rmse)"
   ]
  },
  {
   "cell_type": "code",
   "execution_count": null,
   "metadata": {
    "executionInfo": {
     "elapsed": 7740,
     "status": "aborted",
     "timestamp": 1606602093717,
     "user": {
      "displayName": "Wesley Oke",
      "photoUrl": "https://lh3.googleusercontent.com/a-/AOh14GjOGPxN8biLCGhPVIHe3D7qE2skvDMxE_aIkSCpfPg=s64",
      "userId": "09899504844355329451"
     },
     "user_tz": 300
    },
    "id": "4_d_JzHr8S5S"
   },
   "outputs": [],
   "source": []
  }
 ],
 "metadata": {
  "colab": {
   "collapsed_sections": [],
   "name": "covid_nbhood_ML_wes.ipynb",
   "provenance": []
  },
  "kernelspec": {
   "display_name": "Python 3",
   "language": "python",
   "name": "python3"
  },
  "language_info": {
   "codemirror_mode": {
    "name": "ipython",
    "version": 3
   },
   "file_extension": ".py",
   "mimetype": "text/x-python",
   "name": "python",
   "nbconvert_exporter": "python",
   "pygments_lexer": "ipython3",
   "version": "3.8.3"
  }
 },
 "nbformat": 4,
 "nbformat_minor": 4
}
